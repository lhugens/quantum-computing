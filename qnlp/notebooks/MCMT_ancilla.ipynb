{
 "cells": [
  {
   "cell_type": "code",
   "execution_count": 24,
   "id": "cb746160",
   "metadata": {
    "ExecuteTime": {
     "end_time": "2021-12-22T14:26:25.960626Z",
     "start_time": "2021-12-22T14:26:25.948242Z"
    }
   },
   "outputs": [],
   "source": [
    "from importlib import reload\n",
    "from copy import deepcopy\n",
    "import numpy as np\n",
    "import matplotlib.pyplot as plt\n",
    "\n",
    "import qiskit as qk\n",
    "from qiskit import IBMQ\n",
    "from qiskit import QuantumRegister, ClassicalRegister, QuantumCircuit\n",
    "from qiskit import transpile, execute\n",
    "from qiskit.tools.monitor import job_monitor\n",
    "from qiskit.providers.aer import QasmSimulator\n",
    "from qiskit.providers.ibmq.managed import IBMQJobManager\n",
    "from qiskit.circuit.library import HGate, CXGate, XGate, MCMTVChain, MCMT"
   ]
  },
  {
   "cell_type": "code",
   "execution_count": 2,
   "id": "bd2b7289",
   "metadata": {
    "ExecuteTime": {
     "end_time": "2021-12-22T12:30:14.599665Z",
     "start_time": "2021-12-22T12:30:14.587569Z"
    }
   },
   "outputs": [],
   "source": [
    "import tools as t\n",
    "reload(t)\n",
    "from tools import counts, probs, job_id, list_jobs"
   ]
  },
  {
   "cell_type": "code",
   "execution_count": 3,
   "id": "de1457c5",
   "metadata": {
    "ExecuteTime": {
     "end_time": "2021-12-22T12:30:28.132320Z",
     "start_time": "2021-12-22T12:30:22.939935Z"
    }
   },
   "outputs": [],
   "source": [
    "IBMQ.load_account()\n",
    "provider = IBMQ.get_provider(hub='ibm-q')\n",
    "sim = qk.Aer.get_backend('qasm_simulator')\n",
    "manila = provider.get_backend('ibmq_manila')\n",
    "manila_sim = QasmSimulator.from_backend(manila)"
   ]
  },
  {
   "cell_type": "code",
   "execution_count": 4,
   "id": "3c17129f",
   "metadata": {
    "ExecuteTime": {
     "end_time": "2021-12-19T12:57:31.310533Z",
     "start_time": "2021-12-19T12:57:30.666176Z"
    }
   },
   "outputs": [
    {
     "name": "stdout",
     "output_type": "stream",
     "text": [
      "  0 2021-12-19 11:42:09 61bf1a91d6d3bc2d77d2b7f0 DONE\n",
      "  1 2021-12-18 22:20:41 61be5eb92ac6dd773a4c8000 DONE\n",
      "  2 2021-12-18 21:58:55 61be599f06351995b9a7a90e DONE\n",
      "  3 2021-12-18 21:57:29 61be594973db890f4e671990 DONE\n",
      "  4 2021-12-18 21:34:44 61be53f40e8ecb52391998aa DONE\n",
      "  5 2021-12-18 21:32:59 61be538b73db89471f671985 DONE\n",
      "  6 2021-12-18 21:31:56 61be534d0635193098a7a8fc DONE\n",
      "  7 2021-12-18 21:30:15 61be52e7049a230a26d1990a DONE\n",
      "  8 2021-12-18 21:26:53 61be521d0e8ecb78e01998a4 DONE\n",
      "  9 2021-12-18 19:41:28 61be3968e8670011df9fee07 DONE\n"
     ]
    }
   ],
   "source": [
    "list_jobs(manila)"
   ]
  },
  {
   "cell_type": "code",
   "execution_count": 5,
   "id": "20d86057",
   "metadata": {
    "ExecuteTime": {
     "end_time": "2021-12-19T12:57:31.753799Z",
     "start_time": "2021-12-19T12:57:31.316621Z"
    }
   },
   "outputs": [
    {
     "name": "stdout",
     "output_type": "stream",
     "text": [
      "Figure(507.997x325.08)\n",
      "Figure(417.879x264.88)\n"
     ]
    },
    {
     "data": {
      "image/png": "[encoded data removed]",
      "text/plain": [
       "<Figure size 507.997x325.08 with 1 Axes>"
      ]
     },
     "metadata": {},
     "output_type": "display_data"
    },
    {
     "data": {
      "image/png": "[encoded data removed]",
      "text/plain": [
       "<Figure size 417.879x264.88 with 1 Axes>"
      ]
     },
     "metadata": {},
     "output_type": "display_data"
    }
   ],
   "source": [
    "qr0 = QuantumRegister(4, 'q')\n",
    "cr0 = ClassicalRegister(3, 'c')\n",
    "qc0 = QuantumCircuit(qr0, cr0)\n",
    "qc0.compose(MCMTVChain('x', 2, 1), inplace=True)\n",
    "qc0.barrier()\n",
    "qc0.measure(qr0[:3], cr0)\n",
    "print(qc0.draw(output='mpl'))\n",
    "\n",
    "qc1 = MCMT('x', 2, 1)\n",
    "qc1.measure_all()\n",
    "print(qc1.draw(output='mpl'))"
   ]
  },
  {
   "cell_type": "code",
   "execution_count": 6,
   "id": "eccd64bb",
   "metadata": {
    "ExecuteTime": {
     "end_time": "2021-12-19T12:57:31.954748Z",
     "start_time": "2021-12-19T12:57:31.754915Z"
    }
   },
   "outputs": [
    {
     "name": "stdout",
     "output_type": "stream",
     "text": [
      "{'000': 20000}\n",
      "{'000': 20000}\n"
     ]
    }
   ],
   "source": [
    "print(counts(execute(qc0, backend=sim, shots=20000)))\n",
    "print(counts(execute(qc1, backend=sim, shots=20000)))"
   ]
  },
  {
   "cell_type": "code",
   "execution_count": 7,
   "id": "4434292c",
   "metadata": {
    "ExecuteTime": {
     "end_time": "2021-12-19T12:57:32.063167Z",
     "start_time": "2021-12-19T12:57:31.956052Z"
    }
   },
   "outputs": [
    {
     "ename": "NameError",
     "evalue": "name 'job' is not defined",
     "output_type": "error",
     "traceback": [
      "\u001b[0;31m---------------------------------------------------------------------------\u001b[0m",
      "\u001b[0;31mNameError\u001b[0m                                 Traceback (most recent call last)",
      "\u001b[0;32m/tmp/ipykernel_35746/3108477546.py\u001b[0m in \u001b[0;36m<module>\u001b[0;34m\u001b[0m\n\u001b[1;32m      1\u001b[0m \u001b[0;31m# job = execute([qc0, qc1], backend=manila, shots=20000)\u001b[0m\u001b[0;34m\u001b[0m\u001b[0;34m\u001b[0m\u001b[0m\n\u001b[0;32m----> 2\u001b[0;31m \u001b[0mjob_id\u001b[0m\u001b[0;34m(\u001b[0m\u001b[0mjob\u001b[0m\u001b[0;34m)\u001b[0m\u001b[0;34m\u001b[0m\u001b[0;34m\u001b[0m\u001b[0m\n\u001b[0m",
      "\u001b[0;31mNameError\u001b[0m: name 'job' is not defined"
     ]
    }
   ],
   "source": [
    "# job = execute([qc0, qc1], backend=manila, shots=20000)\n",
    "job_id(job)"
   ]
  },
  {
   "cell_type": "code",
   "execution_count": null,
   "id": "7a84adcd",
   "metadata": {
    "ExecuteTime": {
     "end_time": "2021-12-19T12:57:32.065645Z",
     "start_time": "2021-12-19T12:57:32.065635Z"
    }
   },
   "outputs": [],
   "source": [
    "c0, c1 = counts(manila.retrieve_job('61bf1a91d6d3bc2d77d2b7f0'))\n",
    "print(f'c0 prob of bit error {sum(probs(c0)[1:])*100:.2f}%')\n",
    "print(f'c1 prob of bit error {sum(probs(c1)[1:])*100:.2f}%')"
   ]
  },
  {
   "cell_type": "code",
   "execution_count": null,
   "id": "d5e5e5e6",
   "metadata": {
    "ExecuteTime": {
     "end_time": "2021-12-19T12:57:32.066283Z",
     "start_time": "2021-12-19T12:57:32.066273Z"
    }
   },
   "outputs": [],
   "source": [
    "transpiled0, transpiled1 = job.circuits()\n",
    "print(transpiled0.draw(output='mpl'))\n",
    "print(transpiled1.draw(output='mpl'))"
   ]
  },
  {
   "cell_type": "code",
   "execution_count": null,
   "id": "5e865c6a",
   "metadata": {
    "ExecuteTime": {
     "end_time": "2021-12-19T12:57:32.068035Z",
     "start_time": "2021-12-19T12:57:32.068024Z"
    },
    "scrolled": false
   },
   "outputs": [],
   "source": [
    "print(MCMTVChain('x', 2, 1).draw(output='mpl'))\n",
    "print(MCMTVChain('x', 4, 1).draw(output='mpl'))\n",
    "print(MCMTVChain('x', 5, 1).draw(output='mpl'))\n",
    "print(MCMTVChain('x', 6, 1).draw(output='mpl'))"
   ]
  },
  {
   "cell_type": "code",
   "execution_count": null,
   "id": "0d1b2e78",
   "metadata": {
    "ExecuteTime": {
     "end_time": "2021-12-19T12:57:32.068593Z",
     "start_time": "2021-12-19T12:57:32.068583Z"
    }
   },
   "outputs": [],
   "source": [
    "MCMTVChain('x', 6, 1).decompose().decompose().depth()"
   ]
  },
  {
   "cell_type": "code",
   "execution_count": 41,
   "id": "7f7dbb8a",
   "metadata": {
    "ExecuteTime": {
     "end_time": "2021-12-22T14:35:32.498319Z",
     "start_time": "2021-12-22T14:35:32.479917Z"
    }
   },
   "outputs": [],
   "source": [
    "def max_depth(qc):\n",
    "    last_depth = 0\n",
    "    for i in range(3):\n",
    "        qc = qc.decompose()\n",
    "        depth = qc.depth()\n",
    "        if depth == last_depth:\n",
    "            break\n",
    "    return depth\n",
    "\n",
    "def max_decompose(qc):\n",
    "    last_depth = 0\n",
    "    for i in range(3):\n",
    "        qc = qc.decompose()\n",
    "        depth = qc.depth()\n",
    "        if depth == last_depth:\n",
    "            break\n",
    "    return qc"
   ]
  },
  {
   "cell_type": "code",
   "execution_count": null,
   "id": "44c7d292",
   "metadata": {
    "ExecuteTime": {
     "end_time": "2021-12-19T12:57:32.070244Z",
     "start_time": "2021-12-19T12:57:32.070229Z"
    }
   },
   "outputs": [],
   "source": [
    "qc = MCMTVChain('x', 6, 1)\n",
    "qc = qc.decompose()"
   ]
  },
  {
   "cell_type": "code",
   "execution_count": null,
   "id": "7f8375f6",
   "metadata": {
    "ExecuteTime": {
     "end_time": "2021-12-19T12:57:32.071395Z",
     "start_time": "2021-12-19T12:57:32.071383Z"
    }
   },
   "outputs": [],
   "source": [
    "max_depth(MCMTVChain('x', 6, 1))"
   ]
  },
  {
   "cell_type": "code",
   "execution_count": null,
   "id": "076f3973",
   "metadata": {
    "ExecuteTime": {
     "end_time": "2021-12-19T12:57:32.072024Z",
     "start_time": "2021-12-19T12:57:32.072013Z"
    }
   },
   "outputs": [],
   "source": [
    "max_depth(MCMT('x', 6, 1))"
   ]
  },
  {
   "cell_type": "code",
   "execution_count": 29,
   "id": "fb6f49ba",
   "metadata": {
    "ExecuteTime": {
     "end_time": "2021-12-19T12:59:44.391326Z",
     "start_time": "2021-12-19T12:59:43.660564Z"
    }
   },
   "outputs": [],
   "source": [
    "N = 12\n",
    "control_bits = np.arange(1, N, dtype=int)\n",
    "depths_mcmt = np.zeros(len(control_bits), dtype=int)\n",
    "depths_mcmtvchain = np.zeros(len(control_bits), dtype=int)\n",
    "for i in range(1, N):\n",
    "    depths_mcmt[i-1] = max_depth(MCMT('x', i, 1))\n",
    "    depths_mcmtvchain[i-1] = max_depth(MCMTVChain('x', i, 1))"
   ]
  },
  {
   "cell_type": "code",
   "execution_count": 30,
   "id": "b323178c",
   "metadata": {
    "ExecuteTime": {
     "end_time": "2021-12-19T12:59:45.018693Z",
     "start_time": "2021-12-19T12:59:44.915087Z"
    }
   },
   "outputs": [
    {
     "data": {
      "text/plain": [
       "[<matplotlib.lines.Line2D at 0x7fe71552c7c0>]"
      ]
     },
     "execution_count": 30,
     "metadata": {},
     "output_type": "execute_result"
    },
    {
     "data": {
      "image/png": "[encoded data removed]",
      "text/plain": [
       "<Figure size 432x288 with 1 Axes>"
      ]
     },
     "metadata": {
      "needs_background": "light"
     },
     "output_type": "display_data"
    }
   ],
   "source": [
    "plt.plot(control_bits, depths_mcmt, 'o')\n",
    "plt.plot(control_bits, depths_mcmtvchain, 'o')"
   ]
  },
  {
   "cell_type": "code",
   "execution_count": 10,
   "id": "65b8a9a4",
   "metadata": {
    "ExecuteTime": {
     "end_time": "2021-12-22T14:11:55.051828Z",
     "start_time": "2021-12-22T14:11:55.018845Z"
    }
   },
   "outputs": [
    {
     "data": {
      "text/plain": [
       "27"
      ]
     },
     "execution_count": 10,
     "metadata": {},
     "output_type": "execute_result"
    }
   ],
   "source": [
    "max_depth(MCMT('x', 3, 1))"
   ]
  },
  {
   "cell_type": "code",
   "execution_count": 11,
   "id": "d7744bc3",
   "metadata": {
    "ExecuteTime": {
     "end_time": "2021-12-22T14:14:43.364114Z",
     "start_time": "2021-12-22T14:14:43.353242Z"
    }
   },
   "outputs": [
    {
     "name": "stdout",
     "output_type": "stream",
     "text": [
      "13\n"
     ]
    }
   ],
   "source": [
    "n = 4\n",
    "print(2**(n-1)-1+2**(n-1)-2)"
   ]
  },
  {
   "cell_type": "code",
   "execution_count": 16,
   "id": "38d674b9",
   "metadata": {
    "ExecuteTime": {
     "end_time": "2021-12-22T14:23:01.213290Z",
     "start_time": "2021-12-22T14:23:01.193943Z"
    }
   },
   "outputs": [
    {
     "data": {
      "text/html": [
       "<pre style=\"word-wrap: normal;white-space: pre;background: #fff0;line-height: 1.1;font-family: &quot;Courier New&quot;,Courier,monospace\">    ┌────────┐\n",
       "q3: ┤ x^0.25 ├\n",
       "    └────────┘</pre>"
      ],
      "text/plain": [
       "    ┌────────┐\n",
       "q3: ┤ x^0.25 ├\n",
       "    └────────┘"
      ]
     },
     "execution_count": 16,
     "metadata": {},
     "output_type": "execute_result"
    }
   ],
   "source": [
    "qr = QuantumRegister(1)\n",
    "qc = QuantumCircuit(qr)\n",
    "qc.append(XGate().power(1/4), qr)\n",
    "qc.draw()"
   ]
  },
  {
   "cell_type": "code",
   "execution_count": 34,
   "id": "9964c939",
   "metadata": {
    "ExecuteTime": {
     "end_time": "2021-12-22T14:29:28.696939Z",
     "start_time": "2021-12-22T14:29:28.614210Z"
    }
   },
   "outputs": [
    {
     "data": {
      "text/html": [
       "<pre style=\"word-wrap: normal;white-space: pre;background: #fff0;line-height: 1.1;font-family: &quot;Courier New&quot;,Courier,monospace\">                                                                           »\n",
       "q_0: ────■───────■──────────────■─────────────────────────────■────────────»\n",
       "         │     ┌─┴─┐          ┌─┴─┐                           │            »\n",
       "q_1: ────┼─────┤ X ├────■─────┤ X ├────■───────■──────────────┼────────────»\n",
       "         │     └───┘    │     └───┘    │     ┌─┴─┐          ┌─┴─┐          »\n",
       "q_2: ────┼──────────────┼──────────────┼─────┤ X ├────■─────┤ X ├────■─────»\n",
       "     ┌───┴────┐     ┌───┴────┐     ┌───┴────┐└───┘┌───┴────┐└───┘┌───┴────┐»\n",
       "q_3: ┤ x^0.25 ├─────┤ x^0.25 ├─────┤ x^0.25 ├─────┤ x^0.25 ├─────┤ x^0.25 ├»\n",
       "     └────────┘     └────────┘     └────────┘     └────────┘     └────────┘»\n",
       "«                                   \n",
       "«q_0: ─────────────────■────────────\n",
       "«                      │            \n",
       "«q_1: ──■──────────────┼────────────\n",
       "«     ┌─┴─┐          ┌─┴─┐          \n",
       "«q_2: ┤ X ├────■─────┤ X ├────■─────\n",
       "«     └───┘┌───┴────┐└───┘┌───┴────┐\n",
       "«q_3: ─────┤ x^0.25 ├─────┤ x^0.25 ├\n",
       "«          └────────┘     └────────┘</pre>"
      ],
      "text/plain": [
       "                                                                           »\n",
       "q_0: ────■───────■──────────────■─────────────────────────────■────────────»\n",
       "         │     ┌─┴─┐          ┌─┴─┐                           │            »\n",
       "q_1: ────┼─────┤ X ├────■─────┤ X ├────■───────■──────────────┼────────────»\n",
       "         │     └───┘    │     └───┘    │     ┌─┴─┐          ┌─┴─┐          »\n",
       "q_2: ────┼──────────────┼──────────────┼─────┤ X ├────■─────┤ X ├────■─────»\n",
       "     ┌───┴────┐     ┌───┴────┐     ┌───┴────┐└───┘┌───┴────┐└───┘┌───┴────┐»\n",
       "q_3: ┤ x^0.25 ├─────┤ x^0.25 ├─────┤ x^0.25 ├─────┤ x^0.25 ├─────┤ x^0.25 ├»\n",
       "     └────────┘     └────────┘     └────────┘     └────────┘     └────────┘»\n",
       "«                                   \n",
       "«q_0: ─────────────────■────────────\n",
       "«                      │            \n",
       "«q_1: ──■──────────────┼────────────\n",
       "«     ┌─┴─┐          ┌─┴─┐          \n",
       "«q_2: ┤ X ├────■─────┤ X ├────■─────\n",
       "«     └───┘┌───┴────┐└───┘┌───┴────┐\n",
       "«q_3: ─────┤ x^0.25 ├─────┤ x^0.25 ├\n",
       "«          └────────┘     └────────┘"
      ]
     },
     "execution_count": 34,
     "metadata": {},
     "output_type": "execute_result"
    }
   ],
   "source": [
    "qr = QuantumRegister(4, 'q')\n",
    "qc = QuantumCircuit(qr)\n",
    "V = XGate().power(1/4).control(1)\n",
    "Vdag = XGate().power(1/4).reverse_ops().control(1)\n",
    "qc.compose(V, [0, 3], inplace=True)\n",
    "qc.cx(0, 1)\n",
    "qc.compose(Vdag, [1, 3], inplace=True)\n",
    "qc.cx(0, 1)\n",
    "qc.compose(V, [1, 3], inplace=True)\n",
    "qc.cx(1, 2)\n",
    "qc.compose(Vdag, [2, 3], inplace=True)\n",
    "qc.cx(0, 2)\n",
    "qc.compose(V, [2, 3], inplace=True)\n",
    "qc.cx(1, 2)\n",
    "qc.compose(Vdag, [2, 3], inplace=True)\n",
    "qc.cx(0, 2)\n",
    "qc.compose(V, [2, 3], inplace=True)\n",
    "qc.draw()"
   ]
  },
  {
   "cell_type": "code",
   "execution_count": 35,
   "id": "3f58d2e6",
   "metadata": {
    "ExecuteTime": {
     "end_time": "2021-12-22T14:30:48.688286Z",
     "start_time": "2021-12-22T14:30:48.464299Z"
    }
   },
   "outputs": [
    {
     "data": {
      "text/plain": [
       "62"
      ]
     },
     "execution_count": 35,
     "metadata": {},
     "output_type": "execute_result"
    }
   ],
   "source": [
    "max_depth(qc)"
   ]
  },
  {
   "cell_type": "code",
   "execution_count": 36,
   "id": "e7640425",
   "metadata": {
    "ExecuteTime": {
     "end_time": "2021-12-22T14:31:15.051552Z",
     "start_time": "2021-12-22T14:31:15.026110Z"
    }
   },
   "outputs": [
    {
     "data": {
      "text/plain": [
       "27"
      ]
     },
     "execution_count": 36,
     "metadata": {},
     "output_type": "execute_result"
    }
   ],
   "source": [
    "max_depth(MCMT('x', 3, 1))"
   ]
  },
  {
   "cell_type": "code",
   "execution_count": 37,
   "id": "056a42de",
   "metadata": {
    "ExecuteTime": {
     "end_time": "2021-12-22T14:31:22.062606Z",
     "start_time": "2021-12-22T14:31:22.006659Z"
    }
   },
   "outputs": [
    {
     "data": {
      "text/html": [
       "<pre style=\"word-wrap: normal;white-space: pre;background: #fff0;line-height: 1.1;font-family: &quot;Courier New&quot;,Courier,monospace\">                                                                           »\n",
       "q_0: ────■───────■──────────────■─────────────────────────────■────────────»\n",
       "         │     ┌─┴─┐          ┌─┴─┐                           │            »\n",
       "q_1: ────┼─────┤ X ├────■─────┤ X ├────■───────■──────────────┼────────────»\n",
       "         │     └───┘    │     └───┘    │     ┌─┴─┐          ┌─┴─┐          »\n",
       "q_2: ────┼──────────────┼──────────────┼─────┤ X ├────■─────┤ X ├────■─────»\n",
       "     ┌───┴────┐     ┌───┴────┐     ┌───┴────┐└───┘┌───┴────┐└───┘┌───┴────┐»\n",
       "q_3: ┤ x^0.25 ├─────┤ x^0.25 ├─────┤ x^0.25 ├─────┤ x^0.25 ├─────┤ x^0.25 ├»\n",
       "     └────────┘     └────────┘     └────────┘     └────────┘     └────────┘»\n",
       "«                                   \n",
       "«q_0: ─────────────────■────────────\n",
       "«                      │            \n",
       "«q_1: ──■──────────────┼────────────\n",
       "«     ┌─┴─┐          ┌─┴─┐          \n",
       "«q_2: ┤ X ├────■─────┤ X ├────■─────\n",
       "«     └───┘┌───┴────┐└───┘┌───┴────┐\n",
       "«q_3: ─────┤ x^0.25 ├─────┤ x^0.25 ├\n",
       "«          └────────┘     └────────┘</pre>"
      ],
      "text/plain": [
       "                                                                           »\n",
       "q_0: ────■───────■──────────────■─────────────────────────────■────────────»\n",
       "         │     ┌─┴─┐          ┌─┴─┐                           │            »\n",
       "q_1: ────┼─────┤ X ├────■─────┤ X ├────■───────■──────────────┼────────────»\n",
       "         │     └───┘    │     └───┘    │     ┌─┴─┐          ┌─┴─┐          »\n",
       "q_2: ────┼──────────────┼──────────────┼─────┤ X ├────■─────┤ X ├────■─────»\n",
       "     ┌───┴────┐     ┌───┴────┐     ┌───┴────┐└───┘┌───┴────┐└───┘┌───┴────┐»\n",
       "q_3: ┤ x^0.25 ├─────┤ x^0.25 ├─────┤ x^0.25 ├─────┤ x^0.25 ├─────┤ x^0.25 ├»\n",
       "     └────────┘     └────────┘     └────────┘     └────────┘     └────────┘»\n",
       "«                                   \n",
       "«q_0: ─────────────────■────────────\n",
       "«                      │            \n",
       "«q_1: ──■──────────────┼────────────\n",
       "«     ┌─┴─┐          ┌─┴─┐          \n",
       "«q_2: ┤ X ├────■─────┤ X ├────■─────\n",
       "«     └───┘┌───┴────┐└───┘┌───┴────┐\n",
       "«q_3: ─────┤ x^0.25 ├─────┤ x^0.25 ├\n",
       "«          └────────┘     └────────┘"
      ]
     },
     "execution_count": 37,
     "metadata": {},
     "output_type": "execute_result"
    }
   ],
   "source": [
    "qc.draw()"
   ]
  },
  {
   "cell_type": "code",
   "execution_count": 40,
   "id": "1dcdeb12",
   "metadata": {
    "ExecuteTime": {
     "end_time": "2021-12-22T14:31:46.792863Z",
     "start_time": "2021-12-22T14:31:46.662160Z"
    },
    "scrolled": false
   },
   "outputs": [
    {
     "data": {
      "text/html": [
       "<pre style=\"word-wrap: normal;white-space: pre;background: #fff0;line-height: 1.1;font-family: &quot;Courier New&quot;,Courier,monospace\">global phase: 3π/2\n",
       "     »\n",
       "q_0: »\n",
       "     »\n",
       "q_1: »\n",
       "     »\n",
       "q_2: »\n",
       "     »\n",
       "q_3: »\n",
       "     »\n",
       "«     ┌─────────────────────────────────────────────────────────────────────────────────┐»\n",
       "«q_0: ┤0                                                                                ├»\n",
       "«     │                                                                                 │»\n",
       "«q_1: ┤                                                                                 ├»\n",
       "«     │  Diagonal(-0.80321+0.5957j,-0.9988-0.049068j,0.94154+0.33689j,-0.5141-0.85773j) │»\n",
       "«q_2: ┤                                                                                 ├»\n",
       "«     │                                                                                 │»\n",
       "«q_3: ┤1                                                                                ├»\n",
       "«     └─────────────────────────────────────────────────────────────────────────────────┘»\n",
       "«     ┌─────────────────┐┌───────────────┐┌─────────────────┐     »\n",
       "«q_0: ┤0                ├┤1              ├┤0                ├──■──»\n",
       "«     │                 ││               ││                 │┌─┴─┐»\n",
       "«q_1: ┤                 ├┤               ├┤                 ├┤ X ├»\n",
       "«     │  multiplexer_dg ││  MCGupDiag_dg ││  multiplexer_dg │└───┘»\n",
       "«q_2: ┤                 ├┤               ├┤                 ├─────»\n",
       "«     │                 ││               ││                 │     »\n",
       "«q_3: ┤1                ├┤0              ├┤1                ├─────»\n",
       "«     └─────────────────┘└───────────────┘└─────────────────┘     »\n",
       "«                                                                                        »\n",
       "«q_0: ───────────────────────────────────────────────────────────────────────────────────»\n",
       "«     ┌─────────────────────────────────────────────────────────────────────────────────┐»\n",
       "«q_1: ┤0                                                                                ├»\n",
       "«     │                                                                                 │»\n",
       "«q_2: ┤  Diagonal(-0.80321+0.5957j,-0.9988-0.049068j,0.94154+0.33689j,-0.5141-0.85773j) ├»\n",
       "«     │                                                                                 │»\n",
       "«q_3: ┤1                                                                                ├»\n",
       "«     └─────────────────────────────────────────────────────────────────────────────────┘»\n",
       "«                                                                 »\n",
       "«q_0: ─────────────────────────────────────────────────────────■──»\n",
       "«     ┌─────────────────┐┌───────────────┐┌─────────────────┐┌─┴─┐»\n",
       "«q_1: ┤0                ├┤1              ├┤0                ├┤ X ├»\n",
       "«     │                 ││               ││                 │└───┘»\n",
       "«q_2: ┤  multiplexer_dg ├┤  MCGupDiag_dg ├┤  multiplexer_dg ├─────»\n",
       "«     │                 ││               ││                 │     »\n",
       "«q_3: ┤1                ├┤0              ├┤1                ├─────»\n",
       "«     └─────────────────┘└───────────────┘└─────────────────┘     »\n",
       "«                                                                                        »\n",
       "«q_0: ───────────────────────────────────────────────────────────────────────────────────»\n",
       "«     ┌─────────────────────────────────────────────────────────────────────────────────┐»\n",
       "«q_1: ┤0                                                                                ├»\n",
       "«     │                                                                                 │»\n",
       "«q_2: ┤  Diagonal(-0.80321+0.5957j,-0.9988-0.049068j,0.94154+0.33689j,-0.5141-0.85773j) ├»\n",
       "«     │                                                                                 │»\n",
       "«q_3: ┤1                                                                                ├»\n",
       "«     └─────────────────────────────────────────────────────────────────────────────────┘»\n",
       "«                                                                 »\n",
       "«q_0: ────────────────────────────────────────────────────────────»\n",
       "«     ┌─────────────────┐┌───────────────┐┌─────────────────┐     »\n",
       "«q_1: ┤0                ├┤1              ├┤0                ├──■──»\n",
       "«     │                 ││               ││                 │┌─┴─┐»\n",
       "«q_2: ┤  multiplexer_dg ├┤  MCGupDiag_dg ├┤  multiplexer_dg ├┤ X ├»\n",
       "«     │                 ││               ││                 │└───┘»\n",
       "«q_3: ┤1                ├┤0              ├┤1                ├─────»\n",
       "«     └─────────────────┘└───────────────┘└─────────────────┘     »\n",
       "«                                                                                        »\n",
       "«q_0: ───────────────────────────────────────────────────────────────────────────────────»\n",
       "«                                                                                        »\n",
       "«q_1: ───────────────────────────────────────────────────────────────────────────────────»\n",
       "«     ┌─────────────────────────────────────────────────────────────────────────────────┐»\n",
       "«q_2: ┤0                                                                                ├»\n",
       "«     │  Diagonal(-0.80321+0.5957j,-0.9988-0.049068j,0.94154+0.33689j,-0.5141-0.85773j) │»\n",
       "«q_3: ┤1                                                                                ├»\n",
       "«     └─────────────────────────────────────────────────────────────────────────────────┘»\n",
       "«                                                                 »\n",
       "«q_0: ─────────────────────────────────────────────────────────■──»\n",
       "«                                                              │  »\n",
       "«q_1: ─────────────────────────────────────────────────────────┼──»\n",
       "«     ┌─────────────────┐┌───────────────┐┌─────────────────┐┌─┴─┐»\n",
       "«q_2: ┤0                ├┤1              ├┤0                ├┤ X ├»\n",
       "«     │  multiplexer_dg ││  MCGupDiag_dg ││  multiplexer_dg │└───┘»\n",
       "«q_3: ┤1                ├┤0              ├┤1                ├─────»\n",
       "«     └─────────────────┘└───────────────┘└─────────────────┘     »\n",
       "«                                                                                        »\n",
       "«q_0: ───────────────────────────────────────────────────────────────────────────────────»\n",
       "«                                                                                        »\n",
       "«q_1: ───────────────────────────────────────────────────────────────────────────────────»\n",
       "«     ┌─────────────────────────────────────────────────────────────────────────────────┐»\n",
       "«q_2: ┤0                                                                                ├»\n",
       "«     │  Diagonal(-0.80321+0.5957j,-0.9988-0.049068j,0.94154+0.33689j,-0.5141-0.85773j) │»\n",
       "«q_3: ┤1                                                                                ├»\n",
       "«     └─────────────────────────────────────────────────────────────────────────────────┘»\n",
       "«                                                                 »\n",
       "«q_0: ────────────────────────────────────────────────────────────»\n",
       "«                                                                 »\n",
       "«q_1: ─────────────────────────────────────────────────────────■──»\n",
       "«     ┌─────────────────┐┌───────────────┐┌─────────────────┐┌─┴─┐»\n",
       "«q_2: ┤0                ├┤1              ├┤0                ├┤ X ├»\n",
       "«     │  multiplexer_dg ││  MCGupDiag_dg ││  multiplexer_dg │└───┘»\n",
       "«q_3: ┤1                ├┤0              ├┤1                ├─────»\n",
       "«     └─────────────────┘└───────────────┘└─────────────────┘     »\n",
       "«                                                                                        »\n",
       "«q_0: ───────────────────────────────────────────────────────────────────────────────────»\n",
       "«                                                                                        »\n",
       "«q_1: ───────────────────────────────────────────────────────────────────────────────────»\n",
       "«     ┌─────────────────────────────────────────────────────────────────────────────────┐»\n",
       "«q_2: ┤0                                                                                ├»\n",
       "«     │  Diagonal(-0.80321+0.5957j,-0.9988-0.049068j,0.94154+0.33689j,-0.5141-0.85773j) │»\n",
       "«q_3: ┤1                                                                                ├»\n",
       "«     └─────────────────────────────────────────────────────────────────────────────────┘»\n",
       "«                                                                 »\n",
       "«q_0: ─────────────────────────────────────────────────────────■──»\n",
       "«                                                              │  »\n",
       "«q_1: ─────────────────────────────────────────────────────────┼──»\n",
       "«     ┌─────────────────┐┌───────────────┐┌─────────────────┐┌─┴─┐»\n",
       "«q_2: ┤0                ├┤1              ├┤0                ├┤ X ├»\n",
       "«     │  multiplexer_dg ││  MCGupDiag_dg ││  multiplexer_dg │└───┘»\n",
       "«q_3: ┤1                ├┤0              ├┤1                ├─────»\n",
       "«     └─────────────────┘└───────────────┘└─────────────────┘     »\n",
       "«                                                                                        »\n",
       "«q_0: ───────────────────────────────────────────────────────────────────────────────────»\n",
       "«                                                                                        »\n",
       "«q_1: ───────────────────────────────────────────────────────────────────────────────────»\n",
       "«     ┌─────────────────────────────────────────────────────────────────────────────────┐»\n",
       "«q_2: ┤0                                                                                ├»\n",
       "«     │  Diagonal(-0.80321+0.5957j,-0.9988-0.049068j,0.94154+0.33689j,-0.5141-0.85773j) │»\n",
       "«q_3: ┤1                                                                                ├»\n",
       "«     └─────────────────────────────────────────────────────────────────────────────────┘»\n",
       "«                                                            \n",
       "«q_0: ───────────────────────────────────────────────────────\n",
       "«                                                            \n",
       "«q_1: ───────────────────────────────────────────────────────\n",
       "«     ┌─────────────────┐┌───────────────┐┌─────────────────┐\n",
       "«q_2: ┤0                ├┤1              ├┤0                ├\n",
       "«     │  multiplexer_dg ││  MCGupDiag_dg ││  multiplexer_dg │\n",
       "«q_3: ┤1                ├┤0              ├┤1                ├\n",
       "«     └─────────────────┘└───────────────┘└─────────────────┘</pre>"
      ],
      "text/plain": [
       "global phase: 3π/2\n",
       "     »\n",
       "q_0: »\n",
       "     »\n",
       "q_1: »\n",
       "     »\n",
       "q_2: »\n",
       "     »\n",
       "q_3: »\n",
       "     »\n",
       "«     ┌─────────────────────────────────────────────────────────────────────────────────┐»\n",
       "«q_0: ┤0                                                                                ├»\n",
       "«     │                                                                                 │»\n",
       "«q_1: ┤                                                                                 ├»\n",
       "«     │  Diagonal(-0.80321+0.5957j,-0.9988-0.049068j,0.94154+0.33689j,-0.5141-0.85773j) │»\n",
       "«q_2: ┤                                                                                 ├»\n",
       "«     │                                                                                 │»\n",
       "«q_3: ┤1                                                                                ├»\n",
       "«     └─────────────────────────────────────────────────────────────────────────────────┘»\n",
       "«     ┌─────────────────┐┌───────────────┐┌─────────────────┐     »\n",
       "«q_0: ┤0                ├┤1              ├┤0                ├──■──»\n",
       "«     │                 ││               ││                 │┌─┴─┐»\n",
       "«q_1: ┤                 ├┤               ├┤                 ├┤ X ├»\n",
       "«     │  multiplexer_dg ││  MCGupDiag_dg ││  multiplexer_dg │└───┘»\n",
       "«q_2: ┤                 ├┤               ├┤                 ├─────»\n",
       "«     │                 ││               ││                 │     »\n",
       "«q_3: ┤1                ├┤0              ├┤1                ├─────»\n",
       "«     └─────────────────┘└───────────────┘└─────────────────┘     »\n",
       "«                                                                                        »\n",
       "«q_0: ───────────────────────────────────────────────────────────────────────────────────»\n",
       "«     ┌─────────────────────────────────────────────────────────────────────────────────┐»\n",
       "«q_1: ┤0                                                                                ├»\n",
       "«     │                                                                                 │»\n",
       "«q_2: ┤  Diagonal(-0.80321+0.5957j,-0.9988-0.049068j,0.94154+0.33689j,-0.5141-0.85773j) ├»\n",
       "«     │                                                                                 │»\n",
       "«q_3: ┤1                                                                                ├»\n",
       "«     └─────────────────────────────────────────────────────────────────────────────────┘»\n",
       "«                                                                 »\n",
       "«q_0: ─────────────────────────────────────────────────────────■──»\n",
       "«     ┌─────────────────┐┌───────────────┐┌─────────────────┐┌─┴─┐»\n",
       "«q_1: ┤0                ├┤1              ├┤0                ├┤ X ├»\n",
       "«     │                 ││               ││                 │└───┘»\n",
       "«q_2: ┤  multiplexer_dg ├┤  MCGupDiag_dg ├┤  multiplexer_dg ├─────»\n",
       "«     │                 ││               ││                 │     »\n",
       "«q_3: ┤1                ├┤0              ├┤1                ├─────»\n",
       "«     └─────────────────┘└───────────────┘└─────────────────┘     »\n",
       "«                                                                                        »\n",
       "«q_0: ───────────────────────────────────────────────────────────────────────────────────»\n",
       "«     ┌─────────────────────────────────────────────────────────────────────────────────┐»\n",
       "«q_1: ┤0                                                                                ├»\n",
       "«     │                                                                                 │»\n",
       "«q_2: ┤  Diagonal(-0.80321+0.5957j,-0.9988-0.049068j,0.94154+0.33689j,-0.5141-0.85773j) ├»\n",
       "«     │                                                                                 │»\n",
       "«q_3: ┤1                                                                                ├»\n",
       "«     └─────────────────────────────────────────────────────────────────────────────────┘»\n",
       "«                                                                 »\n",
       "«q_0: ────────────────────────────────────────────────────────────»\n",
       "«     ┌─────────────────┐┌───────────────┐┌─────────────────┐     »\n",
       "«q_1: ┤0                ├┤1              ├┤0                ├──■──»\n",
       "«     │                 ││               ││                 │┌─┴─┐»\n",
       "«q_2: ┤  multiplexer_dg ├┤  MCGupDiag_dg ├┤  multiplexer_dg ├┤ X ├»\n",
       "«     │                 ││               ││                 │└───┘»\n",
       "«q_3: ┤1                ├┤0              ├┤1                ├─────»\n",
       "«     └─────────────────┘└───────────────┘└─────────────────┘     »\n",
       "«                                                                                        »\n",
       "«q_0: ───────────────────────────────────────────────────────────────────────────────────»\n",
       "«                                                                                        »\n",
       "«q_1: ───────────────────────────────────────────────────────────────────────────────────»\n",
       "«     ┌─────────────────────────────────────────────────────────────────────────────────┐»\n",
       "«q_2: ┤0                                                                                ├»\n",
       "«     │  Diagonal(-0.80321+0.5957j,-0.9988-0.049068j,0.94154+0.33689j,-0.5141-0.85773j) │»\n",
       "«q_3: ┤1                                                                                ├»\n",
       "«     └─────────────────────────────────────────────────────────────────────────────────┘»\n",
       "«                                                                 »\n",
       "«q_0: ─────────────────────────────────────────────────────────■──»\n",
       "«                                                              │  »\n",
       "«q_1: ─────────────────────────────────────────────────────────┼──»\n",
       "«     ┌─────────────────┐┌───────────────┐┌─────────────────┐┌─┴─┐»\n",
       "«q_2: ┤0                ├┤1              ├┤0                ├┤ X ├»\n",
       "«     │  multiplexer_dg ││  MCGupDiag_dg ││  multiplexer_dg │└───┘»\n",
       "«q_3: ┤1                ├┤0              ├┤1                ├─────»\n",
       "«     └─────────────────┘└───────────────┘└─────────────────┘     »\n",
       "«                                                                                        »\n",
       "«q_0: ───────────────────────────────────────────────────────────────────────────────────»\n",
       "«                                                                                        »\n",
       "«q_1: ───────────────────────────────────────────────────────────────────────────────────»\n",
       "«     ┌─────────────────────────────────────────────────────────────────────────────────┐»\n",
       "«q_2: ┤0                                                                                ├»\n",
       "«     │  Diagonal(-0.80321+0.5957j,-0.9988-0.049068j,0.94154+0.33689j,-0.5141-0.85773j) │»\n",
       "«q_3: ┤1                                                                                ├»\n",
       "«     └─────────────────────────────────────────────────────────────────────────────────┘»\n",
       "«                                                                 »\n",
       "«q_0: ────────────────────────────────────────────────────────────»\n",
       "«                                                                 »\n",
       "«q_1: ─────────────────────────────────────────────────────────■──»\n",
       "«     ┌─────────────────┐┌───────────────┐┌─────────────────┐┌─┴─┐»\n",
       "«q_2: ┤0                ├┤1              ├┤0                ├┤ X ├»\n",
       "«     │  multiplexer_dg ││  MCGupDiag_dg ││  multiplexer_dg │└───┘»\n",
       "«q_3: ┤1                ├┤0              ├┤1                ├─────»\n",
       "«     └─────────────────┘└───────────────┘└─────────────────┘     »\n",
       "«                                                                                        »\n",
       "«q_0: ───────────────────────────────────────────────────────────────────────────────────»\n",
       "«                                                                                        »\n",
       "«q_1: ───────────────────────────────────────────────────────────────────────────────────»\n",
       "«     ┌─────────────────────────────────────────────────────────────────────────────────┐»\n",
       "«q_2: ┤0                                                                                ├»\n",
       "«     │  Diagonal(-0.80321+0.5957j,-0.9988-0.049068j,0.94154+0.33689j,-0.5141-0.85773j) │»\n",
       "«q_3: ┤1                                                                                ├»\n",
       "«     └─────────────────────────────────────────────────────────────────────────────────┘»\n",
       "«                                                                 »\n",
       "«q_0: ─────────────────────────────────────────────────────────■──»\n",
       "«                                                              │  »\n",
       "«q_1: ─────────────────────────────────────────────────────────┼──»\n",
       "«     ┌─────────────────┐┌───────────────┐┌─────────────────┐┌─┴─┐»\n",
       "«q_2: ┤0                ├┤1              ├┤0                ├┤ X ├»\n",
       "«     │  multiplexer_dg ││  MCGupDiag_dg ││  multiplexer_dg │└───┘»\n",
       "«q_3: ┤1                ├┤0              ├┤1                ├─────»\n",
       "«     └─────────────────┘└───────────────┘└─────────────────┘     »\n",
       "«                                                                                        »\n",
       "«q_0: ───────────────────────────────────────────────────────────────────────────────────»\n",
       "«                                                                                        »\n",
       "«q_1: ───────────────────────────────────────────────────────────────────────────────────»\n",
       "«     ┌─────────────────────────────────────────────────────────────────────────────────┐»\n",
       "«q_2: ┤0                                                                                ├»\n",
       "«     │  Diagonal(-0.80321+0.5957j,-0.9988-0.049068j,0.94154+0.33689j,-0.5141-0.85773j) │»\n",
       "«q_3: ┤1                                                                                ├»\n",
       "«     └─────────────────────────────────────────────────────────────────────────────────┘»\n",
       "«                                                            \n",
       "«q_0: ───────────────────────────────────────────────────────\n",
       "«                                                            \n",
       "«q_1: ───────────────────────────────────────────────────────\n",
       "«     ┌─────────────────┐┌───────────────┐┌─────────────────┐\n",
       "«q_2: ┤0                ├┤1              ├┤0                ├\n",
       "«     │  multiplexer_dg ││  MCGupDiag_dg ││  multiplexer_dg │\n",
       "«q_3: ┤1                ├┤0              ├┤1                ├\n",
       "«     └─────────────────┘└───────────────┘└─────────────────┘"
      ]
     },
     "execution_count": 40,
     "metadata": {},
     "output_type": "execute_result"
    }
   ],
   "source": [
    "qc.decompose().decompose().draw()"
   ]
  },
  {
   "cell_type": "code",
   "execution_count": 42,
   "id": "c057558f",
   "metadata": {
    "ExecuteTime": {
     "end_time": "2021-12-22T14:35:51.317462Z",
     "start_time": "2021-12-22T14:35:51.273305Z"
    }
   },
   "outputs": [
    {
     "data": {
      "text/html": [
       "<pre style=\"word-wrap: normal;white-space: pre;background: #fff0;line-height: 1.1;font-family: &quot;Courier New&quot;,Courier,monospace\">     ┌────────────┐                                                           »\n",
       "q_0: ┤ U(0,0,π/8) ├──────■────────────────────────■────────────────────────■──»\n",
       "     ├────────────┤    ┌─┴─┐     ┌─────────────┐┌─┴─┐                      │  »\n",
       "q_1: ┤ U(0,0,π/8) ├────┤ X ├─────┤ U(0,0,-π/8) ├┤ X ├──■───────────────────┼──»\n",
       "     ├────────────┤    └───┘     └─────────────┘└───┘┌─┴─┐┌─────────────┐┌─┴─┐»\n",
       "q_2: ┤ U(0,0,π/8) ├──────────────────────────────────┤ X ├┤ U(0,0,-π/8) ├┤ X ├»\n",
       "     └┬─────────┬─┘┌────────────┐                    └───┘└─────────────┘└───┘»\n",
       "q_3: ─┤ U2(0,π) ├──┤ U(0,0,π/8) ├─────────────────────────────────────────────»\n",
       "      └─────────┘  └────────────┘                                             »\n",
       "«                                                                     »\n",
       "«q_0: ────────────────────────────────────■───────────────────────────»\n",
       "«                                         │                           »\n",
       "«q_1: ────────────────■───────────────────┼────────────────────────■──»\n",
       "«     ┌────────────┐┌─┴─┐┌─────────────┐┌─┴─┐                      │  »\n",
       "«q_2: ┤ U(0,0,π/8) ├┤ X ├┤ U(0,0,-π/8) ├┤ X ├──■───────────────────┼──»\n",
       "«     └────────────┘└───┘└─────────────┘└───┘┌─┴─┐┌─────────────┐┌─┴─┐»\n",
       "«q_3: ───────────────────────────────────────┤ X ├┤ U(0,0,-π/8) ├┤ X ├»\n",
       "«                                            └───┘└─────────────┘└───┘»\n",
       "«                                                                              »\n",
       "«q_0: ────────────────────────────────────■────────────────────────────────────»\n",
       "«                                         │                                    »\n",
       "«q_1: ────────────────────────────────────┼────────────────────────────────────»\n",
       "«                                         │                                    »\n",
       "«q_2: ────────────────■───────────────────┼──────────────────■─────────────────»\n",
       "«     ┌────────────┐┌─┴─┐┌─────────────┐┌─┴─┐┌────────────┐┌─┴─┐┌─────────────┐»\n",
       "«q_3: ┤ U(0,0,π/8) ├┤ X ├┤ U(0,0,-π/8) ├┤ X ├┤ U(0,0,π/8) ├┤ X ├┤ U(0,0,-π/8) ├»\n",
       "«     └────────────┘└───┘└─────────────┘└───┘└────────────┘└───┘└─────────────┘»\n",
       "«                                                            \n",
       "«q_0: ─────────────────────────────────────────■─────────────\n",
       "«                                              │             \n",
       "«q_1: ──■──────────────────────────────────────┼─────────────\n",
       "«       │                                      │             \n",
       "«q_2: ──┼──────────────────■───────────────────┼─────────────\n",
       "«     ┌─┴─┐┌────────────┐┌─┴─┐┌─────────────┐┌─┴─┐┌─────────┐\n",
       "«q_3: ┤ X ├┤ U(0,0,π/8) ├┤ X ├┤ U(0,0,-π/8) ├┤ X ├┤ U2(0,π) ├\n",
       "«     └───┘└────────────┘└───┘└─────────────┘└───┘└─────────┘</pre>"
      ],
      "text/plain": [
       "     ┌────────────┐                                                           »\n",
       "q_0: ┤ U(0,0,π/8) ├──────■────────────────────────■────────────────────────■──»\n",
       "     ├────────────┤    ┌─┴─┐     ┌─────────────┐┌─┴─┐                      │  »\n",
       "q_1: ┤ U(0,0,π/8) ├────┤ X ├─────┤ U(0,0,-π/8) ├┤ X ├──■───────────────────┼──»\n",
       "     ├────────────┤    └───┘     └─────────────┘└───┘┌─┴─┐┌─────────────┐┌─┴─┐»\n",
       "q_2: ┤ U(0,0,π/8) ├──────────────────────────────────┤ X ├┤ U(0,0,-π/8) ├┤ X ├»\n",
       "     └┬─────────┬─┘┌────────────┐                    └───┘└─────────────┘└───┘»\n",
       "q_3: ─┤ U2(0,π) ├──┤ U(0,0,π/8) ├─────────────────────────────────────────────»\n",
       "      └─────────┘  └────────────┘                                             »\n",
       "«                                                                     »\n",
       "«q_0: ────────────────────────────────────■───────────────────────────»\n",
       "«                                         │                           »\n",
       "«q_1: ────────────────■───────────────────┼────────────────────────■──»\n",
       "«     ┌────────────┐┌─┴─┐┌─────────────┐┌─┴─┐                      │  »\n",
       "«q_2: ┤ U(0,0,π/8) ├┤ X ├┤ U(0,0,-π/8) ├┤ X ├──■───────────────────┼──»\n",
       "«     └────────────┘└───┘└─────────────┘└───┘┌─┴─┐┌─────────────┐┌─┴─┐»\n",
       "«q_3: ───────────────────────────────────────┤ X ├┤ U(0,0,-π/8) ├┤ X ├»\n",
       "«                                            └───┘└─────────────┘└───┘»\n",
       "«                                                                              »\n",
       "«q_0: ────────────────────────────────────■────────────────────────────────────»\n",
       "«                                         │                                    »\n",
       "«q_1: ────────────────────────────────────┼────────────────────────────────────»\n",
       "«                                         │                                    »\n",
       "«q_2: ────────────────■───────────────────┼──────────────────■─────────────────»\n",
       "«     ┌────────────┐┌─┴─┐┌─────────────┐┌─┴─┐┌────────────┐┌─┴─┐┌─────────────┐»\n",
       "«q_3: ┤ U(0,0,π/8) ├┤ X ├┤ U(0,0,-π/8) ├┤ X ├┤ U(0,0,π/8) ├┤ X ├┤ U(0,0,-π/8) ├»\n",
       "«     └────────────┘└───┘└─────────────┘└───┘└────────────┘└───┘└─────────────┘»\n",
       "«                                                            \n",
       "«q_0: ─────────────────────────────────────────■─────────────\n",
       "«                                              │             \n",
       "«q_1: ──■──────────────────────────────────────┼─────────────\n",
       "«       │                                      │             \n",
       "«q_2: ──┼──────────────────■───────────────────┼─────────────\n",
       "«     ┌─┴─┐┌────────────┐┌─┴─┐┌─────────────┐┌─┴─┐┌─────────┐\n",
       "«q_3: ┤ X ├┤ U(0,0,π/8) ├┤ X ├┤ U(0,0,-π/8) ├┤ X ├┤ U2(0,π) ├\n",
       "«     └───┘└────────────┘└───┘└─────────────┘└───┘└─────────┘"
      ]
     },
     "execution_count": 42,
     "metadata": {},
     "output_type": "execute_result"
    }
   ],
   "source": [
    "max_decompose(MCMT('x', 3, 1)).draw()"
   ]
  },
  {
   "cell_type": "code",
   "execution_count": null,
   "id": "923a168a",
   "metadata": {},
   "outputs": [],
   "source": []
  }
 ],
 "metadata": {
  "kernelspec": {
   "display_name": "Python 3 (ipykernel)",
   "language": "python",
   "name": "python3"
  },
  "language_info": {
   "codemirror_mode": {
    "name": "ipython",
    "version": 3
   },
   "file_extension": ".py",
   "mimetype": "text/x-python",
   "name": "python",
   "nbconvert_exporter": "python",
   "pygments_lexer": "ipython3",
   "version": "3.9.9"
  },
  "varInspector": {
   "cols": {
    "lenName": 16,
    "lenType": 16,
    "lenVar": 40
   },
   "kernels_config": {
    "python": {
     "delete_cmd_postfix": "",
     "delete_cmd_prefix": "del ",
     "library": "var_list.py",
     "varRefreshCmd": "print(var_dic_list())"
    },
    "r": {
     "delete_cmd_postfix": ") ",
     "delete_cmd_prefix": "rm(",
     "library": "var_list.r",
     "varRefreshCmd": "cat(var_dic_list()) "
    }
   },
   "types_to_exclude": [
    "module",
    "function",
    "builtin_function_or_method",
    "instance",
    "_Feature"
   ],
   "window_display": false
  }
 },
 "nbformat": 4,
 "nbformat_minor": 5
}
