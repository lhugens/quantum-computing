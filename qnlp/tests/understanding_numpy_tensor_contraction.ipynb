{
 "cells": [
  {
   "cell_type": "code",
   "execution_count": 1,
   "id": "a4c103d4",
   "metadata": {
    "ExecuteTime": {
     "end_time": "2021-10-27T12:44:15.079104Z",
     "start_time": "2021-10-27T12:44:13.954931Z"
    }
   },
   "outputs": [],
   "source": [
    "import numpy as np\n",
    "from context import tools as t"
   ]
  },
  {
   "cell_type": "code",
   "execution_count": 11,
   "id": "0d968f8d",
   "metadata": {
    "ExecuteTime": {
     "end_time": "2021-10-20T09:07:15.833786Z",
     "start_time": "2021-10-20T09:07:15.824440Z"
    }
   },
   "outputs": [],
   "source": [
    "a = np.arange(60.).reshape(3,4,5)\n",
    "b = np.arange(24.).reshape(4,3,2)"
   ]
  },
  {
   "cell_type": "code",
   "execution_count": 12,
   "id": "a31bf7d7",
   "metadata": {
    "ExecuteTime": {
     "end_time": "2021-10-20T09:07:16.072064Z",
     "start_time": "2021-10-20T09:07:16.064182Z"
    }
   },
   "outputs": [],
   "source": [
    "c = np.tensordot(a, b, axes=([0, 1],[1, 0]))"
   ]
  },
  {
   "cell_type": "code",
   "execution_count": 13,
   "id": "913f7172",
   "metadata": {
    "ExecuteTime": {
     "end_time": "2021-10-20T09:07:16.244832Z",
     "start_time": "2021-10-20T09:07:16.240864Z"
    }
   },
   "outputs": [
    {
     "data": {
      "text/plain": [
       "array([[4400., 4730.],\n",
       "       [4532., 4874.],\n",
       "       [4664., 5018.],\n",
       "       [4796., 5162.],\n",
       "       [4928., 5306.]])"
      ]
     },
     "execution_count": 13,
     "metadata": {},
     "output_type": "execute_result"
    }
   ],
   "source": [
    "c"
   ]
  },
  {
   "cell_type": "code",
   "execution_count": 14,
   "id": "6095d7ba",
   "metadata": {
    "ExecuteTime": {
     "end_time": "2021-10-20T09:07:16.547681Z",
     "start_time": "2021-10-20T09:07:16.539666Z"
    }
   },
   "outputs": [],
   "source": [
    "d = np.zeros((5, 2))\n",
    "for i in range(5):\n",
    "    for j in range(2):\n",
    "        for k in range(3):\n",
    "            for n in range(4):\n",
    "                d[i,j] += a[k,n,i] * b[n,k,j]"
   ]
  },
  {
   "cell_type": "code",
   "execution_count": 15,
   "id": "435fd89a",
   "metadata": {
    "ExecuteTime": {
     "end_time": "2021-10-20T09:07:16.911160Z",
     "start_time": "2021-10-20T09:07:16.897544Z"
    }
   },
   "outputs": [
    {
     "data": {
      "text/plain": [
       "array([[ True,  True],\n",
       "       [ True,  True],\n",
       "       [ True,  True],\n",
       "       [ True,  True],\n",
       "       [ True,  True]])"
      ]
     },
     "execution_count": 15,
     "metadata": {},
     "output_type": "execute_result"
    }
   ],
   "source": [
    "c == d"
   ]
  },
  {
   "cell_type": "code",
   "execution_count": 27,
   "id": "c84b75c6",
   "metadata": {
    "ExecuteTime": {
     "end_time": "2021-10-20T09:10:55.234802Z",
     "start_time": "2021-10-20T09:10:55.220234Z"
    }
   },
   "outputs": [
    {
     "name": "stdout",
     "output_type": "stream",
     "text": [
      "a\n",
      "[0.2773501+0.5547002j 0.5547002+0.5547002j]\n",
      "b\n",
      "[[0.13453456+0.20180184j 0.06726728+0.3363364j ]\n",
      " [0.60540551+0.13453456j 0.60540551+0.26906912j]]\n"
     ]
    }
   ],
   "source": [
    "a = t.normalize([1+2j, 2+2j])\n",
    "b = t.normalize([2+3j, 1+5j, 9+2j, 9+4j])\n",
    "b = b.reshape(2, 2)\n",
    "print('a')\n",
    "print(a)\n",
    "print('b')\n",
    "print(b)"
   ]
  },
  {
   "cell_type": "code",
   "execution_count": 30,
   "id": "22eefc9a",
   "metadata": {
    "ExecuteTime": {
     "end_time": "2021-10-20T09:12:54.958976Z",
     "start_time": "2021-10-20T09:12:54.946607Z"
    }
   },
   "outputs": [
    {
     "name": "stdout",
     "output_type": "stream",
     "text": [
      "(0.18656586541256379+0.541041009696435j) (0.018656586541256376+0.6156673558614605j)\n"
     ]
    }
   ],
   "source": [
    "# expected\n",
    "print(a[0]*b[0][0]+a[1]*b[1][0], a[0]*b[0][1]+a[1]*b[1][1])"
   ]
  },
  {
   "cell_type": "code",
   "execution_count": 28,
   "id": "51a34b8f",
   "metadata": {
    "ExecuteTime": {
     "end_time": "2021-10-20T09:10:56.026779Z",
     "start_time": "2021-10-20T09:10:56.013302Z"
    }
   },
   "outputs": [
    {
     "data": {
      "text/plain": [
       "array([0.18656587+0.54104101j, 0.01865659+0.61566736j])"
      ]
     },
     "execution_count": 28,
     "metadata": {},
     "output_type": "execute_result"
    }
   ],
   "source": [
    "np.einsum('i,ij', a, b)"
   ]
  },
  {
   "cell_type": "code",
   "execution_count": 20,
   "id": "68433499",
   "metadata": {
    "ExecuteTime": {
     "end_time": "2021-10-20T09:08:36.687561Z",
     "start_time": "2021-10-20T09:08:36.657040Z"
    }
   },
   "outputs": [
    {
     "ename": "ValueError",
     "evalue": "einstein sum subscripts string contains too many subscripts for operand 0",
     "output_type": "error",
     "traceback": [
      "\u001b[0;31m---------------------------------------------------------------------------\u001b[0m",
      "\u001b[0;31mValueError\u001b[0m                                Traceback (most recent call last)",
      "\u001b[0;32m/tmp/ipykernel_37289/916237538.py\u001b[0m in \u001b[0;36m<module>\u001b[0;34m\u001b[0m\n\u001b[0;32m----> 1\u001b[0;31m \u001b[0mnp\u001b[0m\u001b[0;34m.\u001b[0m\u001b[0meinsum\u001b[0m\u001b[0;34m(\u001b[0m\u001b[0;34m'ij,j'\u001b[0m\u001b[0;34m,\u001b[0m \u001b[0mb\u001b[0m\u001b[0;34m,\u001b[0m \u001b[0ma\u001b[0m\u001b[0;34m)\u001b[0m\u001b[0;34m\u001b[0m\u001b[0;34m\u001b[0m\u001b[0m\n\u001b[0m",
      "\u001b[0;32m<__array_function__ internals>\u001b[0m in \u001b[0;36meinsum\u001b[0;34m(*args, **kwargs)\u001b[0m\n",
      "\u001b[0;32m~/devel/.venv/lib/python3.9/site-packages/numpy/core/einsumfunc.py\u001b[0m in \u001b[0;36meinsum\u001b[0;34m(out, optimize, *operands, **kwargs)\u001b[0m\n\u001b[1;32m   1357\u001b[0m         \u001b[0;32mif\u001b[0m \u001b[0mspecified_out\u001b[0m\u001b[0;34m:\u001b[0m\u001b[0;34m\u001b[0m\u001b[0;34m\u001b[0m\u001b[0m\n\u001b[1;32m   1358\u001b[0m             \u001b[0mkwargs\u001b[0m\u001b[0;34m[\u001b[0m\u001b[0;34m'out'\u001b[0m\u001b[0;34m]\u001b[0m \u001b[0;34m=\u001b[0m \u001b[0mout\u001b[0m\u001b[0;34m\u001b[0m\u001b[0;34m\u001b[0m\u001b[0m\n\u001b[0;32m-> 1359\u001b[0;31m         \u001b[0;32mreturn\u001b[0m \u001b[0mc_einsum\u001b[0m\u001b[0;34m(\u001b[0m\u001b[0;34m*\u001b[0m\u001b[0moperands\u001b[0m\u001b[0;34m,\u001b[0m \u001b[0;34m**\u001b[0m\u001b[0mkwargs\u001b[0m\u001b[0;34m)\u001b[0m\u001b[0;34m\u001b[0m\u001b[0;34m\u001b[0m\u001b[0m\n\u001b[0m\u001b[1;32m   1360\u001b[0m \u001b[0;34m\u001b[0m\u001b[0m\n\u001b[1;32m   1361\u001b[0m     \u001b[0;31m# Check the kwargs to avoid a more cryptic error later, without having to\u001b[0m\u001b[0;34m\u001b[0m\u001b[0;34m\u001b[0m\u001b[0m\n",
      "\u001b[0;31mValueError\u001b[0m: einstein sum subscripts string contains too many subscripts for operand 0"
     ]
    }
   ],
   "source": [
    "np.einsum('ij,j', b, a)"
   ]
  },
  {
   "cell_type": "code",
   "execution_count": 23,
   "id": "3adcc090",
   "metadata": {
    "ExecuteTime": {
     "end_time": "2021-10-20T09:09:16.831815Z",
     "start_time": "2021-10-20T09:09:16.825257Z"
    }
   },
   "outputs": [
    {
     "data": {
      "text/plain": [
       "array([0.2773501+0.5547002j, 0.5547002+0.5547002j])"
      ]
     },
     "execution_count": 23,
     "metadata": {},
     "output_type": "execute_result"
    }
   ],
   "source": [
    "np.einsum('i', a)"
   ]
  },
  {
   "cell_type": "code",
   "execution_count": 24,
   "id": "f79bf949",
   "metadata": {
    "ExecuteTime": {
     "end_time": "2021-10-20T09:10:09.322645Z",
     "start_time": "2021-10-20T09:10:09.308652Z"
    }
   },
   "outputs": [
    {
     "data": {
      "text/plain": [
       "(2,)"
      ]
     },
     "execution_count": 24,
     "metadata": {},
     "output_type": "execute_result"
    }
   ],
   "source": [
    "np.shape(a)"
   ]
  },
  {
   "cell_type": "code",
   "execution_count": 26,
   "id": "f4752767",
   "metadata": {
    "ExecuteTime": {
     "end_time": "2021-10-20T09:10:34.788354Z",
     "start_time": "2021-10-20T09:10:34.777424Z"
    }
   },
   "outputs": [
    {
     "data": {
      "text/plain": [
       "(4,)"
      ]
     },
     "execution_count": 26,
     "metadata": {},
     "output_type": "execute_result"
    }
   ],
   "source": [
    "b.shape"
   ]
  },
  {
   "cell_type": "code",
   "execution_count": 4,
   "id": "b6e7d090",
   "metadata": {
    "ExecuteTime": {
     "end_time": "2021-10-25T09:52:49.461856Z",
     "start_time": "2021-10-25T09:52:49.444444Z"
    }
   },
   "outputs": [
    {
     "name": "stdout",
     "output_type": "stream",
     "text": [
      "[0.3275322  0.37939436]\n",
      "[0.39157675 0.49356074]\n"
     ]
    }
   ],
   "source": [
    "a = t.normalize([1+2j, 2+2j])\n",
    "b = t.normalize([2+3j, 1+5j, 9+2j, 9+4j])\n",
    "b = b.reshape(2, 2)\n",
    "print(np.absolute(np.einsum('i,ij', a, b))**2)\n",
    "print(np.absolute(np.einsum('i,ij', np.conjugate(a), b))**2)"
   ]
  },
  {
   "cell_type": "code",
   "execution_count": 5,
   "id": "8adfdf2c",
   "metadata": {
    "ExecuteTime": {
     "end_time": "2021-10-27T12:45:05.230150Z",
     "start_time": "2021-10-27T12:45:05.212427Z"
    }
   },
   "outputs": [
    {
     "name": "stdout",
     "output_type": "stream",
     "text": [
      "[1 2]\n",
      "[[0.+2.j 0.+1.j]\n",
      " [1.+0.j 9.+0.j]]\n",
      "[[0.+2.j 0.+1.j]\n",
      " [1.+0.j 9.+0.j]]\n",
      "[ 2.+2.j 18.+1.j]\n"
     ]
    }
   ],
   "source": [
    "a = np.array([1, 2])\n",
    "b = np.array([2j, 1j, 1, 9])\n",
    "b = b.reshape(2, 2)\n",
    "print(a)\n",
    "print(b)\n",
    "print(b)\n",
    "state = np.einsum('i,ij', a, b)\n",
    "print(state)"
   ]
  },
  {
   "cell_type": "code",
   "execution_count": 8,
   "id": "15c17c41",
   "metadata": {
    "ExecuteTime": {
     "end_time": "2021-10-27T12:46:21.802246Z",
     "start_time": "2021-10-27T12:46:21.791214Z"
    }
   },
   "outputs": [
    {
     "name": "stdout",
     "output_type": "stream",
     "text": [
      "(2+2j)\n",
      "(18+1j)\n"
     ]
    }
   ],
   "source": [
    "print(a[0]*b[0][0] + a[1]*b[1][0])\n",
    "print(a[0]*b[0][1] + a[1]*b[1][1])"
   ]
  },
  {
   "cell_type": "code",
   "execution_count": null,
   "id": "6d743a6d",
   "metadata": {},
   "outputs": [],
   "source": []
  }
 ],
 "metadata": {
  "kernelspec": {
   "display_name": "Python 3 (ipykernel)",
   "language": "python",
   "name": "python3"
  },
  "language_info": {
   "codemirror_mode": {
    "name": "ipython",
    "version": 3
   },
   "file_extension": ".py",
   "mimetype": "text/x-python",
   "name": "python",
   "nbconvert_exporter": "python",
   "pygments_lexer": "ipython3",
   "version": "3.9.7"
  },
  "varInspector": {
   "cols": {
    "lenName": 16,
    "lenType": 16,
    "lenVar": 40
   },
   "kernels_config": {
    "python": {
     "delete_cmd_postfix": "",
     "delete_cmd_prefix": "del ",
     "library": "var_list.py",
     "varRefreshCmd": "print(var_dic_list())"
    },
    "r": {
     "delete_cmd_postfix": ") ",
     "delete_cmd_prefix": "rm(",
     "library": "var_list.r",
     "varRefreshCmd": "cat(var_dic_list()) "
    }
   },
   "types_to_exclude": [
    "module",
    "function",
    "builtin_function_or_method",
    "instance",
    "_Feature"
   ],
   "window_display": false
  }
 },
 "nbformat": 4,
 "nbformat_minor": 5
}
