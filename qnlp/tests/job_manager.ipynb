{
 "cells": [
  {
   "cell_type": "code",
   "execution_count": null,
   "id": "dc16b686",
   "metadata": {},
   "outputs": [],
   "source": [
    "w:w:wa:wa"
   ]
  },
  {
   "cell_type": "code",
   "execution_count": 1,
   "id": "964e53cd",
   "metadata": {
    "ExecuteTime": {
     "end_time": "2021-12-09T19:03:53.574055Z",
     "start_time": "2021-12-09T19:03:52.680645Z"
    }
   },
   "outputs": [],
   "source": [
    "import qiskit as qk\n",
    "from qiskit.circuit.random import random_circuit\n",
    "from copy import deepcopy\n",
    "from context import tools as t"
   ]
  },
  {
   "cell_type": "code",
   "execution_count": 2,
   "id": "45e18314",
   "metadata": {
    "ExecuteTime": {
     "end_time": "2021-12-09T19:03:53.584109Z",
     "start_time": "2021-12-09T19:03:53.578126Z"
    }
   },
   "outputs": [
    {
     "name": "stdout",
     "output_type": "stream",
     "text": [
      "         ░ ┌─┐   \n",
      "   q_0: ─░─┤M├───\n",
      "         ░ └╥┘┌─┐\n",
      "   q_1: ─░──╫─┤M├\n",
      "         ░  ║ └╥┘\n",
      "meas: 2/════╩══╩═\n",
      "            0  1 \n",
      "        ┌───┐ ░ ┌─┐   \n",
      "   q_0: ┤ H ├─░─┤M├───\n",
      "        └───┘ ░ └╥┘┌─┐\n",
      "   q_1: ──────░──╫─┤M├\n",
      "              ░  ║ └╥┘\n",
      "meas: 2/═════════╩══╩═\n",
      "                 0  1 \n"
     ]
    }
   ],
   "source": [
    "qr, qc = t.circ(2)\n",
    "qc0 = deepcopy(qc)\n",
    "qc.h(0)\n",
    "qc1 = deepcopy(qc)\n",
    "qc0.measure_all()\n",
    "qc1.measure_all()\n",
    "\n",
    "print(qc0.draw()) \n",
    "print(qc1.draw()) "
   ]
  },
  {
   "cell_type": "code",
   "execution_count": 3,
   "id": "a03f10e1",
   "metadata": {
    "ExecuteTime": {
     "end_time": "2021-12-09T19:04:15.459369Z",
     "start_time": "2021-12-09T19:03:53.585206Z"
    }
   },
   "outputs": [
    {
     "name": "stdout",
     "output_type": "stream",
     "text": [
      "         ░ ┌─┐   \n",
      "   q_0: ─░─┤M├───\n",
      "         ░ └╥┘┌─┐\n",
      "   q_1: ─░──╫─┤M├\n",
      "         ░  ║ └╥┘\n",
      "meas: 2/════╩══╩═\n",
      "            0  1 \n",
      "         ░ ┌─┐   \n",
      "   q_0: ─░─┤M├───\n",
      "         ░ └╥┘┌─┐\n",
      "   q_1: ─░──╫─┤M├\n",
      "         ░  ║ └╥┘\n",
      "meas: 2/════╩══╩═\n",
      "            0  1 \n",
      "        ┌───┐ ░ ┌─┐   \n",
      "   q_0: ┤ H ├─░─┤M├───\n",
      "        └───┘ ░ └╥┘┌─┐\n",
      "   q_1: ──────░──╫─┤M├\n",
      "              ░  ║ └╥┘\n",
      "meas: 2/═════════╩══╩═\n",
      "                 0  1 \n",
      "        ┌───┐ ░ ┌─┐   \n",
      "   q_0: ┤ H ├─░─┤M├───\n",
      "        └───┘ ░ └╥┘┌─┐\n",
      "   q_1: ──────░──╫─┤M├\n",
      "              ░  ║ └╥┘\n",
      "meas: 2/═════════╩══╩═\n",
      "                 0  1 \n"
     ]
    }
   ],
   "source": [
    "n, j0 = t.job_set_heavy([qc0, qc1], shots=40000, name='cenas3')"
   ]
  },
  {
   "cell_type": "code",
   "execution_count": 5,
   "id": "6ee9e128",
   "metadata": {
    "ExecuteTime": {
     "end_time": "2021-12-09T19:13:33.199759Z",
     "start_time": "2021-12-09T19:13:31.581044Z"
    }
   },
   "outputs": [
    {
     "data": {
      "text/plain": [
       "True"
      ]
     },
     "execution_count": 5,
     "metadata": {},
     "output_type": "execute_result"
    }
   ],
   "source": [
    "t.isdone(j0)"
   ]
  },
  {
   "cell_type": "code",
   "execution_count": 7,
   "id": "8349d012",
   "metadata": {
    "ExecuteTime": {
     "end_time": "2021-12-09T19:14:26.751738Z",
     "start_time": "2021-12-09T19:14:26.749031Z"
    }
   },
   "outputs": [],
   "source": [
    "da, db, dc, dd = j0.results().combine_results().get_counts()"
   ]
  },
  {
   "cell_type": "code",
   "execution_count": 9,
   "id": "e51128ab",
   "metadata": {
    "ExecuteTime": {
     "end_time": "2021-12-09T19:14:54.180315Z",
     "start_time": "2021-12-09T19:14:54.174986Z"
    }
   },
   "outputs": [],
   "source": [
    "d0 = t.merge_dicts([da, db])\n",
    "d1 = t.merge_dicts([dc, dd])"
   ]
  },
  {
   "cell_type": "code",
   "execution_count": 11,
   "id": "3721d743",
   "metadata": {
    "ExecuteTime": {
     "end_time": "2021-12-09T19:15:16.909536Z",
     "start_time": "2021-12-09T19:15:16.900044Z"
    }
   },
   "outputs": [],
   "source": [
    "e0, e1 =t.job_counts_heavy(n, j0)"
   ]
  },
  {
   "cell_type": "code",
   "execution_count": 13,
   "id": "2d6f5788",
   "metadata": {
    "ExecuteTime": {
     "end_time": "2021-12-09T19:15:25.430490Z",
     "start_time": "2021-12-09T19:15:25.426835Z"
    }
   },
   "outputs": [
    {
     "data": {
      "text/plain": [
       "True"
      ]
     },
     "execution_count": 13,
     "metadata": {},
     "output_type": "execute_result"
    }
   ],
   "source": [
    "d1 == e1"
   ]
  },
  {
   "cell_type": "code",
   "execution_count": null,
   "id": "30984930",
   "metadata": {},
   "outputs": [],
   "source": []
  }
 ],
 "metadata": {
  "kernelspec": {
   "display_name": "Python 3 (ipykernel)",
   "language": "python",
   "name": "python3"
  },
  "language_info": {
   "codemirror_mode": {
    "name": "ipython",
    "version": 3
   },
   "file_extension": ".py",
   "mimetype": "text/x-python",
   "name": "python",
   "nbconvert_exporter": "python",
   "pygments_lexer": "ipython3",
   "version": "3.9.9"
  },
  "varInspector": {
   "cols": {
    "lenName": 16,
    "lenType": 16,
    "lenVar": 40
   },
   "kernels_config": {
    "python": {
     "delete_cmd_postfix": "",
     "delete_cmd_prefix": "del ",
     "library": "var_list.py",
     "varRefreshCmd": "print(var_dic_list())"
    },
    "r": {
     "delete_cmd_postfix": ") ",
     "delete_cmd_prefix": "rm(",
     "library": "var_list.r",
     "varRefreshCmd": "cat(var_dic_list()) "
    }
   },
   "types_to_exclude": [
    "module",
    "function",
    "builtin_function_or_method",
    "instance",
    "_Feature"
   ],
   "window_display": false
  }
 },
 "nbformat": 4,
 "nbformat_minor": 5
}
