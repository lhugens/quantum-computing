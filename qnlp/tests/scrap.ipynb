{
 "cells": [
  {
   "cell_type": "code",
   "execution_count": 1,
   "id": "cbd79bea",
   "metadata": {
    "ExecuteTime": {
     "end_time": "2021-12-27T17:12:46.784509Z",
     "start_time": "2021-12-27T17:12:45.839693Z"
    }
   },
   "outputs": [],
   "source": [
    "import numpy as np\n",
    "from itertools import product\n",
    "import matplotlib.pyplot as plt\n",
    "from context import tools as t\n",
    "import qiskit as qk"
   ]
  },
  {
   "cell_type": "code",
   "execution_count": 2,
   "id": "5e85dca4",
   "metadata": {
    "ExecuteTime": {
     "end_time": "2021-12-27T17:12:50.788316Z",
     "start_time": "2021-12-27T17:12:50.775170Z"
    }
   },
   "outputs": [
    {
     "data": {
      "text/plain": [
       "1"
      ]
     },
     "execution_count": 2,
     "metadata": {},
     "output_type": "execute_result"
    }
   ],
   "source": [
    "t.bit_index('01')"
   ]
  },
  {
   "cell_type": "code",
   "execution_count": 3,
   "id": "1a267890",
   "metadata": {
    "ExecuteTime": {
     "end_time": "2021-12-27T17:30:09.670776Z",
     "start_time": "2021-12-27T17:30:09.662060Z"
    }
   },
   "outputs": [],
   "source": [
    "class car:\n",
    "    def __init__(self):\n",
    "        self.color = 'blu'"
   ]
  },
  {
   "cell_type": "code",
   "execution_count": 4,
   "id": "fb43243b",
   "metadata": {
    "ExecuteTime": {
     "end_time": "2021-12-27T17:30:24.996120Z",
     "start_time": "2021-12-27T17:30:24.986198Z"
    }
   },
   "outputs": [],
   "source": [
    "class dor(car):\n",
    "    def __init__(self):\n",
    "        print(self.color)"
   ]
  },
  {
   "cell_type": "code",
   "execution_count": 5,
   "id": "2ff29288",
   "metadata": {
    "ExecuteTime": {
     "end_time": "2021-12-27T17:30:28.834837Z",
     "start_time": "2021-12-27T17:30:28.826682Z"
    }
   },
   "outputs": [],
   "source": [
    "honda = car()"
   ]
  },
  {
   "cell_type": "code",
   "execution_count": 6,
   "id": "b9a11537",
   "metadata": {
    "ExecuteTime": {
     "end_time": "2021-12-27T17:30:32.829147Z",
     "start_time": "2021-12-27T17:30:32.695585Z"
    }
   },
   "outputs": [
    {
     "ename": "AttributeError",
     "evalue": "'car' object has no attribute 'dor'",
     "output_type": "error",
     "traceback": [
      "\u001b[0;31m---------------------------------------------------------------------------\u001b[0m",
      "\u001b[0;31mAttributeError\u001b[0m                            Traceback (most recent call last)",
      "\u001b[0;32m/tmp/ipykernel_79234/2477147583.py\u001b[0m in \u001b[0;36m<module>\u001b[0;34m\u001b[0m\n\u001b[0;32m----> 1\u001b[0;31m \u001b[0mhonda\u001b[0m\u001b[0;34m.\u001b[0m\u001b[0mdor\u001b[0m\u001b[0;34m(\u001b[0m\u001b[0;34m)\u001b[0m\u001b[0;34m\u001b[0m\u001b[0;34m\u001b[0m\u001b[0m\n\u001b[0m",
      "\u001b[0;31mAttributeError\u001b[0m: 'car' object has no attribute 'dor'"
     ]
    }
   ],
   "source": [
    "honda.dor()"
   ]
  },
  {
   "cell_type": "code",
   "execution_count": 12,
   "id": "8fe018e9",
   "metadata": {
    "ExecuteTime": {
     "end_time": "2021-12-27T19:49:53.570553Z",
     "start_time": "2021-12-27T19:49:53.557870Z"
    }
   },
   "outputs": [
    {
     "data": {
      "text/plain": [
       "3"
      ]
     },
     "execution_count": 12,
     "metadata": {},
     "output_type": "execute_result"
    }
   ],
   "source": [
    "int('11', 2)"
   ]
  },
  {
   "cell_type": "code",
   "execution_count": null,
   "id": "bc5e1933",
   "metadata": {},
   "outputs": [],
   "source": []
  }
 ],
 "metadata": {
  "kernelspec": {
   "display_name": "Python 3 (ipykernel)",
   "language": "python",
   "name": "python3"
  },
  "language_info": {
   "codemirror_mode": {
    "name": "ipython",
    "version": 3
   },
   "file_extension": ".py",
   "mimetype": "text/x-python",
   "name": "python",
   "nbconvert_exporter": "python",
   "pygments_lexer": "ipython3",
   "version": "3.9.9"
  },
  "varInspector": {
   "cols": {
    "lenName": 16,
    "lenType": 16,
    "lenVar": 40
   },
   "kernels_config": {
    "python": {
     "delete_cmd_postfix": "",
     "delete_cmd_prefix": "del ",
     "library": "var_list.py",
     "varRefreshCmd": "print(var_dic_list())"
    },
    "r": {
     "delete_cmd_postfix": ") ",
     "delete_cmd_prefix": "rm(",
     "library": "var_list.r",
     "varRefreshCmd": "cat(var_dic_list()) "
    }
   },
   "types_to_exclude": [
    "module",
    "function",
    "builtin_function_or_method",
    "instance",
    "_Feature"
   ],
   "window_display": false
  }
 },
 "nbformat": 4,
 "nbformat_minor": 5
}
