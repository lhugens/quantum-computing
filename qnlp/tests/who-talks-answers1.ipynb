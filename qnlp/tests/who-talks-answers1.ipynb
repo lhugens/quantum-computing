{
 "cells": [
  {
   "cell_type": "code",
   "execution_count": 1,
   "id": "0fba27f2",
   "metadata": {
    "ExecuteTime": {
     "end_time": "2021-11-26T16:07:55.031552Z",
     "start_time": "2021-11-26T16:07:54.081642Z"
    }
   },
   "outputs": [],
   "source": [
    "import numpy as np\n",
    "\n",
    "import qiskit as qk\n",
    "\n",
    "import tools as t\n",
    "\n",
    "from qiskit.circuit.library import MCMT\n",
    "\n",
    "from copy import deepcopy\n",
    "\n",
    "import matplotlib.pyplot as plt"
   ]
  },
  {
   "cell_type": "code",
   "execution_count": 2,
   "id": "a97cda24",
   "metadata": {
    "ExecuteTime": {
     "end_time": "2021-11-26T16:07:55.041920Z",
     "start_time": "2021-11-26T16:07:55.036707Z"
    }
   },
   "outputs": [],
   "source": [
    "def histo(dic, normalize=False):\n",
    "    new_dic = {}\n",
    "    total_shots = np.sum(t.bit_array(dic))\n",
    "\n",
    "    for key, value in dic.items():\n",
    "        new_dic[key] = value / total_shots\n",
    "    print(dic)\n",
    "    h = t.plot_weights(new_dic)\n",
    "    plt.show()\n",
    "    return"
   ]
  },
  {
   "cell_type": "code",
   "execution_count": 3,
   "id": "b77fa6f4",
   "metadata": {
    "ExecuteTime": {
     "end_time": "2021-11-26T16:07:55.055791Z",
     "start_time": "2021-11-26T16:07:55.043104Z"
    }
   },
   "outputs": [
    {
     "name": "stdout",
     "output_type": "stream",
     "text": [
      "     ┌───┐          \n",
      "q_0: ┤ H ├──■───────\n",
      "     ├───┤  │       \n",
      "q_1: ┤ H ├──┼────■──\n",
      "     └───┘┌─┴─┐  │  \n",
      "q_2: ─────┤ X ├──┼──\n",
      "     ┌───┐└───┘  │  \n",
      "q_3: ┤ H ├──■────┼──\n",
      "     └───┘┌─┴─┐  │  \n",
      "q_4: ─────┤ X ├──┼──\n",
      "          └───┘┌─┴─┐\n",
      "q_5: ──────────┤ X ├\n",
      "               └───┘\n"
     ]
    }
   ],
   "source": [
    "# build W|0> = |who> operator\n",
    "\n",
    "qr = qk.QuantumRegister(6, 'q')\n",
    "qc = qk.QuantumCircuit(qr)\n",
    "\n",
    "qc.h([0, 1, 3])\n",
    "qc.cnot([0, 1, 3], [2, 5, 4])\n",
    "\n",
    "print(qc.draw())\n",
    "\n",
    "W_gate = deepcopy(qc)"
   ]
  },
  {
   "cell_type": "code",
   "execution_count": 4,
   "id": "637b33bc",
   "metadata": {
    "ExecuteTime": {
     "end_time": "2021-11-26T16:07:55.062179Z",
     "start_time": "2021-11-26T16:07:55.056952Z"
    }
   },
   "outputs": [
    {
     "name": "stdout",
     "output_type": "stream",
     "text": [
      "          ┌───┐     \n",
      "q_0: ──■──┤ H ├─────\n",
      "       │  └───┘┌───┐\n",
      "q_1: ──┼────■──┤ H ├\n",
      "     ┌─┴─┐  │  └───┘\n",
      "q_2: ┤ X ├──┼───────\n",
      "     └───┘  │  ┌───┐\n",
      "q_3: ──■────┼──┤ H ├\n",
      "     ┌─┴─┐  │  └───┘\n",
      "q_4: ┤ X ├──┼───────\n",
      "     └───┘┌─┴─┐     \n",
      "q_5: ─────┤ X ├─────\n",
      "          └───┘     \n"
     ]
    }
   ],
   "source": [
    "# build W_dag gate\n",
    "qr = qk.QuantumRegister(6, 'q')\n",
    "qc = qk.QuantumCircuit(qr)\n",
    "\n",
    "qc.cnot([0, 1, 3], [2, 5, 4])\n",
    "qc.h([0, 1, 3])\n",
    "\n",
    "print(qc.draw())\n",
    "\n",
    "Wdag_gate = deepcopy(qc)"
   ]
  },
  {
   "cell_type": "code",
   "execution_count": 5,
   "id": "3bf9cb82",
   "metadata": {
    "ExecuteTime": {
     "end_time": "2021-11-26T16:07:55.155846Z",
     "start_time": "2021-11-26T16:07:55.063681Z"
    }
   },
   "outputs": [
    {
     "name": "stdout",
     "output_type": "stream",
     "text": [
      "{'010111': 997, '101000': 1013, '000000': 1088, '111001': 1037, '000110': 1002, '010001': 1030, '101110': 1061, '111111': 964}\n",
      "        ┌───┐           ░ ┌─┐               \n",
      "   q_0: ┤ H ├──■────────░─┤M├───────────────\n",
      "        ├───┤  │        ░ └╥┘┌─┐            \n",
      "   q_1: ┤ H ├──┼────■───░──╫─┤M├────────────\n",
      "        └───┘┌─┴─┐  │   ░  ║ └╥┘┌─┐         \n",
      "   q_2: ─────┤ X ├──┼───░──╫──╫─┤M├─────────\n",
      "        ┌───┐└───┘  │   ░  ║  ║ └╥┘┌─┐      \n",
      "   q_3: ┤ H ├──■────┼───░──╫──╫──╫─┤M├──────\n",
      "        └───┘┌─┴─┐  │   ░  ║  ║  ║ └╥┘┌─┐   \n",
      "   q_4: ─────┤ X ├──┼───░──╫──╫──╫──╫─┤M├───\n",
      "             └───┘┌─┴─┐ ░  ║  ║  ║  ║ └╥┘┌─┐\n",
      "   q_5: ──────────┤ X ├─░──╫──╫──╫──╫──╫─┤M├\n",
      "                  └───┘ ░  ║  ║  ║  ║  ║ └╥┘\n",
      "meas: 6/═══════════════════╩══╩══╩══╩══╩══╩═\n",
      "                           0  1  2  3  4  5 \n"
     ]
    }
   ],
   "source": [
    "# show that |who> is correct\n",
    "qr = qk.QuantumRegister(6, 'q')\n",
    "qc = qk.QuantumCircuit(qr)\n",
    "\n",
    "qc.compose(W_gate, inplace=True)\n",
    "qc.measure_all()\n",
    "print(t.counts(qc))\n",
    "print(qc.draw())"
   ]
  },
  {
   "cell_type": "code",
   "execution_count": 6,
   "id": "24fc339d",
   "metadata": {
    "ExecuteTime": {
     "end_time": "2021-11-26T16:07:55.161646Z",
     "start_time": "2021-11-26T16:07:55.156930Z"
    }
   },
   "outputs": [
    {
     "name": "stdout",
     "output_type": "stream",
     "text": [
      "     ┌───┐     \n",
      "q_0: ┤ H ├──■──\n",
      "     └───┘┌─┴─┐\n",
      "q_1: ─────┤ X ├\n",
      "          └───┘\n"
     ]
    }
   ],
   "source": [
    "# build T|0> = |talks> and A|0> = |answers> operators (T = A)\n",
    "\n",
    "qr = qk.QuantumRegister(2, 'q')\n",
    "qc = qk.QuantumCircuit(qr)\n",
    "\n",
    "qc.h(0)\n",
    "qc.cnot(0, 1)\n",
    "\n",
    "print(qc.draw())\n",
    "\n",
    "A_gate = deepcopy(qc)\n",
    "T_gate = deepcopy(qc)"
   ]
  },
  {
   "cell_type": "code",
   "execution_count": 7,
   "id": "c22fa116",
   "metadata": {
    "ExecuteTime": {
     "end_time": "2021-11-26T16:07:55.176060Z",
     "start_time": "2021-11-26T16:07:55.162831Z"
    }
   },
   "outputs": [
    {
     "name": "stdout",
     "output_type": "stream",
     "text": [
      "          ┌───┐\n",
      "q_0: ──■──┤ H ├\n",
      "     ┌─┴─┐└───┘\n",
      "q_1: ┤ X ├─────\n",
      "     └───┘     \n"
     ]
    }
   ],
   "source": [
    "# build Tdag_gate\n",
    "\n",
    "qr = qk.QuantumRegister(2, 'q')\n",
    "qc = qk.QuantumCircuit(qr)\n",
    "\n",
    "qc.cnot(0, 1)\n",
    "qc.h(0)\n",
    "\n",
    "print(qc.draw())\n",
    "\n",
    "Adag_gate = deepcopy(qc)\n",
    "Tdag_gate = deepcopy(qc)"
   ]
  },
  {
   "cell_type": "code",
   "execution_count": 8,
   "id": "8d56db42",
   "metadata": {
    "ExecuteTime": {
     "end_time": "2021-11-26T16:07:55.206632Z",
     "start_time": "2021-11-26T16:07:55.177705Z"
    }
   },
   "outputs": [
    {
     "name": "stdout",
     "output_type": "stream",
     "text": [
      "{'00': 4039, '11': 4153}\n",
      "        ┌───┐      ░ ┌─┐   \n",
      "   q_0: ┤ H ├──■───░─┤M├───\n",
      "        └───┘┌─┴─┐ ░ └╥┘┌─┐\n",
      "   q_1: ─────┤ X ├─░──╫─┤M├\n",
      "             └───┘ ░  ║ └╥┘\n",
      "meas: 2/══════════════╩══╩═\n",
      "                      0  1 \n"
     ]
    }
   ],
   "source": [
    "# show that |talks> and |answers> are correct\n",
    "qr = qk.QuantumRegister(2, 'q')\n",
    "qc = qk.QuantumCircuit(qr)\n",
    "\n",
    "qc.compose(A_gate, inplace=True)\n",
    "qc.measure_all()\n",
    "print(t.counts(qc))\n",
    "print(qc.draw())"
   ]
  },
  {
   "cell_type": "code",
   "execution_count": 9,
   "id": "9e62b429",
   "metadata": {
    "ExecuteTime": {
     "end_time": "2021-11-26T16:07:55.221145Z",
     "start_time": "2021-11-26T16:07:55.208240Z"
    }
   },
   "outputs": [
    {
     "name": "stdout",
     "output_type": "stream",
     "text": [
      "      ┌────────────┐  ░            ░            ░            ░      ┌───┐\n",
      "q_0: ─┤0           ├──░────────────░────────────░────────────░───■──┤ H ├\n",
      "      │            │  ░            ░            ░      ┌───┐ ░   │  └───┘\n",
      "q_1: ─┤1           ├──░────────────░────────────░───■──┤ H ├─░───┼───────\n",
      "      │            │  ░            ░            ░   │  └───┘ ░   │       \n",
      "q_2: ─┤2           ├──░────────────░────────────░───┼────────░───┼───────\n",
      "      │  circuit-3 │  ░            ░            ░   │        ░   │       \n",
      "q_3: ─┤3           ├──░────────────░────────────░───┼────────░───┼───────\n",
      "      │            │  ░            ░      ┌───┐ ░   │        ░   │       \n",
      "q_4: ─┤4           ├──░────────────░───■──┤ H ├─░───┼────────░───┼───────\n",
      "      │            │  ░      ┌───┐ ░   │  └───┘ ░   │        ░   │       \n",
      "q_5: ─┤5           ├──░───■──┤ H ├─░───┼────────░───┼────────░───┼───────\n",
      "     ┌┴────────────┴┐ ░ ┌─┴─┐└───┘ ░   │        ░   │        ░   │       \n",
      "q_6: ┤0             ├─░─┤ X ├──────░───┼────────░───┼────────░───┼───────\n",
      "     │  circuit-145 │ ░ └───┘      ░ ┌─┴─┐      ░   │        ░   │       \n",
      "q_7: ┤1             ├─░────────────░─┤ X ├──────░───┼────────░───┼───────\n",
      "     ├──────────────┤ ░            ░ └───┘      ░ ┌─┴─┐      ░   │       \n",
      "q_8: ┤0             ├─░────────────░────────────░─┤ X ├──────░───┼───────\n",
      "     │  circuit-145 │ ░            ░            ░ └───┘      ░ ┌─┴─┐     \n",
      "q_9: ┤1             ├─░────────────░────────────░────────────░─┤ X ├─────\n",
      "     └──────────────┘ ░            ░            ░            ░ └───┘     \n"
     ]
    }
   ],
   "source": [
    "# build calA gate\n",
    "wrap=True\n",
    "\n",
    "qr = qk.QuantumRegister(10, 'q')\n",
    "qc = qk.QuantumCircuit(qr)\n",
    "\n",
    "# state initialization\n",
    "qc.compose(W_gate, qr[:6], inplace=True, wrap=wrap)\n",
    "qc.compose(T_gate, qr[6:8], inplace=True, wrap=wrap)\n",
    "qc.compose(A_gate, qr[8:10], inplace=True, wrap=wrap)\n",
    "\n",
    "qc.barrier()\n",
    "\n",
    "# first contraction\n",
    "qc.cnot(5, 6)\n",
    "qc.h(5)\n",
    "\n",
    "qc.barrier()\n",
    "\n",
    "# second contraction\n",
    "qc.cnot(4, 7)\n",
    "qc.h(4)\n",
    "\n",
    "qc.barrier()\n",
    "\n",
    "# third contraction\n",
    "qc.cnot(1, 8)\n",
    "qc.h(1)\n",
    "\n",
    "qc.barrier()\n",
    "\n",
    "# fourth contraction\n",
    "qc.cnot(0, 9)\n",
    "qc.h(0)\n",
    "\n",
    "print(qc.draw())\n",
    "\n",
    "calA_gate = deepcopy(qc)"
   ]
  },
  {
   "cell_type": "code",
   "execution_count": 10,
   "id": "9c626c12",
   "metadata": {
    "ExecuteTime": {
     "end_time": "2021-11-26T16:07:55.235076Z",
     "start_time": "2021-11-26T16:07:55.222200Z"
    }
   },
   "outputs": [
    {
     "name": "stdout",
     "output_type": "stream",
     "text": [
      "          ┌───┐ ░            ░            ░            ░  ┌────────────┐ \n",
      "q_0: ──■──┤ H ├─░────────────░────────────░────────────░──┤0           ├─\n",
      "       │  └───┘ ░      ┌───┐ ░            ░            ░  │            │ \n",
      "q_1: ──┼────────░───■──┤ H ├─░────────────░────────────░──┤1           ├─\n",
      "       │        ░   │  └───┘ ░            ░            ░  │            │ \n",
      "q_2: ──┼────────░───┼────────░────────────░────────────░──┤2           ├─\n",
      "       │        ░   │        ░            ░            ░  │  circuit-4 │ \n",
      "q_3: ──┼────────░───┼────────░────────────░────────────░──┤3           ├─\n",
      "       │        ░   │        ░      ┌───┐ ░            ░  │            │ \n",
      "q_4: ──┼────────░───┼────────░───■──┤ H ├─░────────────░──┤4           ├─\n",
      "       │        ░   │        ░   │  └───┘ ░      ┌───┐ ░  │            │ \n",
      "q_5: ──┼────────░───┼────────░───┼────────░───■──┤ H ├─░──┤5           ├─\n",
      "       │        ░   │        ░   │        ░ ┌─┴─┐└───┘ ░ ┌┴────────────┴┐\n",
      "q_6: ──┼────────░───┼────────░───┼────────░─┤ X ├──────░─┤0             ├\n",
      "       │        ░   │        ░ ┌─┴─┐      ░ └───┘      ░ │  circuit-146 │\n",
      "q_7: ──┼────────░───┼────────░─┤ X ├──────░────────────░─┤1             ├\n",
      "       │        ░ ┌─┴─┐      ░ └───┘      ░            ░ ├──────────────┤\n",
      "q_8: ──┼────────░─┤ X ├──────░────────────░────────────░─┤0             ├\n",
      "     ┌─┴─┐      ░ └───┘      ░            ░            ░ │  circuit-146 │\n",
      "q_9: ┤ X ├──────░────────────░────────────░────────────░─┤1             ├\n",
      "     └───┘      ░            ░            ░            ░ └──────────────┘\n"
     ]
    }
   ],
   "source": [
    "# build calAdag gate\n",
    "wrap=True\n",
    "\n",
    "qr = qk.QuantumRegister(10, 'q')\n",
    "qc = qk.QuantumCircuit(qr)\n",
    "\n",
    "# fourth contraction\n",
    "qc.cnot(0, 9)\n",
    "qc.h(0)\n",
    "\n",
    "qc.barrier()\n",
    "\n",
    "# third contraction\n",
    "qc.cnot(1, 8)\n",
    "qc.h(1)\n",
    "\n",
    "qc.barrier()\n",
    "\n",
    "# second contraction\n",
    "qc.cnot(4, 7)\n",
    "qc.h(4)\n",
    "\n",
    "qc.barrier()\n",
    "\n",
    "# first contraction\n",
    "qc.cnot(5, 6)\n",
    "qc.h(5)\n",
    "\n",
    "qc.barrier()\n",
    "\n",
    "qc.compose(Wdag_gate, qr[:6], inplace=True, wrap=wrap)\n",
    "qc.compose(Tdag_gate, qr[6:8], inplace=True, wrap=wrap)\n",
    "qc.compose(Adag_gate, qr[8:10], inplace=True, wrap=wrap)\n",
    "\n",
    "print(qc.draw())\n",
    "\n",
    "calAdag_gate = deepcopy(qc)"
   ]
  },
  {
   "cell_type": "code",
   "execution_count": 11,
   "id": "c353dffb",
   "metadata": {
    "ExecuteTime": {
     "end_time": "2021-11-26T16:07:55.244363Z",
     "start_time": "2021-11-26T16:07:55.236433Z"
    }
   },
   "outputs": [
    {
     "name": "stdout",
     "output_type": "stream",
     "text": [
      "      ┌───┐     ┌───┐\n",
      " q_0: ┤ X ├──■──┤ X ├\n",
      "      ├───┤  │  ├───┤\n",
      " q_1: ┤ X ├──■──┤ X ├\n",
      "      └───┘  │  └───┘\n",
      " q_2: ───────┼───────\n",
      "             │       \n",
      " q_3: ───────■───────\n",
      "      ┌───┐  │  ┌───┐\n",
      " q_4: ┤ X ├──■──┤ X ├\n",
      "      ├───┤  │  ├───┤\n",
      " q_5: ┤ X ├──■──┤ X ├\n",
      "      ├───┤  │  ├───┤\n",
      " q_6: ┤ X ├──■──┤ X ├\n",
      "      ├───┤  │  ├───┤\n",
      " q_7: ┤ X ├──■──┤ X ├\n",
      "      ├───┤  │  ├───┤\n",
      " q_8: ┤ X ├──■──┤ X ├\n",
      "      ├───┤  │  ├───┤\n",
      " q_9: ┤ X ├──■──┤ X ├\n",
      "      └───┘┌─┴─┐└───┘\n",
      "q_10: ─────┤ X ├─────\n",
      "           └───┘     \n"
     ]
    }
   ],
   "source": [
    "# build Sx gate\n",
    "\n",
    "qr = qk.QuantumRegister(11, 'q')\n",
    "qc = qk.QuantumCircuit(qr)\n",
    "\n",
    "qc.x([i for i in range(11) if i not in [2, 3, 10]])\n",
    "qc.compose(MCMT('cx', 9, 1), qr[:2] + qr[3:], inplace=True)\n",
    "qc.x([i for i in range(11) if i not in [2, 3, 10]])\n",
    "\n",
    "\n",
    "print(qc.draw())\n",
    "\n",
    "Sx_gate = deepcopy(qc)"
   ]
  },
  {
   "cell_type": "code",
   "execution_count": 12,
   "id": "f77559a9",
   "metadata": {
    "ExecuteTime": {
     "end_time": "2021-11-26T16:07:55.253529Z",
     "start_time": "2021-11-26T16:07:55.245973Z"
    }
   },
   "outputs": [
    {
     "name": "stdout",
     "output_type": "stream",
     "text": [
      "     ┌───┐          ┌───┐     \n",
      "q_0: ┤ X ├───────■──┤ X ├─────\n",
      "     ├───┤       │  ├───┤     \n",
      "q_1: ┤ X ├───────■──┤ X ├─────\n",
      "     └───┘       │  └───┘     \n",
      "q_2: ────────────┼────────────\n",
      "     ┌───┐       │  ┌───┐     \n",
      "q_3: ┤ X ├───────■──┤ X ├─────\n",
      "     ├───┤       │  ├───┤     \n",
      "q_4: ┤ X ├───────■──┤ X ├─────\n",
      "     ├───┤       │  ├───┤     \n",
      "q_5: ┤ X ├───────■──┤ X ├─────\n",
      "     ├───┤       │  ├───┤     \n",
      "q_6: ┤ X ├───────■──┤ X ├─────\n",
      "     ├───┤       │  ├───┤     \n",
      "q_7: ┤ X ├───────■──┤ X ├─────\n",
      "     ├───┤       │  ├───┤     \n",
      "q_8: ┤ X ├───────■──┤ X ├─────\n",
      "     ├───┤┌───┐┌─┴─┐├───┤┌───┐\n",
      "q_9: ┤ X ├┤ H ├┤ X ├┤ H ├┤ X ├\n",
      "     └───┘└───┘└───┘└───┘└───┘\n"
     ]
    }
   ],
   "source": [
    "# build S0 gate\n",
    "\n",
    "qr = qk.QuantumRegister(10, 'q')\n",
    "qc = qk.QuantumCircuit(qr)\n",
    "\n",
    "affected = qr[:2] + qr[3:]\n",
    "\n",
    "qc.x(affected)\n",
    "qc.h(-1)\n",
    "qc.compose(MCMT('cx', 8, 1), affected, inplace=True)\n",
    "qc.h(-1)\n",
    "qc.x(affected)\n",
    "\n",
    "print(qc.draw())\n",
    "\n",
    "S0_gate = deepcopy(qc)"
   ]
  },
  {
   "cell_type": "code",
   "execution_count": 13,
   "id": "eae57900",
   "metadata": {
    "ExecuteTime": {
     "end_time": "2021-11-26T16:07:55.278513Z",
     "start_time": "2021-11-26T16:07:55.254667Z"
    }
   },
   "outputs": [
    {
     "name": "stdout",
     "output_type": "stream",
     "text": [
      "      ┌───┐     ┌───┐ ░      ┌───┐ ░            ░            ░            ░ »\n",
      " q_0: ┤ X ├──■──┤ X ├─░───■──┤ H ├─░────────────░────────────░────────────░─»\n",
      "      ├───┤  │  ├───┤ ░   │  └───┘ ░      ┌───┐ ░            ░            ░ »\n",
      " q_1: ┤ X ├──■──┤ X ├─░───┼────────░───■──┤ H ├─░────────────░────────────░─»\n",
      "      └───┘  │  └───┘ ░   │        ░   │  └───┘ ░            ░            ░ »\n",
      " q_2: ───────┼────────░───┼────────░───┼────────░────────────░────────────░─»\n",
      "             │        ░   │        ░   │        ░            ░            ░ »\n",
      " q_3: ───────■────────░───┼────────░───┼────────░────────────░────────────░─»\n",
      "      ┌───┐  │  ┌───┐ ░   │        ░   │        ░      ┌───┐ ░            ░ »\n",
      " q_4: ┤ X ├──■──┤ X ├─░───┼────────░───┼────────░───■──┤ H ├─░────────────░─»\n",
      "      ├───┤  │  ├───┤ ░   │        ░   │        ░   │  └───┘ ░      ┌───┐ ░ »\n",
      " q_5: ┤ X ├──■──┤ X ├─░───┼────────░───┼────────░───┼────────░───■──┤ H ├─░─»\n",
      "      ├───┤  │  ├───┤ ░   │        ░   │        ░   │        ░ ┌─┴─┐└───┘ ░ »\n",
      " q_6: ┤ X ├──■──┤ X ├─░───┼────────░───┼────────░───┼────────░─┤ X ├──────░─»\n",
      "      ├───┤  │  ├───┤ ░   │        ░   │        ░ ┌─┴─┐      ░ └───┘      ░ »\n",
      " q_7: ┤ X ├──■──┤ X ├─░───┼────────░───┼────────░─┤ X ├──────░────────────░─»\n",
      "      ├───┤  │  ├───┤ ░   │        ░ ┌─┴─┐      ░ └───┘      ░            ░ »\n",
      " q_8: ┤ X ├──■──┤ X ├─░───┼────────░─┤ X ├──────░────────────░────────────░─»\n",
      "      ├───┤  │  ├───┤ ░ ┌─┴─┐      ░ └───┘      ░            ░            ░ »\n",
      " q_9: ┤ X ├──■──┤ X ├─░─┤ X ├──────░────────────░────────────░────────────░─»\n",
      "      └───┘┌─┴─┐└───┘ ░ └───┘      ░            ░            ░            ░ »\n",
      "q_10: ─────┤ X ├──────░─────────────────────────────────────────────────────»\n",
      "           └───┘      ░                                                     »\n",
      "«       ┌────────────┐  ░ ┌───┐          ┌───┐      ░  ┌────────────┐  ░      »\n",
      "« q_0: ─┤0           ├──░─┤ X ├───────■──┤ X ├──────░──┤0           ├──░──────»\n",
      "«       │            │  ░ ├───┤       │  ├───┤      ░  │            │  ░      »\n",
      "« q_1: ─┤1           ├──░─┤ X ├───────■──┤ X ├──────░──┤1           ├──░──────»\n",
      "«       │            │  ░ └───┘       │  └───┘      ░  │            │  ░      »\n",
      "« q_2: ─┤2           ├──░─────────────┼─────────────░──┤2           ├──░──────»\n",
      "«       │  circuit-4 │  ░ ┌───┐       │  ┌───┐      ░  │  circuit-3 │  ░      »\n",
      "« q_3: ─┤3           ├──░─┤ X ├───────■──┤ X ├──────░──┤3           ├──░──────»\n",
      "«       │            │  ░ ├───┤       │  ├───┤      ░  │            │  ░      »\n",
      "« q_4: ─┤4           ├──░─┤ X ├───────■──┤ X ├──────░──┤4           ├──░──────»\n",
      "«       │            │  ░ ├───┤       │  ├───┤      ░  │            │  ░      »\n",
      "« q_5: ─┤5           ├──░─┤ X ├───────■──┤ X ├──────░──┤5           ├──░───■──»\n",
      "«      ┌┴────────────┴┐ ░ ├───┤       │  ├───┤      ░ ┌┴────────────┴┐ ░ ┌─┴─┐»\n",
      "« q_6: ┤0             ├─░─┤ X ├───────■──┤ X ├──────░─┤0             ├─░─┤ X ├»\n",
      "«      │  circuit-146 │ ░ ├───┤       │  ├───┤      ░ │  circuit-145 │ ░ └───┘»\n",
      "« q_7: ┤1             ├─░─┤ X ├───────■──┤ X ├──────░─┤1             ├─░──────»\n",
      "«      ├──────────────┤ ░ ├───┤       │  ├───┤      ░ ├──────────────┤ ░      »\n",
      "« q_8: ┤0             ├─░─┤ X ├───────■──┤ X ├──────░─┤0             ├─░──────»\n",
      "«      │  circuit-146 │ ░ ├───┤┌───┐┌─┴─┐├───┤┌───┐ ░ │  circuit-145 │ ░      »\n",
      "« q_9: ┤1             ├─░─┤ X ├┤ H ├┤ X ├┤ H ├┤ X ├─░─┤1             ├─░──────»\n",
      "«      └──────────────┘ ░ └───┘└───┘└───┘└───┘└───┘ ░ └──────────────┘ ░      »\n",
      "«q_10: ─────────────────░───────────────────────────░─────────────────────────»\n",
      "«                       ░                           ░                         »\n",
      "«            ░            ░            ░      ┌───┐ ░ \n",
      "« q_0: ──────░────────────░────────────░───■──┤ H ├─░─\n",
      "«            ░            ░      ┌───┐ ░   │  └───┘ ░ \n",
      "« q_1: ──────░────────────░───■──┤ H ├─░───┼────────░─\n",
      "«            ░            ░   │  └───┘ ░   │        ░ \n",
      "« q_2: ──────░────────────░───┼────────░───┼────────░─\n",
      "«            ░            ░   │        ░   │        ░ \n",
      "« q_3: ──────░────────────░───┼────────░───┼────────░─\n",
      "«            ░      ┌───┐ ░   │        ░   │        ░ \n",
      "« q_4: ──────░───■──┤ H ├─░───┼────────░───┼────────░─\n",
      "«      ┌───┐ ░   │  └───┘ ░   │        ░   │        ░ \n",
      "« q_5: ┤ H ├─░───┼────────░───┼────────░───┼────────░─\n",
      "«      └───┘ ░   │        ░   │        ░   │        ░ \n",
      "« q_6: ──────░───┼────────░───┼────────░───┼────────░─\n",
      "«            ░ ┌─┴─┐      ░   │        ░   │        ░ \n",
      "« q_7: ──────░─┤ X ├──────░───┼────────░───┼────────░─\n",
      "«            ░ └───┘      ░ ┌─┴─┐      ░   │        ░ \n",
      "« q_8: ──────░────────────░─┤ X ├──────░───┼────────░─\n",
      "«            ░            ░ └───┘      ░ ┌─┴─┐      ░ \n",
      "« q_9: ──────░────────────░────────────░─┤ X ├──────░─\n",
      "«            ░            ░            ░ └───┘      ░ \n",
      "«q_10: ─────────────────────────────────────────────░─\n",
      "«                                                   ░ \n"
     ]
    }
   ],
   "source": [
    "# build Q operator \n",
    "\n",
    "qr = qk.QuantumRegister(11, 'q')\n",
    "qc = qk.QuantumCircuit(qr)\n",
    "\n",
    "qc.compose(Sx_gate, qr, inplace=True)\n",
    "qc.barrier()\n",
    "qc.compose(calAdag_gate, qr[:-1], inplace=True)\n",
    "qc.barrier()\n",
    "qc.compose(S0_gate, qr[:-1], inplace=True)\n",
    "qc.barrier()\n",
    "qc.compose(calA_gate, qr[:-1], inplace=True)\n",
    "qc.barrier()\n",
    "\n",
    "print(qc.draw())\n",
    "\n",
    "Q_gate = deepcopy(qc)"
   ]
  },
  {
   "cell_type": "code",
   "execution_count": 14,
   "id": "cf65e14a",
   "metadata": {
    "ExecuteTime": {
     "end_time": "2021-11-26T16:19:10.747858Z",
     "start_time": "2021-11-26T16:07:55.281042Z"
    },
    "scrolled": false
   },
   "outputs": [
    {
     "name": "stdout",
     "output_type": "stream",
     "text": [
      "iter  1\n",
      "0.0032501220703125\n",
      "iter  2\n",
      "0.006317138671875\n",
      "iter  3\n",
      "0.00030517578125\n",
      "iter  4\n",
      "0.000213623046875\n",
      "iter  5\n",
      "0.0178680419921875\n",
      "iter  6\n",
      "0.0086669921875\n",
      "iter  7\n",
      "0.0046844482421875\n",
      "iter  8\n",
      "0.0\n",
      "iter  9\n",
      "0.00439453125\n",
      "iter  10\n",
      "0.0028076171875\n",
      "iter  11\n",
      "0.0003662109375\n",
      "iter  12\n",
      "0.007659912109375\n",
      "iter  13\n",
      "0.0024871826171875\n",
      "iter  14\n",
      "0.016021728515625\n",
      "iter  15\n",
      "0.0011444091796875\n",
      "iter  16\n",
      "0.0027618408203125\n",
      "iter  17\n",
      "0.0080108642578125\n",
      "iter  18\n",
      "0.010955810546875\n",
      "iter  19\n",
      "0.0005645751953125\n",
      "iter  20\n",
      "0.003814697265625\n",
      "iter  21\n",
      "0.0\n",
      "iter  22\n",
      "0.003143310546875\n",
      "iter  23\n",
      "0.0009918212890625\n",
      "iter  24\n",
      "0.020355224609375\n",
      "iter  25\n",
      "0.0001220703125\n",
      "iter  26\n",
      "0.012939453125\n",
      "iter  27\n",
      "0.00189208984375\n",
      "iter  28\n",
      "0.008758544921875\n",
      "iter  29\n",
      "9.1552734375e-05\n",
      "iter  30\n",
      "0.0022430419921875\n",
      "iter  31\n",
      "0.00042724609375\n",
      "iter  32\n",
      "0.0124053955078125\n",
      "iter  33\n",
      "0.0070037841796875\n",
      "iter  34\n",
      "0.0001068115234375\n",
      "iter  35\n",
      "0.0002899169921875\n",
      "iter  36\n",
      "0.0236663818359375\n",
      "iter  37\n",
      "0.0046539306640625\n",
      "iter  38\n",
      "0.0019683837890625\n",
      "iter  39\n",
      "7.62939453125e-05\n",
      "iter  40\n",
      "0.0077056884765625\n",
      "iter  41\n",
      "0.0037384033203125\n",
      "iter  42\n",
      "0.0009918212890625\n",
      "iter  43\n",
      "0.0056610107421875\n",
      "iter  44\n",
      "0.0097503662109375\n",
      "iter  45\n",
      "0.01708984375\n",
      "iter  46\n",
      "0.0021209716796875\n",
      "iter  47\n",
      "0.001434326171875\n",
      "iter  48\n",
      "0.0106964111328125\n",
      "iter  49\n",
      "0.0056915283203125\n",
      "iter  50\n",
      "0.000152587890625\n",
      "iter  51\n",
      "0.0079803466796875\n",
      "iter  52\n",
      "0.000274658203125\n",
      "iter  53\n",
      "0.003875732421875\n",
      "iter  54\n",
      "0.006195068359375\n",
      "iter  55\n",
      "0.0201568603515625\n",
      "iter  56\n",
      "0.00115966796875\n",
      "iter  57\n",
      "0.0096893310546875\n",
      "iter  58\n",
      "0.003326416015625\n",
      "iter  59\n",
      "0.0092926025390625\n",
      "iter  60\n",
      "9.1552734375e-05\n",
      "iter  61\n",
      "0.000335693359375\n",
      "iter  62\n",
      "0.0002288818359375\n",
      "iter  63\n",
      "0.022369384765625\n",
      "iter  64\n",
      "0.0041656494140625\n",
      "iter  65\n",
      "0.0001678466796875\n",
      "iter  66\n",
      "0.0035247802734375\n",
      "iter  67\n",
      "0.0240478515625\n",
      "iter  68\n",
      "0.0010528564453125\n",
      "iter  69\n",
      "0.0002899169921875\n",
      "iter  70\n",
      "0.0\n",
      "iter  71\n",
      "0.00921630859375\n",
      "iter  72\n",
      "0.0033111572265625\n",
      "iter  73\n",
      "0.003997802734375\n",
      "iter  74\n",
      "0.0015869140625\n",
      "iter  75\n",
      "0.01873779296875\n",
      "iter  76\n",
      "0.0105743408203125\n",
      "iter  77\n",
      "0.0027618408203125\n",
      "iter  78\n",
      "0.000152587890625\n",
      "iter  79\n",
      "0.01153564453125\n",
      "iter  80\n",
      "0.00225830078125\n",
      "iter  81\n",
      "0.00238037109375\n",
      "iter  82\n",
      "0.00787353515625\n",
      "iter  83\n",
      "0.0016632080078125\n",
      "iter  84\n",
      "0.004364013671875\n",
      "iter  85\n",
      "0.0123748779296875\n",
      "iter  86\n",
      "0.012115478515625\n",
      "iter  87\n",
      "0.0048828125\n",
      "iter  88\n",
      "0.0050201416015625\n",
      "iter  89\n",
      "0.0046234130859375\n",
      "iter  90\n",
      "0.0076446533203125\n",
      "iter  91\n",
      "0.0002899169921875\n",
      "iter  92\n",
      "4.57763671875e-05\n",
      "iter  93\n",
      "0.0034027099609375\n",
      "iter  94\n",
      "0.022216796875\n",
      "iter  95\n",
      "0.0005950927734375\n",
      "iter  96\n",
      "6.103515625e-05\n",
      "iter  97\n",
      "0.006378173828125\n",
      "iter  98\n",
      "0.0169677734375\n",
      "iter  99\n",
      "1.52587890625e-05\n",
      "iter  100\n",
      "0.0001983642578125\n"
     ]
    }
   ],
   "source": [
    "# test\n",
    "\n",
    "max_iter = 100\n",
    "\n",
    "qr = qk.QuantumRegister(11, 'q')\n",
    "cr = qk.ClassicalRegister(10, 'c')\n",
    "qc = qk.QuantumCircuit(qr, cr)\n",
    "\n",
    "qc.compose(calA_gate, qr[:-1], inplace=True)\n",
    "qc.x(qr[-1])\n",
    "qc.h(qr[-1])\n",
    "\n",
    "qc.barrier()\n",
    "\n",
    "# print(qc.draw())\n",
    "\n",
    "for i in range(1, max_iter+1):\n",
    "    qc0 = deepcopy(qc)\n",
    "    for j in range(i):\n",
    "        qc0.compose(Q_gate, qr, inplace=True)\n",
    "\n",
    "    qc0.measure(qr[:-1], cr)\n",
    "\n",
    "#     print(qc0.draw())\n",
    "    # i want the state |001>\n",
    "    shots = 2**16\n",
    "    print('iter ', i)\n",
    "    counts = t.counts(qc0, shots=shots)\n",
    "    print(counts.get('0011000000', 0)/shots)\n",
    "#     print(i, 'iter', counts)\n",
    "#     histo(counts)"
   ]
  },
  {
   "cell_type": "code",
   "execution_count": null,
   "id": "58b4e82c",
   "metadata": {},
   "outputs": [],
   "source": []
  }
 ],
 "metadata": {
  "kernelspec": {
   "display_name": "Python 3 (ipykernel)",
   "language": "python",
   "name": "python3"
  },
  "language_info": {
   "codemirror_mode": {
    "name": "ipython",
    "version": 3
   },
   "file_extension": ".py",
   "mimetype": "text/x-python",
   "name": "python",
   "nbconvert_exporter": "python",
   "pygments_lexer": "ipython3",
   "version": "3.9.7"
  },
  "varInspector": {
   "cols": {
    "lenName": 16,
    "lenType": 16,
    "lenVar": 40
   },
   "kernels_config": {
    "python": {
     "delete_cmd_postfix": "",
     "delete_cmd_prefix": "del ",
     "library": "var_list.py",
     "varRefreshCmd": "print(var_dic_list())"
    },
    "r": {
     "delete_cmd_postfix": ") ",
     "delete_cmd_prefix": "rm(",
     "library": "var_list.r",
     "varRefreshCmd": "cat(var_dic_list()) "
    }
   },
   "types_to_exclude": [
    "module",
    "function",
    "builtin_function_or_method",
    "instance",
    "_Feature"
   ],
   "window_display": false
  }
 },
 "nbformat": 4,
 "nbformat_minor": 5
}
