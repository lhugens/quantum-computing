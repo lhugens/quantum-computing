{
 "cells": [
  {
   "cell_type": "code",
   "execution_count": 5,
   "id": "e0d6a6ea",
   "metadata": {
    "ExecuteTime": {
     "end_time": "2021-12-08T13:02:54.742091Z",
     "start_time": "2021-12-08T13:02:54.739632Z"
    }
   },
   "outputs": [],
   "source": [
    "import qiskit as qk\n",
    "from context import tools as t\n",
    "import numpy as np\n",
    "from qiskit.circuit.library import MCMT\n"
   ]
  },
  {
   "cell_type": "code",
   "execution_count": 4,
   "id": "2ef6093b",
   "metadata": {
    "ExecuteTime": {
     "end_time": "2021-12-08T11:14:15.556219Z",
     "start_time": "2021-12-08T11:14:15.539162Z"
    }
   },
   "outputs": [
    {
     "name": "stdout",
     "output_type": "stream",
     "text": [
      "     ┌───┐     ┌───┐\n",
      "q_0: ┤ X ├──■──┤ X ├\n",
      "     └───┘  │  └───┘\n",
      "q_1: ───────┼───────\n",
      "            │       \n",
      "q_2: ───────■───────\n",
      "     ┌───┐  │  ┌───┐\n",
      "q_3: ┤ X ├──■──┤ X ├\n",
      "     └───┘┌─┴─┐└───┘\n",
      "q_4: ─────┤ X ├─────\n",
      "          └───┘     \n"
     ]
    }
   ],
   "source": [
    "print(t.oracle_ancilla('0.10').draw())"
   ]
  },
  {
   "cell_type": "code",
   "execution_count": 3,
   "id": "2184d781",
   "metadata": {
    "ExecuteTime": {
     "end_time": "2021-12-08T11:12:50.508499Z",
     "start_time": "2021-12-08T11:12:50.401264Z"
    }
   },
   "outputs": [
    {
     "ename": "NameError",
     "evalue": "name 'MCMT' is not defined",
     "output_type": "error",
     "traceback": [
      "\u001b[0;31m---------------------------------------------------------------------------\u001b[0m",
      "\u001b[0;31mNameError\u001b[0m                                 Traceback (most recent call last)",
      "\u001b[0;32m/tmp/ipykernel_25254/3469002149.py\u001b[0m in \u001b[0;36m<module>\u001b[0;34m\u001b[0m\n\u001b[1;32m     11\u001b[0m     \u001b[0mprint\u001b[0m\u001b[0;34m(\u001b[0m\u001b[0mqc\u001b[0m\u001b[0;34m.\u001b[0m\u001b[0mdraw\u001b[0m\u001b[0;34m(\u001b[0m\u001b[0;34m)\u001b[0m\u001b[0;34m)\u001b[0m\u001b[0;34m\u001b[0m\u001b[0;34m\u001b[0m\u001b[0m\n\u001b[1;32m     12\u001b[0m \u001b[0;34m\u001b[0m\u001b[0m\n\u001b[0;32m---> 13\u001b[0;31m \u001b[0moracle_ancilla\u001b[0m\u001b[0;34m(\u001b[0m\u001b[0;34m'00.1000000'\u001b[0m\u001b[0;34m)\u001b[0m\u001b[0;34m\u001b[0m\u001b[0;34m\u001b[0m\u001b[0m\n\u001b[0m",
      "\u001b[0;32m/tmp/ipykernel_25254/3469002149.py\u001b[0m in \u001b[0;36moracle_ancilla\u001b[0;34m(bit_str)\u001b[0m\n\u001b[1;32m      6\u001b[0m     \u001b[0mqr\u001b[0m\u001b[0;34m,\u001b[0m \u001b[0mqc\u001b[0m \u001b[0;34m=\u001b[0m \u001b[0mt\u001b[0m\u001b[0;34m.\u001b[0m\u001b[0mcirc\u001b[0m\u001b[0;34m(\u001b[0m\u001b[0mn_qubits\u001b[0m\u001b[0;34m+\u001b[0m\u001b[0;36m1\u001b[0m\u001b[0;34m)\u001b[0m\u001b[0;34m\u001b[0m\u001b[0;34m\u001b[0m\u001b[0m\n\u001b[1;32m      7\u001b[0m     \u001b[0mqc\u001b[0m\u001b[0;34m.\u001b[0m\u001b[0mx\u001b[0m\u001b[0;34m(\u001b[0m\u001b[0mqr\u001b[0m\u001b[0;34m[\u001b[0m\u001b[0mdesired0\u001b[0m\u001b[0;34m]\u001b[0m\u001b[0;34m)\u001b[0m\u001b[0;34m\u001b[0m\u001b[0;34m\u001b[0m\u001b[0m\n\u001b[0;32m----> 8\u001b[0;31m     \u001b[0mqc\u001b[0m\u001b[0;34m.\u001b[0m\u001b[0mcompose\u001b[0m\u001b[0;34m(\u001b[0m\u001b[0mMCMT\u001b[0m\u001b[0;34m(\u001b[0m\u001b[0;34m'cx'\u001b[0m\u001b[0;34m,\u001b[0m \u001b[0mlen\u001b[0m\u001b[0;34m(\u001b[0m\u001b[0maffected\u001b[0m\u001b[0;34m)\u001b[0m\u001b[0;34m,\u001b[0m \u001b[0;36m1\u001b[0m\u001b[0;34m)\u001b[0m\u001b[0;34m,\u001b[0m \u001b[0mqr\u001b[0m\u001b[0;34m[\u001b[0m\u001b[0maffected\u001b[0m\u001b[0;34m]\u001b[0m \u001b[0;34m+\u001b[0m \u001b[0;34m[\u001b[0m\u001b[0mqr\u001b[0m\u001b[0;34m[\u001b[0m\u001b[0;34m-\u001b[0m\u001b[0;36m1\u001b[0m\u001b[0;34m]\u001b[0m\u001b[0;34m]\u001b[0m\u001b[0;34m,\u001b[0m \u001b[0minplace\u001b[0m\u001b[0;34m=\u001b[0m\u001b[0;32mTrue\u001b[0m\u001b[0;34m)\u001b[0m\u001b[0;34m\u001b[0m\u001b[0;34m\u001b[0m\u001b[0m\n\u001b[0m\u001b[1;32m      9\u001b[0m     \u001b[0mqc\u001b[0m\u001b[0;34m.\u001b[0m\u001b[0mx\u001b[0m\u001b[0;34m(\u001b[0m\u001b[0mqr\u001b[0m\u001b[0;34m[\u001b[0m\u001b[0mdesired0\u001b[0m\u001b[0;34m]\u001b[0m\u001b[0;34m)\u001b[0m\u001b[0;34m\u001b[0m\u001b[0;34m\u001b[0m\u001b[0m\n\u001b[1;32m     10\u001b[0m     \u001b[0;32mreturn\u001b[0m \u001b[0mqc\u001b[0m\u001b[0;34m\u001b[0m\u001b[0;34m\u001b[0m\u001b[0m\n",
      "\u001b[0;31mNameError\u001b[0m: name 'MCMT' is not defined"
     ]
    }
   ],
   "source": [
    "def oracle_ancilla(bit_str):\n",
    "    s_arr = np.array(list(bit_str), dtype=object)\n",
    "    desired0 = list(np.where(s_arr == '0')[0])\n",
    "    affected = list(np.where(s_arr != '.')[0])\n",
    "    n_qubits = len(bit_str)\n",
    "    qr, qc = t.circ(n_qubits+1)\n",
    "    qc.x(qr[desired0])\n",
    "    qc.compose(MCMT('cx', len(affected), 1), qr[affected] + [qr[-1]], inplace=True)\n",
    "    qc.x(qr[desired0])\n",
    "    return qc\n",
    "    print(qc.draw())\n",
    "    \n",
    "oracle_ancilla('00.1000000')"
   ]
  },
  {
   "cell_type": "code",
   "execution_count": null,
   "id": "37202ec6",
   "metadata": {
    "ExecuteTime": {
     "end_time": "2021-12-08T11:12:50.511306Z",
     "start_time": "2021-12-08T11:12:50.511296Z"
    }
   },
   "outputs": [],
   "source": [
    "def oracle(bit_str):\n",
    "    s_arr = np.array(list(bit_str), dtype=object)\n",
    "    desired0 = list(np.where(s_arr == '0')[0])\n",
    "    affected = list(np.where(s_arr != '.')[0])\n",
    "    n_qubits = len(bit_str)\n",
    "    qr, qc = t.circ(n_qubits)\n",
    "    qc.x(qr[desired0])\n",
    "    qc.barrier()\n",
    "    qc.h(-1)\n",
    "    qc.compose(MCMT('cx', len(affected)-1, 1), qr[affected], inplace=True)\n",
    "    qc.h(-1)\n",
    "    qc.barrier()\n",
    "    qc.x(qr[desired0])\n",
    "    return qc\n",
    "    \n",
    "oracle('00.1001000').draw()"
   ]
  },
  {
   "cell_type": "code",
   "execution_count": null,
   "id": "0fc83858",
   "metadata": {
    "ExecuteTime": {
     "end_time": "2021-12-08T11:12:50.512106Z",
     "start_time": "2021-12-08T11:12:50.512096Z"
    }
   },
   "outputs": [],
   "source": [
    "s = '00.1000000'\n",
    "s_arr = np.array(list(s), dtype=object)\n",
    "np.where(s_arr != '.')[0][:-1]"
   ]
  },
  {
   "cell_type": "code",
   "execution_count": null,
   "id": "5e485c9c",
   "metadata": {
    "ExecuteTime": {
     "end_time": "2021-12-08T11:12:50.512846Z",
     "start_time": "2021-12-08T11:12:50.512837Z"
    }
   },
   "outputs": [],
   "source": [
    "desired0 = np.where(s_arr == '0')[0].astype(int)\n",
    "affected = np.where(s_arr != '.')[0]\n",
    "print(desired0)"
   ]
  },
  {
   "cell_type": "code",
   "execution_count": 7,
   "id": "f3f2b5f5",
   "metadata": {
    "ExecuteTime": {
     "end_time": "2021-12-08T13:03:08.868577Z",
     "start_time": "2021-12-08T13:03:08.847842Z"
    }
   },
   "outputs": [
    {
     "name": "stdout",
     "output_type": "stream",
     "text": [
      "     ┌───┐          ┌───┐     \n",
      "q_0: ┤ X ├───────■──┤ X ├─────\n",
      "     ├───┤       │  ├───┤     \n",
      "q_1: ┤ X ├───────■──┤ X ├─────\n",
      "     ├───┤┌───┐┌─┴─┐├───┤┌───┐\n",
      "q_2: ┤ X ├┤ H ├┤ X ├┤ H ├┤ X ├\n",
      "     └───┘└───┘└───┘└───┘└───┘\n"
     ]
    }
   ],
   "source": [
    "def S0(n_qubits):\n",
    "    qr, qc = t.circ(n_qubits)\n",
    "    qc.x(qr)\n",
    "    qc.h(-1)\n",
    "    qc.compose(MCMT('cx', n_qubits-1, 1), qr, inplace=True)\n",
    "    qc.h(-1)\n",
    "    qc.x(qr)\n",
    "    print(qc.draw())\n",
    "S0(3)"
   ]
  },
  {
   "cell_type": "code",
   "execution_count": null,
   "id": "3c246c41",
   "metadata": {},
   "outputs": [],
   "source": []
  }
 ],
 "metadata": {
  "kernelspec": {
   "display_name": "Python 3 (ipykernel)",
   "language": "python",
   "name": "python3"
  },
  "language_info": {
   "codemirror_mode": {
    "name": "ipython",
    "version": 3
   },
   "file_extension": ".py",
   "mimetype": "text/x-python",
   "name": "python",
   "nbconvert_exporter": "python",
   "pygments_lexer": "ipython3",
   "version": "3.9.9"
  },
  "varInspector": {
   "cols": {
    "lenName": 16,
    "lenType": 16,
    "lenVar": 40
   },
   "kernels_config": {
    "python": {
     "delete_cmd_postfix": "",
     "delete_cmd_prefix": "del ",
     "library": "var_list.py",
     "varRefreshCmd": "print(var_dic_list())"
    },
    "r": {
     "delete_cmd_postfix": ") ",
     "delete_cmd_prefix": "rm(",
     "library": "var_list.r",
     "varRefreshCmd": "cat(var_dic_list()) "
    }
   },
   "types_to_exclude": [
    "module",
    "function",
    "builtin_function_or_method",
    "instance",
    "_Feature"
   ],
   "window_display": false
  }
 },
 "nbformat": 4,
 "nbformat_minor": 5
}
