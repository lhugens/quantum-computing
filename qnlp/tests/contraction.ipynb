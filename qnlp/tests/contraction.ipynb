{
 "cells": [
  {
   "cell_type": "code",
   "execution_count": 2,
   "id": "0ddf6828",
   "metadata": {
    "ExecuteTime": {
     "end_time": "2021-11-06T16:03:25.723982Z",
     "start_time": "2021-11-06T16:03:23.960733Z"
    }
   },
   "outputs": [],
   "source": [
    "import numpy as np\n",
    "\n",
    "import qiskit as qk\n",
    "\n",
    "import tools as t"
   ]
  },
  {
   "cell_type": "code",
   "execution_count": 3,
   "id": "e99dc726",
   "metadata": {
    "ExecuteTime": {
     "end_time": "2021-11-06T16:03:26.674667Z",
     "start_time": "2021-11-06T16:03:26.664844Z"
    }
   },
   "outputs": [],
   "source": [
    "# initialize arbitrary tensors\n",
    "\n",
    "# worked with shots=2**18\n",
    "# A = np.array([1, 2])\n",
    "# B = np.array([2j, 1j, 1, 9])\n",
    "\n",
    "# worked with shots=2**19\n",
    "# A = np.array([1, 2])\n",
    "# B = np.array([2, 1, 1, 9])\n",
    "\n",
    "# worked with shots=2**19\n",
    "A = np.array([1j, 2])\n",
    "B = np.array([5j, 1, 3+1j, 0.5])"
   ]
  },
  {
   "cell_type": "code",
   "execution_count": 4,
   "id": "85ce55df",
   "metadata": {
    "ExecuteTime": {
     "end_time": "2021-11-06T16:03:27.113680Z",
     "start_time": "2021-11-06T16:03:27.090454Z"
    }
   },
   "outputs": [
    {
     "name": "stdout",
     "output_type": "stream",
     "text": [
      "\n",
      " A vector\n",
      "\n",
      "[0.+1.j 2.+0.j]\n",
      "\n",
      " B vector\n",
      "\n",
      "[0. +5.j 1. +0.j 3. +1.j 0.5+0.j]\n",
      "\n",
      " normalized a vector\n",
      "\n",
      "[0.        +0.4472136j 0.89442719+0.j       ]  norm:  0.9999999999999999\n",
      "\n",
      " normalized b vector\n",
      "\n",
      "[0.        +0.8304548j  0.16609096+0.j         0.49827288+0.16609096j\n",
      " 0.08304548+0.j        ]  norm:  1.0000000000000002\n",
      "\n",
      "WANTED, should be a_i b_ik |k>\n",
      "\n",
      "[0.07427814+0.14855627j 0.07427814+0.07427814j]\n",
      "\n",
      " COMPONENT\n",
      "\n",
      "[0.05252257+0.10504515j 0.05252257+0.05252257j]\n",
      "\n",
      "COMPONENT CANONICAL\n",
      "\n",
      "[0.11744404+0.j         0.07046643-0.02348881j]\n"
     ]
    }
   ],
   "source": [
    "# EXPECTED RESULT\n",
    "\n",
    "print('\\n A vector\\n')\n",
    "print(A)\n",
    "print('\\n B vector\\n')\n",
    "print(B)\n",
    "\n",
    "# normalize them\n",
    "a = t.normalize(A)\n",
    "b = t.normalize(B)\n",
    "\n",
    "print('\\n normalized a vector\\n')\n",
    "print(a, ' norm: ', t.norm(a))\n",
    "print('\\n normalized b vector\\n')\n",
    "print(b, ' norm: ', t.norm(b))\n",
    "\n",
    "# build the not-normalized state\n",
    "b_tensor = b.reshape(2, 2)\n",
    "wanted = np.einsum('i,ij', a, b_tensor)\n",
    "\n",
    "print('\\nWANTED, should be a_i b_ik |k>\\n')\n",
    "print(wanted)\n",
    "\n",
    "# multiply for 1/sqrt(2)\n",
    "component = wanted / np.sqrt(2)\n",
    "\n",
    "print('\\n COMPONENT\\n')\n",
    "print(component)\n",
    "\n",
    "# rotate it s.t. first coefficient is real\n",
    "component_canonical = t.canonical(component)\n",
    "\n",
    "print('\\nCOMPONENT CANONICAL\\n')\n",
    "print(component_canonical)"
   ]
  },
  {
   "cell_type": "code",
   "execution_count": 10,
   "id": "855e1b45",
   "metadata": {
    "ExecuteTime": {
     "end_time": "2021-10-27T13:38:53.702436Z",
     "start_time": "2021-10-27T13:38:48.327712Z"
    }
   },
   "outputs": [
    {
     "name": "stdout",
     "output_type": "stream",
     "text": [
      "                   ┌──────────────────────────────┐                  ┌───┐\n",
      "q_0: ──────────────┤ Initialize(0.44721j,0.89443) ├───────────────■──┤ H ├\n",
      "     ┌─────────────┴──────────────────────────────┴────────────┐┌─┴─┐└───┘\n",
      "q_1: ┤1                                                        ├┤ X ├─────\n",
      "     │  Initialize(0.83045j,0.16609,0.49827+0.16609j,0.083045) │└───┘     \n",
      "q_2: ┤0                                                        ├──────────\n",
      "     └─────────────────────────────────────────────────────────┘          \n"
     ]
    },
    {
     "data": {
      "text/plain": [
       "array([0.11719564+0.j        , 0.06957762-0.02450756j])"
      ]
     },
     "execution_count": 10,
     "metadata": {},
     "output_type": "execute_result"
    }
   ],
   "source": [
    "# SIMULATOR RESULT\n",
    "\n",
    "qc = qk.QuantumCircuit(3)\n",
    "qc.initialize(a, 0)\n",
    "qc.initialize(b, [2, 1])\n",
    "\n",
    "qc.cx(0, 1)\n",
    "qc.h(0)\n",
    "\n",
    "print(qc.draw())\n",
    "\n",
    "t.measure_substate(qc, 2, '00', shots=2**19)"
   ]
  },
  {
   "cell_type": "code",
   "execution_count": null,
   "id": "f0861058",
   "metadata": {},
   "outputs": [],
   "source": [
    "# let's try to make a super plot of these things\n",
    "\n"
   ]
  }
 ],
 "metadata": {
  "kernelspec": {
   "display_name": "Python 3 (ipykernel)",
   "language": "python",
   "name": "python3"
  },
  "language_info": {
   "codemirror_mode": {
    "name": "ipython",
    "version": 3
   },
   "file_extension": ".py",
   "mimetype": "text/x-python",
   "name": "python",
   "nbconvert_exporter": "python",
   "pygments_lexer": "ipython3",
   "version": "3.9.9"
  },
  "varInspector": {
   "cols": {
    "lenName": 16,
    "lenType": 16,
    "lenVar": 40
   },
   "kernels_config": {
    "python": {
     "delete_cmd_postfix": "",
     "delete_cmd_prefix": "del ",
     "library": "var_list.py",
     "varRefreshCmd": "print(var_dic_list())"
    },
    "r": {
     "delete_cmd_postfix": ") ",
     "delete_cmd_prefix": "rm(",
     "library": "var_list.r",
     "varRefreshCmd": "cat(var_dic_list()) "
    }
   },
   "types_to_exclude": [
    "module",
    "function",
    "builtin_function_or_method",
    "instance",
    "_Feature"
   ],
   "window_display": false
  }
 },
 "nbformat": 4,
 "nbformat_minor": 5
}
