{
 "cells": [
  {
   "cell_type": "code",
   "execution_count": 1,
   "id": "26e9ebed",
   "metadata": {
    "ExecuteTime": {
     "end_time": "2021-10-16T09:56:54.137719Z",
     "start_time": "2021-10-16T09:56:53.258960Z"
    }
   },
   "outputs": [],
   "source": [
    "import tools as t\n",
    "from tools.imports import *\n",
    "from copy import deepcopy\n",
    "from tools.utils import n2"
   ]
  },
  {
   "cell_type": "code",
   "execution_count": 2,
   "id": "62a4b437",
   "metadata": {
    "ExecuteTime": {
     "end_time": "2021-10-16T09:56:55.100808Z",
     "start_time": "2021-10-16T09:56:55.097563Z"
    }
   },
   "outputs": [],
   "source": [
    "a, b       = t.normalize([1+2j, 2+3j])\n",
    "c, d, e, f = t.normalize([3+4j, 1+4j, 5, 6])\n",
    "alligators = [a, b]\n",
    "swim = [c, d, e, f]"
   ]
  },
  {
   "cell_type": "code",
   "execution_count": 3,
   "id": "3bc63208",
   "metadata": {
    "ExecuteTime": {
     "end_time": "2021-10-16T09:56:56.560041Z",
     "start_time": "2021-10-16T09:56:56.528927Z"
    }
   },
   "outputs": [
    {
     "name": "stdout",
     "output_type": "stream",
     "text": [
      "                                                                       ░ ┌───┐»\n",
      "q_0: ──────────────────────────────────────────────────────────────────░─┤ H ├»\n",
      "               ┌────────────────────────────────────────────┐          ░ └───┘»\n",
      "q_1: ──────────┤ Initialize(0.2357+0.4714j,0.4714+0.70711j) ├──────────░──────»\n",
      "     ┌─────────┴────────────────────────────────────────────┴────────┐ ░      »\n",
      "q_2: ┤1                                                              ├─░──────»\n",
      "     │  Initialize(0.2956+0.39413j,0.098533+0.39413j,0.49266,0.5912) │ ░      »\n",
      "q_3: ┤0                                                              ├─░──────»\n",
      "     └───────────────────────────────────────────────────────────────┘ ░      »\n",
      "c: 2/═════════════════════════════════════════════════════════════════════════»\n",
      "                                                                              »\n",
      "«        ┌───┐ ░ ┌─┐   \n",
      "«q_0: ─■─┤ H ├─░─┤M├───\n",
      "«      │ └───┘ ░ └╥┘   \n",
      "«q_1: ─X───────░──╫────\n",
      "«      │       ░  ║    \n",
      "«q_2: ─X───────░──╫────\n",
      "«              ░  ║ ┌─┐\n",
      "«q_3: ─────────░──╫─┤M├\n",
      "«              ░  ║ └╥┘\n",
      "«c: 2/════════════╩══╩═\n",
      "«                 0  1 \n"
     ]
    }
   ],
   "source": [
    "# hadamard real part\n",
    "\n",
    "qr = qk.QuantumRegister(4, 'q')\n",
    "cr = qk.ClassicalRegister(2, 'c')\n",
    "qc = qk.QuantumCircuit(qr, cr)\n",
    "\n",
    "qc.initialize(alligators, 1)\n",
    "qc.initialize(swim, [3, 2])\n",
    "\n",
    "qc.barrier()\n",
    "\n",
    "qc.h(0)\n",
    "qc.cswap(0, 1, 2)\n",
    "qc.h(0)\n",
    "\n",
    "qc.barrier()\n",
    "\n",
    "qc.measure(0, 0)\n",
    "qc.measure(3, 1)\n",
    "\n",
    "print(qc.draw())\n",
    "\n",
    "qc_real = deepcopy(qc)"
   ]
  },
  {
   "cell_type": "code",
   "execution_count": 4,
   "id": "efe69765",
   "metadata": {
    "ExecuteTime": {
     "end_time": "2021-10-16T09:56:59.272383Z",
     "start_time": "2021-10-16T09:56:59.259667Z"
    }
   },
   "outputs": [
    {
     "name": "stdout",
     "output_type": "stream",
     "text": [
      "                                                                       ░ ┌───┐»\n",
      "q_0: ──────────────────────────────────────────────────────────────────░─┤ H ├»\n",
      "               ┌────────────────────────────────────────────┐          ░ └───┘»\n",
      "q_1: ──────────┤ Initialize(0.2357+0.4714j,0.4714+0.70711j) ├──────────░──────»\n",
      "     ┌─────────┴────────────────────────────────────────────┴────────┐ ░      »\n",
      "q_2: ┤1                                                              ├─░──────»\n",
      "     │  Initialize(0.2956+0.39413j,0.098533+0.39413j,0.49266,0.5912) │ ░      »\n",
      "q_3: ┤0                                                              ├─░──────»\n",
      "     └───────────────────────────────────────────────────────────────┘ ░      »\n",
      "c: 2/═════════════════════════════════════════════════════════════════════════»\n",
      "                                                                              »\n",
      "«     ┌─────┐   ┌───┐ ░ ┌─┐   \n",
      "«q_0: ┤ Sdg ├─■─┤ H ├─░─┤M├───\n",
      "«     └─────┘ │ └───┘ ░ └╥┘   \n",
      "«q_1: ────────X───────░──╫────\n",
      "«             │       ░  ║    \n",
      "«q_2: ────────X───────░──╫────\n",
      "«                     ░  ║ ┌─┐\n",
      "«q_3: ────────────────░──╫─┤M├\n",
      "«                     ░  ║ └╥┘\n",
      "«c: 2/═══════════════════╩══╩═\n",
      "«                        0  1 \n"
     ]
    }
   ],
   "source": [
    "# hadamard real part\n",
    "\n",
    "qr = qk.QuantumRegister(4, 'q')\n",
    "cr = qk.ClassicalRegister(2, 'c')\n",
    "qc = qk.QuantumCircuit(qr, cr)\n",
    "\n",
    "qc.initialize(alligators, 1)\n",
    "qc.initialize(swim, [3, 2])\n",
    "\n",
    "qc.barrier()\n",
    "\n",
    "qc.h(0)\n",
    "qc.sdg(0)\n",
    "qc.cswap(0, 1, 2)\n",
    "qc.h(0)\n",
    "\n",
    "qc.barrier()\n",
    "\n",
    "qc.measure(0, 0)\n",
    "qc.measure(3, 1)\n",
    "\n",
    "print(qc.draw())\n",
    "\n",
    "qc_imag = deepcopy(qc)"
   ]
  },
  {
   "cell_type": "code",
   "execution_count": 5,
   "id": "29721594",
   "metadata": {
    "ExecuteTime": {
     "end_time": "2021-10-16T09:57:10.302593Z",
     "start_time": "2021-10-16T09:57:06.119920Z"
    }
   },
   "outputs": [
    {
     "name": "stdout",
     "output_type": "stream",
     "text": [
      "r_real counts  {'10': 24085, '11': 36132, '00': 230152, '01': 233919}\n",
      "r_imag counts  {'11': 134815, '10': 127599, '00': 126965, '01': 134909}\n"
     ]
    }
   ],
   "source": [
    "s_real = t.submit(qc_real, shots=2**19)\n",
    "s_imag = t.submit(qc_imag, shots=2**19)\n",
    "\n",
    "r_real = t.results(s_real.counts, s_real.shots).counts\n",
    "r_imag = t.results(s_imag.counts, s_imag.shots).counts\n",
    "\n",
    "print('r_real counts ', r_real)\n",
    "print('r_imag counts ', r_imag)"
   ]
  },
  {
   "cell_type": "code",
   "execution_count": 6,
   "id": "175c6f9e",
   "metadata": {
    "ExecuteTime": {
     "end_time": "2021-10-16T09:57:11.903487Z",
     "start_time": "2021-10-16T09:57:11.893252Z"
    }
   },
   "outputs": [],
   "source": [
    "def cenas(dic):\n",
    "    dic_list = [{}, {}]\n",
    "    for key, value in dic.items():\n",
    "        q0, q3 = key\n",
    "        dic_list[int(q3)][q0] = dic_list[int(q3)].get(q0, 0) + value\n",
    "    return dic_list"
   ]
  },
  {
   "cell_type": "code",
   "execution_count": 7,
   "id": "69e3102e",
   "metadata": {
    "ExecuteTime": {
     "end_time": "2021-10-16T09:57:14.640569Z",
     "start_time": "2021-10-16T09:57:14.625729Z"
    }
   },
   "outputs": [
    {
     "name": "stdout",
     "output_type": "stream",
     "text": [
      "counts_real for q_3 = 0:  {'1': 24085, '0': 230152}\n",
      "counts_real for q_3 = 1:  {'1': 36132, '0': 233919}\n",
      "\n",
      "\n",
      "counts_imag for q_3 = 0:  {'1': 127599, '0': 126965}\n",
      "counts_imag for q_3 = 1:  {'1': 134815, '0': 134909}\n"
     ]
    }
   ],
   "source": [
    "counts_real_q3_0, counts_real_q3_1 = cenas(r_real)\n",
    "print('counts_real for q_3 = 0: ', counts_real_q3_0)\n",
    "print('counts_real for q_3 = 1: ', counts_real_q3_1)\n",
    "print('\\n')\n",
    "counts_imag_q3_0, counts_imag_q3_1 = cenas(r_imag)\n",
    "print('counts_imag for q_3 = 0: ', counts_imag_q3_0)\n",
    "print('counts_imag for q_3 = 1: ', counts_imag_q3_1)"
   ]
  },
  {
   "cell_type": "code",
   "execution_count": 8,
   "id": "1d390361",
   "metadata": {
    "ExecuteTime": {
     "end_time": "2021-10-16T09:57:16.766865Z",
     "start_time": "2021-10-16T09:57:16.761085Z"
    }
   },
   "outputs": [
    {
     "name": "stdout",
     "output_type": "stream",
     "text": [
      "expect_value_real_q3_0  0.39304161071777344\n",
      "expect_value_real_q3_1  0.37724876403808594\n",
      "expect_value_imag_q3_0  -0.001209259033203125\n",
      "expect_value_imag_q3_1  0.000179290771484375\n"
     ]
    }
   ],
   "source": [
    "expect_value_real_q3_0 = (counts_real_q3_0['0'] - counts_real_q3_0['1'])/s_real.shots\n",
    "expect_value_real_q3_1 = (counts_real_q3_1['0'] - counts_real_q3_1['1'])/s_real.shots\n",
    "expect_value_imag_q3_0 = (counts_imag_q3_0['0'] - counts_imag_q3_0['1'])/s_imag.shots\n",
    "expect_value_imag_q3_1 = (counts_imag_q3_1['0'] - counts_imag_q3_1['1'])/s_imag.shots\n",
    "\n",
    "print('expect_value_real_q3_0 ', expect_value_real_q3_0)\n",
    "print('expect_value_real_q3_1 ', expect_value_real_q3_1)\n",
    "print('expect_value_imag_q3_0 ', expect_value_imag_q3_0)\n",
    "print('expect_value_imag_q3_1 ', expect_value_imag_q3_1)"
   ]
  },
  {
   "cell_type": "code",
   "execution_count": 9,
   "id": "1f591164",
   "metadata": {
    "ExecuteTime": {
     "end_time": "2021-10-16T09:57:18.643775Z",
     "start_time": "2021-10-16T09:57:18.636633Z"
    }
   },
   "outputs": [
    {
     "name": "stdout",
     "output_type": "stream",
     "text": [
      "Theoretical |0> = 0.3937 , |1> = 0.3759\n",
      "Simulation  |0> = 0.3930 , |1> = 0.3772\n"
     ]
    }
   ],
   "source": [
    "# this is what bachelors have\n",
    "print('Theoretical |0> = {:.4f} , |1> = {:.4f}'.format(n2(np.conj(a)*c+np.conj(b)*e), n2(np.conj(a)*d+np.conj(b)*f)))\n",
    "print('Simulation  |0> = {:.4f} , |1> = {:.4f}'.format(expect_value_real_q3_0, expect_value_real_q3_1))"
   ]
  },
  {
   "cell_type": "code",
   "execution_count": 10,
   "id": "5cebafde",
   "metadata": {
    "ExecuteTime": {
     "end_time": "2021-10-16T09:57:19.690046Z",
     "start_time": "2021-10-16T09:57:19.674496Z"
    }
   },
   "outputs": [
    {
     "name": "stdout",
     "output_type": "stream",
     "text": [
      "Theoretical |0> = 0.3937 , |1> = 0.3759\n",
      "Simulation  |0> = 0.3930 , |1> = 0.3772\n"
     ]
    }
   ],
   "source": [
    "# this is what it should be (just realized that the imaginary part needs to be 0 -.-)\n",
    "expect_value_q3_0 = expect_value_real_q3_0 + expect_value_imag_q3_0*1j\n",
    "expect_value_q3_1 = expect_value_real_q3_1 + expect_value_imag_q3_1*1j\n",
    "\n",
    "coef0 = np.absolute(np.sqrt(expect_value_q3_0))**2\n",
    "coef1 = np.absolute(np.sqrt(expect_value_q3_1))**2\n",
    "\n",
    "print('Theoretical |0> = {:.4f} , |1> = {:.4f}'.format(n2(np.conj(a)*c+np.conj(b)*e), n2(np.conj(a)*d+np.conj(b)*f)))\n",
    "print('Simulation  |0> = {:.4f} , |1> = {:.4f}'.format(coef0, coef1))"
   ]
  },
  {
   "cell_type": "code",
   "execution_count": null,
   "id": "7671bb26",
   "metadata": {},
   "outputs": [],
   "source": []
  }
 ],
 "metadata": {
  "kernelspec": {
   "display_name": "Python 3 (ipykernel)",
   "language": "python",
   "name": "python3"
  },
  "language_info": {
   "codemirror_mode": {
    "name": "ipython",
    "version": 3
   },
   "file_extension": ".py",
   "mimetype": "text/x-python",
   "name": "python",
   "nbconvert_exporter": "python",
   "pygments_lexer": "ipython3",
   "version": "3.9.7"
  },
  "varInspector": {
   "cols": {
    "lenName": 16,
    "lenType": 16,
    "lenVar": 40
   },
   "kernels_config": {
    "python": {
     "delete_cmd_postfix": "",
     "delete_cmd_prefix": "del ",
     "library": "var_list.py",
     "varRefreshCmd": "print(var_dic_list())"
    },
    "r": {
     "delete_cmd_postfix": ") ",
     "delete_cmd_prefix": "rm(",
     "library": "var_list.r",
     "varRefreshCmd": "cat(var_dic_list()) "
    }
   },
   "types_to_exclude": [
    "module",
    "function",
    "builtin_function_or_method",
    "instance",
    "_Feature"
   ],
   "window_display": false
  }
 },
 "nbformat": 4,
 "nbformat_minor": 5
}
