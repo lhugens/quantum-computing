{
 "cells": [
  {
   "cell_type": "code",
   "execution_count": 1,
   "id": "df076d07",
   "metadata": {
    "ExecuteTime": {
     "end_time": "2021-12-09T15:07:47.395928Z",
     "start_time": "2021-12-09T15:07:46.531174Z"
    }
   },
   "outputs": [],
   "source": [
    "from copy import deepcopy\n",
    "import numpy as np\n",
    "import matplotlib.pyplot as plt\n",
    "import qiskit as qk\n",
    "\n",
    "from context import tools as t\n",
    "\n",
    "plt.style.use('science')"
   ]
  },
  {
   "cell_type": "code",
   "execution_count": 2,
   "id": "41a16bbd",
   "metadata": {
    "ExecuteTime": {
     "end_time": "2021-12-09T11:07:31.057048Z",
     "start_time": "2021-12-09T11:07:31.022278Z"
    }
   },
   "outputs": [
    {
     "name": "stdout",
     "output_type": "stream",
     "text": [
      "     ┌───┐          ┌───┐\n",
      "q_0: ┤ H ├──■────■──┤ H ├\n",
      "     └───┘┌─┴─┐  │  └───┘\n",
      "q_1: ─────┤ X ├──┼───────\n",
      "     ┌───┐└───┘  │       \n",
      "q_2: ┤ H ├──■────┼───────\n",
      "     └───┘┌─┴─┐┌─┴─┐     \n",
      "q_3: ─────┤ X ├┤ X ├─────\n",
      "          └───┘└───┘     \n"
     ]
    }
   ],
   "source": [
    "# build A\n",
    "qr, qc = t.circ(2)\n",
    "qc.h(0)\n",
    "qc.cnot(0, 1)\n",
    "A_circ = deepcopy(qc)\n",
    "B_circ = deepcopy(qc)\n",
    "\n",
    "qr, qc = t.circ(4)\n",
    "qc.compose(A_circ, qr[:2], inplace=True)\n",
    "qc.compose(B_circ, qr[-2:], inplace=True)\n",
    "qc.cnot(0, 3)\n",
    "qc.h(0)\n",
    "U_circ = deepcopy(qc)\n",
    "print(U_circ.draw())"
   ]
  },
  {
   "cell_type": "code",
   "execution_count": 8,
   "id": "b6779b2f",
   "metadata": {
    "ExecuteTime": {
     "end_time": "2021-12-09T11:20:08.423948Z",
     "start_time": "2021-12-09T11:11:56.459178Z"
    }
   },
   "outputs": [
    {
     "name": "stdout",
     "output_type": "stream",
     "text": [
      "Estimated value of a = 0.11549999999999999\n"
     ]
    }
   ],
   "source": [
    "arr = t.amplification_arr(U_circ, '0.10', ibm=True)"
   ]
  },
  {
   "cell_type": "code",
   "execution_count": 11,
   "id": "9aeb4f69",
   "metadata": {
    "ExecuteTime": {
     "end_time": "2021-12-09T11:35:31.856611Z",
     "start_time": "2021-12-09T11:35:31.845424Z"
    }
   },
   "outputs": [],
   "source": [
    "np.savetxt(t.time_name('data/4-qubit-ampl-ibmTrue.txt'), arr)"
   ]
  },
  {
   "cell_type": "code",
   "execution_count": 10,
   "id": "814768af",
   "metadata": {
    "ExecuteTime": {
     "end_time": "2021-12-09T11:28:37.213736Z",
     "start_time": "2021-12-09T11:28:36.993056Z"
    }
   },
   "outputs": [
    {
     "data": {
      "image/png": "[encoded data removed]",
      "text/plain": [
       "<Figure size 504x288 with 1 Axes>"
      ]
     },
     "metadata": {
      "needs_background": "light"
     },
     "output_type": "display_data"
    }
   ],
   "source": [
    "t.plot_amplification(arr)"
   ]
  },
  {
   "cell_type": "code",
   "execution_count": null,
   "id": "bc788a1f",
   "metadata": {
    "ExecuteTime": {
     "end_time": "2021-12-08T14:18:37.025454Z",
     "start_time": "2021-12-08T14:18:37.025446Z"
    }
   },
   "outputs": [],
   "source": [
    "arr = t.amplification_arr(U_circ, '0.10')"
   ]
  },
  {
   "cell_type": "code",
   "execution_count": 9,
   "id": "19a69da5",
   "metadata": {
    "ExecuteTime": {
     "end_time": "2021-12-09T11:28:07.124563Z",
     "start_time": "2021-12-09T11:28:07.120433Z"
    }
   },
   "outputs": [
    {
     "data": {
      "text/plain": [
       "array([0.1155    , 0.1328125 , 0.11462402, 0.11132812, 0.11999512,\n",
       "       0.11474609, 0.11486816, 0.11950684, 0.12280273, 0.11901855,\n",
       "       0.12280273])"
      ]
     },
     "execution_count": 9,
     "metadata": {},
     "output_type": "execute_result"
    }
   ],
   "source": [
    "arr"
   ]
  },
  {
   "cell_type": "code",
   "execution_count": null,
   "id": "cddba197",
   "metadata": {},
   "outputs": [],
   "source": []
  }
 ],
 "metadata": {
  "kernelspec": {
   "display_name": "Python 3 (ipykernel)",
   "language": "python",
   "name": "python3"
  },
  "language_info": {
   "codemirror_mode": {
    "name": "ipython",
    "version": 3
   },
   "file_extension": ".py",
   "mimetype": "text/x-python",
   "name": "python",
   "nbconvert_exporter": "python",
   "pygments_lexer": "ipython3",
   "version": "3.9.9"
  },
  "varInspector": {
   "cols": {
    "lenName": 16,
    "lenType": 16,
    "lenVar": 40
   },
   "kernels_config": {
    "python": {
     "delete_cmd_postfix": "",
     "delete_cmd_prefix": "del ",
     "library": "var_list.py",
     "varRefreshCmd": "print(var_dic_list())"
    },
    "r": {
     "delete_cmd_postfix": ") ",
     "delete_cmd_prefix": "rm(",
     "library": "var_list.r",
     "varRefreshCmd": "cat(var_dic_list()) "
    }
   },
   "types_to_exclude": [
    "module",
    "function",
    "builtin_function_or_method",
    "instance",
    "_Feature"
   ],
   "window_display": false
  }
 },
 "nbformat": 4,
 "nbformat_minor": 5
}
