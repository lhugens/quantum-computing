{
 "cells": [
  {
   "cell_type": "code",
   "execution_count": 9,
   "id": "565e4529",
   "metadata": {
    "ExecuteTime": {
     "end_time": "2021-11-29T12:05:57.727222Z",
     "start_time": "2021-11-29T12:05:57.719893Z"
    }
   },
   "outputs": [],
   "source": [
    "from datetime import date"
   ]
  },
  {
   "cell_type": "code",
   "execution_count": 5,
   "id": "e6d8da1b",
   "metadata": {
    "ExecuteTime": {
     "end_time": "2021-11-29T12:05:02.617235Z",
     "start_time": "2021-11-29T12:05:02.614987Z"
    }
   },
   "outputs": [],
   "source": [
    "def filename(*args):\n",
    "    \n",
    "    return args"
   ]
  },
  {
   "cell_type": "code",
   "execution_count": 10,
   "id": "a4b1c798",
   "metadata": {
    "ExecuteTime": {
     "end_time": "2021-11-29T12:06:06.850987Z",
     "start_time": "2021-11-29T12:06:06.839496Z"
    }
   },
   "outputs": [
    {
     "data": {
      "text/plain": [
       "datetime.date(2021, 11, 29)"
      ]
     },
     "execution_count": 10,
     "metadata": {},
     "output_type": "execute_result"
    }
   ],
   "source": [
    "now = "
   ]
  },
  {
   "cell_type": "code",
   "execution_count": null,
   "id": "d59d1199",
   "metadata": {},
   "outputs": [],
   "source": []
  }
 ],
 "metadata": {
  "kernelspec": {
   "display_name": "Python 3 (ipykernel)",
   "language": "python",
   "name": "python3"
  },
  "language_info": {
   "codemirror_mode": {
    "name": "ipython",
    "version": 3
   },
   "file_extension": ".py",
   "mimetype": "text/x-python",
   "name": "python",
   "nbconvert_exporter": "python",
   "pygments_lexer": "ipython3",
   "version": "3.9.7"
  },
  "varInspector": {
   "cols": {
    "lenName": 16,
    "lenType": 16,
    "lenVar": 40
   },
   "kernels_config": {
    "python": {
     "delete_cmd_postfix": "",
     "delete_cmd_prefix": "del ",
     "library": "var_list.py",
     "varRefreshCmd": "print(var_dic_list())"
    },
    "r": {
     "delete_cmd_postfix": ") ",
     "delete_cmd_prefix": "rm(",
     "library": "var_list.r",
     "varRefreshCmd": "cat(var_dic_list()) "
    }
   },
   "types_to_exclude": [
    "module",
    "function",
    "builtin_function_or_method",
    "instance",
    "_Feature"
   ],
   "window_display": false
  }
 },
 "nbformat": 4,
 "nbformat_minor": 5
}
