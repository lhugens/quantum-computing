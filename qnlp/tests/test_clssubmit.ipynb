{
 "cells": [
  {
   "cell_type": "code",
   "execution_count": 1,
   "id": "d518bc81",
   "metadata": {
    "ExecuteTime": {
     "end_time": "2021-10-16T12:05:42.502261Z",
     "start_time": "2021-10-16T12:05:41.163226Z"
    }
   },
   "outputs": [],
   "source": [
    "from context import tools as t\n",
    "import qiskit as qk"
   ]
  },
  {
   "cell_type": "code",
   "execution_count": 2,
   "id": "8e687df9",
   "metadata": {
    "ExecuteTime": {
     "end_time": "2021-10-16T12:05:42.516785Z",
     "start_time": "2021-10-16T12:05:42.509645Z"
    }
   },
   "outputs": [
    {
     "name": "stdout",
     "output_type": "stream",
     "text": [
      "     ┌───┐   ┌─┐\n",
      "q_0: ┤ H ├───┤M├\n",
      "     └┬─┬┘   └╥┘\n",
      "q_1: ─┤M├─────╫─\n",
      "      └╥┘ ┌─┐ ║ \n",
      "q_2: ──╫──┤M├─╫─\n",
      "       ║  └╥┘ ║ \n",
      "c: 3/══╩═══╩══╩═\n",
      "       1   2  0 \n"
     ]
    }
   ],
   "source": [
    "qc = qk.QuantumCircuit(3, 3)\n",
    "qc.h(0)\n",
    "qc.measure(0, 0)\n",
    "qc.measure(1, 1)\n",
    "qc.measure(2, 2)\n",
    "print(qc.draw())"
   ]
  },
  {
   "cell_type": "code",
   "execution_count": 3,
   "id": "156a5477",
   "metadata": {
    "ExecuteTime": {
     "end_time": "2021-10-16T12:05:42.596346Z",
     "start_time": "2021-10-16T12:05:42.518103Z"
    }
   },
   "outputs": [],
   "source": [
    "a = qk.execute(qc, backend=qk.Aer.get_backend('qasm_simulator'), shots=2).result().get_counts()"
   ]
  },
  {
   "cell_type": "code",
   "execution_count": 4,
   "id": "b7dec619",
   "metadata": {
    "ExecuteTime": {
     "end_time": "2021-10-16T12:05:42.602704Z",
     "start_time": "2021-10-16T12:05:42.597912Z"
    }
   },
   "outputs": [
    {
     "data": {
      "text/plain": [
       "{'000': 1, '001': 1}"
      ]
     },
     "execution_count": 4,
     "metadata": {},
     "output_type": "execute_result"
    }
   ],
   "source": [
    "a"
   ]
  },
  {
   "cell_type": "code",
   "execution_count": 5,
   "id": "c50aea8d",
   "metadata": {
    "ExecuteTime": {
     "end_time": "2021-10-16T12:06:47.397621Z",
     "start_time": "2021-10-16T12:05:42.604333Z"
    }
   },
   "outputs": [
    {
     "name": "stdout",
     "output_type": "stream",
     "text": [
      "2\n",
      "0\n",
      "[8192 8192]\n",
      "<class 'numpy.int64'>\n",
      "<class 'numpy.int64'>\n",
      "{'000': 3934, '100': 4093, '010': 39, '110': 32, '001': 37, '101': 56, '111': 1}\n",
      "{'000': 4121, '100': 3929, '010': 30, '110': 29, '001': 40, '101': 42, '111': 1}\n"
     ]
    }
   ],
   "source": [
    "s = t.submit(qc, ibm=True, shots=2**14)"
   ]
  },
  {
   "cell_type": "code",
   "execution_count": 6,
   "id": "daa1be63",
   "metadata": {
    "ExecuteTime": {
     "end_time": "2021-10-16T12:06:47.413344Z",
     "start_time": "2021-10-16T12:06:47.403888Z"
    }
   },
   "outputs": [
    {
     "name": "stdout",
     "output_type": "stream",
     "text": [
      "{'000': 8055, '100': 8022, '010': 69, '110': 61, '001': 77, '101': 98, '111': 2}\n"
     ]
    }
   ],
   "source": [
    "print(s.counts)"
   ]
  },
  {
   "cell_type": "code",
   "execution_count": 10,
   "id": "78f9bad6",
   "metadata": {
    "ExecuteTime": {
     "end_time": "2021-10-16T12:07:43.075487Z",
     "start_time": "2021-10-16T12:07:43.064017Z"
    }
   },
   "outputs": [
    {
     "data": {
      "text/plain": [
       "8055"
      ]
     },
     "execution_count": 10,
     "metadata": {},
     "output_type": "execute_result"
    }
   ],
   "source": [
    "3934+4121"
   ]
  },
  {
   "cell_type": "code",
   "execution_count": 8,
   "id": "aaa60c98",
   "metadata": {
    "ExecuteTime": {
     "end_time": "2021-10-16T12:06:47.455962Z",
     "start_time": "2021-10-16T12:06:47.436828Z"
    }
   },
   "outputs": [],
   "source": [
    "# dictionary merger\n",
    "dic1 = {'001': 2781, '011': 2679, '000': 2732}\n",
    "\n",
    "dic2 = {'000': 2421,\n",
    " '100': 15,\n",
    " '010': 158,\n",
    " '110': 3,\n",
    " '001': 2938,\n",
    " '101': 11,\n",
    " '011': 2633,\n",
    " '111': 13}"
   ]
  },
  {
   "cell_type": "code",
   "execution_count": 9,
   "id": "fe0b6ce1",
   "metadata": {
    "ExecuteTime": {
     "end_time": "2021-10-16T12:06:47.625096Z",
     "start_time": "2021-10-16T12:06:47.464443Z"
    }
   },
   "outputs": [
    {
     "ename": "TypeError",
     "evalue": "unsupported operand type(s) for +: 'dict' and 'dict'",
     "output_type": "error",
     "traceback": [
      "\u001b[0;31m---------------------------------------------------------------------------\u001b[0m",
      "\u001b[0;31mTypeError\u001b[0m                                 Traceback (most recent call last)",
      "\u001b[0;32m/tmp/ipykernel_118584/3960481719.py\u001b[0m in \u001b[0;36m<module>\u001b[0;34m\u001b[0m\n\u001b[0;32m----> 1\u001b[0;31m \u001b[0mdic1\u001b[0m \u001b[0;34m+\u001b[0m \u001b[0mdic2\u001b[0m\u001b[0;34m\u001b[0m\u001b[0;34m\u001b[0m\u001b[0m\n\u001b[0m",
      "\u001b[0;31mTypeError\u001b[0m: unsupported operand type(s) for +: 'dict' and 'dict'"
     ]
    }
   ],
   "source": [
    "dic1 + dic2"
   ]
  },
  {
   "cell_type": "code",
   "execution_count": null,
   "id": "26c547a0",
   "metadata": {
    "ExecuteTime": {
     "end_time": "2021-10-16T12:06:47.629286Z",
     "start_time": "2021-10-16T12:06:47.629270Z"
    }
   },
   "outputs": [],
   "source": [
    "total = {}\n",
    "for dic in [dic1, dic2]:\n",
    "    for key, value in dic.items():\n",
    "        total[key] = total.get(key, 0) + value\n",
    "    "
   ]
  },
  {
   "cell_type": "code",
   "execution_count": null,
   "id": "24bba42a",
   "metadata": {
    "ExecuteTime": {
     "end_time": "2021-10-16T12:06:47.630257Z",
     "start_time": "2021-10-16T12:06:47.630239Z"
    }
   },
   "outputs": [],
   "source": [
    "total"
   ]
  },
  {
   "cell_type": "code",
   "execution_count": null,
   "id": "5648e158",
   "metadata": {},
   "outputs": [],
   "source": []
  }
 ],
 "metadata": {
  "kernelspec": {
   "display_name": "Python 3 (ipykernel)",
   "language": "python",
   "name": "python3"
  },
  "language_info": {
   "codemirror_mode": {
    "name": "ipython",
    "version": 3
   },
   "file_extension": ".py",
   "mimetype": "text/x-python",
   "name": "python",
   "nbconvert_exporter": "python",
   "pygments_lexer": "ipython3",
   "version": "3.9.7"
  },
  "varInspector": {
   "cols": {
    "lenName": 16,
    "lenType": 16,
    "lenVar": 40
   },
   "kernels_config": {
    "python": {
     "delete_cmd_postfix": "",
     "delete_cmd_prefix": "del ",
     "library": "var_list.py",
     "varRefreshCmd": "print(var_dic_list())"
    },
    "r": {
     "delete_cmd_postfix": ") ",
     "delete_cmd_prefix": "rm(",
     "library": "var_list.r",
     "varRefreshCmd": "cat(var_dic_list()) "
    }
   },
   "types_to_exclude": [
    "module",
    "function",
    "builtin_function_or_method",
    "instance",
    "_Feature"
   ],
   "window_display": false
  }
 },
 "nbformat": 4,
 "nbformat_minor": 5
}
