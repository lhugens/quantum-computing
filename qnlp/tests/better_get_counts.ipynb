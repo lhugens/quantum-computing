{
 "cells": [
  {
   "cell_type": "code",
   "execution_count": 1,
   "id": "ea28d174",
   "metadata": {
    "ExecuteTime": {
     "end_time": "2021-12-08T19:39:12.910202Z",
     "start_time": "2021-12-08T19:39:11.977404Z"
    }
   },
   "outputs": [],
   "source": [
    "import qiskit as qk\n",
    "from qiskit.providers.ibmq.managed import IBMQJobManager\n",
    "from qiskit.circuit.random import random_circuit\n",
    "from qiskit.providers.ibmq import least_busy\n",
    "from context import tools as t\n",
    "from functools import partial"
   ]
  },
  {
   "cell_type": "code",
   "execution_count": 2,
   "id": "b617610d",
   "metadata": {
    "ExecuteTime": {
     "end_time": "2021-12-08T19:39:12.918779Z",
     "start_time": "2021-12-08T19:39:12.912019Z"
    }
   },
   "outputs": [],
   "source": [
    "class backend:\n",
    "    '''\n",
    "    This class serves as a namespace for the ibmq quantum computer to be used\n",
    "    in a run of code. Calling backend.ibm() will check if ibm_backend is already\n",
    "    chosen, if not it chooses it and returns it.\n",
    "    '''\n",
    "    blacklist = ['ibmq_bogota']\n",
    "    job_manager = IBMQJobManager()\n",
    "    sim_backend = qk.Aer.get_backend('qasm_simulator')\n",
    "    ibm_backend = None\n",
    "    _provider = None\n",
    "\n",
    "    def __init__(self):\n",
    "        pass\n",
    "    \n",
    "    @classmethod\n",
    "    def provider(cls):\n",
    "        if cls._provider == None:\n",
    "            cls._provider = qk.IBMQ.load_account()\n",
    "        return cls._provider\n",
    "\n",
    "    @classmethod\n",
    "    def sim(cls):\n",
    "        return cls.sim_backend\n",
    "\n",
    "    @classmethod\n",
    "    def ibm(cls):\n",
    "        if cls.ibm_backend == None:\n",
    "            provider = cls.provider()\n",
    "#             provider = qk.IBMQ.get_provider(hub='ibm-q')\n",
    "            filters = lambda x:(\n",
    "                x.status().operational and\n",
    "                not x.configuration().simulator and\n",
    "                x.configuration().n_qubits > 1 and\n",
    "                x.configuration().backend_name not in cls.blacklist\n",
    "            )\n",
    "            adequate_backends = provider.backends(filters=filters)\n",
    "            cls.ibm_backend = least_busy(adequate_backends)\n",
    "        return cls.ibm_backend"
   ]
  },
  {
   "cell_type": "code",
   "execution_count": 3,
   "id": "4da21dcc",
   "metadata": {
    "ExecuteTime": {
     "end_time": "2021-12-08T19:39:12.934883Z",
     "start_time": "2021-12-08T19:39:12.920579Z"
    }
   },
   "outputs": [
    {
     "data": {
      "text/plain": [
       "qiskit.circuit.quantumcircuit.QuantumCircuit"
      ]
     },
     "execution_count": 3,
     "metadata": {},
     "output_type": "execute_result"
    }
   ],
   "source": [
    "qc = random_circuit(num_qubits=5, depth=4, measure=True)\n",
    "type(qc)"
   ]
  },
  {
   "cell_type": "code",
   "execution_count": 4,
   "id": "23ee6303",
   "metadata": {
    "ExecuteTime": {
     "end_time": "2021-12-08T19:39:12.939116Z",
     "start_time": "2021-12-08T19:39:12.936345Z"
    }
   },
   "outputs": [
    {
     "name": "stdout",
     "output_type": "stream",
     "text": [
      "None\n"
     ]
    }
   ],
   "source": [
    "print(backend.ibm_backend)"
   ]
  },
  {
   "cell_type": "code",
   "execution_count": 45,
   "id": "2dc5140e",
   "metadata": {
    "ExecuteTime": {
     "end_time": "2021-12-08T19:55:48.768222Z",
     "start_time": "2021-12-08T19:55:30.529071Z"
    }
   },
   "outputs": [],
   "source": [
    "def send_jobs_ibm(circs, name):\n",
    "    b = backend.ibm()\n",
    "    \n",
    "    if not isinstance(circs, list):\n",
    "        circs = [circs]\n",
    "        \n",
    "    circs_transpiled = qk.transpile(circs, backend=b)\n",
    "    job_set = backend.job_manager.run(circs_transpiled, backend=b, name=name)\n",
    "    return job_set.job_set_id()\n",
    "job_id = send_jobs_ibm([qc, qc], 'test2')"
   ]
  },
  {
   "cell_type": "code",
   "execution_count": 31,
   "id": "ee96dc59",
   "metadata": {
    "ExecuteTime": {
     "end_time": "2021-12-08T19:45:08.922962Z",
     "start_time": "2021-12-08T19:45:08.910579Z"
    }
   },
   "outputs": [
    {
     "name": "stdout",
     "output_type": "stream",
     "text": [
      "['__call__', '__class__', '__delattr__', '__dir__', '__doc__', '__eq__', '__format__', '__func__', '__ge__', '__get__', '__getattribute__', '__gt__', '__hash__', '__init__', '__init_subclass__', '__le__', '__lt__', '__ne__', '__new__', '__reduce__', '__reduce_ex__', '__repr__', '__self__', '__setattr__', '__sizeof__', '__str__', '__subclasshook__']\n"
     ]
    }
   ],
   "source": [
    "def get_counts(job_set_id):\n",
    "    job_id = 'f4db1967dca64005bb248898049743ef-16389803640987256'\n",
    "    job_set = backend.job_manager.retrieve_job_set(job_set_id=job_id, provider=backend.provider())\n",
    "    counts = [job_set.results().get_counts(i) for i in range(len(job_set.jobs()))]\n",
    "    return \n",
    "    \n",
    "results = get_results('f4db1967dca64005bb248898049743ef-16389803640987256')"
   ]
  },
  {
   "cell_type": "code",
   "execution_count": 27,
   "id": "9f96964a",
   "metadata": {
    "ExecuteTime": {
     "end_time": "2021-12-08T19:43:14.484028Z",
     "start_time": "2021-12-08T19:43:14.459542Z"
    }
   },
   "outputs": [
    {
     "ename": "TypeError",
     "evalue": "'method' object is not subscriptable",
     "output_type": "error",
     "traceback": [
      "\u001b[0;31m---------------------------------------------------------------------------\u001b[0m",
      "\u001b[0;31mTypeError\u001b[0m                                 Traceback (most recent call last)",
      "\u001b[0;32m/tmp/ipykernel_208012/573768894.py\u001b[0m in \u001b[0;36m<module>\u001b[0;34m\u001b[0m\n\u001b[0;32m----> 1\u001b[0;31m \u001b[0mprint\u001b[0m\u001b[0;34m(\u001b[0m\u001b[0mresults\u001b[0m\u001b[0;34m[\u001b[0m\u001b[0;36m0\u001b[0m\u001b[0;34m]\u001b[0m\u001b[0;34m)\u001b[0m\u001b[0;34m\u001b[0m\u001b[0;34m\u001b[0m\u001b[0m\n\u001b[0m",
      "\u001b[0;31mTypeError\u001b[0m: 'method' object is not subscriptable"
     ]
    }
   ],
   "source": [
    "dir()"
   ]
  },
  {
   "cell_type": "code",
   "execution_count": 44,
   "id": "87c84a57",
   "metadata": {
    "ExecuteTime": {
     "end_time": "2021-12-08T19:52:34.313543Z",
     "start_time": "2021-12-08T19:52:34.301888Z"
    }
   },
   "outputs": [
    {
     "name": "stdout",
     "output_type": "stream",
     "text": [
      "[{'00000': 163, '00001': 60, '10000': 33, '10001': 17, '10010': 20, '10011': 18, '10100': 25, '10101': 13, '10110': 22, '10111': 16, '11000': 21, '11001': 17, '11010': 13, '11011': 11, '11100': 11, '11101': 9, '11110': 22, '11111': 17, '00010': 46, '00011': 26, '00100': 61, '00101': 13, '00110': 24, '00111': 19, '01000': 89, '01001': 30, '01010': 67, '01011': 31, '01100': 37, '01101': 25, '01110': 25, '01111': 23}]\n"
     ]
    }
   ],
   "source": [
    "job_id = 'f4db1967dca64005bb248898049743ef-16389803640987256'\n",
    "job_set = backend.job_manager.retrieve_job_set(job_set_id=job_id, provider=backend.provider())\n",
    "counts = [job_set.results().get_counts(i) for i in range(len(job_set.jobs()))]\n",
    "print(counts)"
   ]
  },
  {
   "cell_type": "code",
   "execution_count": 46,
   "id": "a3f1158a",
   "metadata": {
    "ExecuteTime": {
     "end_time": "2021-12-08T19:57:10.811194Z",
     "start_time": "2021-12-08T19:57:10.796602Z"
    }
   },
   "outputs": [
    {
     "data": {
      "text/plain": [
       "['__class__',\n",
       " '__delattr__',\n",
       " '__dict__',\n",
       " '__dir__',\n",
       " '__doc__',\n",
       " '__eq__',\n",
       " '__format__',\n",
       " '__ge__',\n",
       " '__getattribute__',\n",
       " '__gt__',\n",
       " '__hash__',\n",
       " '__init__',\n",
       " '__init_subclass__',\n",
       " '__le__',\n",
       " '__lt__',\n",
       " '__module__',\n",
       " '__ne__',\n",
       " '__new__',\n",
       " '__reduce__',\n",
       " '__reduce_ex__',\n",
       " '__repr__',\n",
       " '__setattr__',\n",
       " '__sizeof__',\n",
       " '__str__',\n",
       " '__subclasshook__',\n",
       " '__weakref__',\n",
       " '_backend',\n",
       " '_error_msg',\n",
       " '_id',\n",
       " '_id_long',\n",
       " '_id_prefix',\n",
       " '_id_suffix',\n",
       " '_job_submit_lock',\n",
       " '_managed_jobs',\n",
       " '_managed_results',\n",
       " '_name',\n",
       " '_parse_job_name',\n",
       " '_tags',\n",
       " 'cancel',\n",
       " 'error_messages',\n",
       " 'job',\n",
       " 'job_set_id',\n",
       " 'jobs',\n",
       " 'managed_jobs',\n",
       " 'name',\n",
       " 'qobjs',\n",
       " 'report',\n",
       " 'results',\n",
       " 'retrieve_jobs',\n",
       " 'run',\n",
       " 'statuses',\n",
       " 'tags',\n",
       " 'update_name',\n",
       " 'update_tags']"
      ]
     },
     "execution_count": 46,
     "metadata": {},
     "output_type": "execute_result"
    }
   ],
   "source": [
    "dir(job_set)"
   ]
  },
  {
   "cell_type": "code",
   "execution_count": 50,
   "id": "3eec206e",
   "metadata": {
    "ExecuteTime": {
     "end_time": "2021-12-08T20:00:44.244429Z",
     "start_time": "2021-12-08T20:00:43.344924Z"
    }
   },
   "outputs": [
    {
     "name": "stdout",
     "output_type": "stream",
     "text": [
      "[<JobStatus.QUEUED: 'job is queued'>]\n"
     ]
    }
   ],
   "source": [
    "# job_id = 'f4db1967dca64005bb248898049743ef-16389803640987256'\n",
    "job_id = '56a2f61126ef4dfd8ce9358df0771539-16389933487636719'\n",
    "job_set = backend.job_manager.retrieve_job_set(job_id, backend.provider())\n",
    "print(job_set.statuses())"
   ]
  },
  {
   "cell_type": "code",
   "execution_count": null,
   "id": "2aa6bd01",
   "metadata": {},
   "outputs": [],
   "source": []
  }
 ],
 "metadata": {
  "kernelspec": {
   "display_name": "Python 3 (ipykernel)",
   "language": "python",
   "name": "python3"
  },
  "language_info": {
   "codemirror_mode": {
    "name": "ipython",
    "version": 3
   },
   "file_extension": ".py",
   "mimetype": "text/x-python",
   "name": "python",
   "nbconvert_exporter": "python",
   "pygments_lexer": "ipython3",
   "version": "3.9.9"
  },
  "varInspector": {
   "cols": {
    "lenName": 16,
    "lenType": 16,
    "lenVar": 40
   },
   "kernels_config": {
    "python": {
     "delete_cmd_postfix": "",
     "delete_cmd_prefix": "del ",
     "library": "var_list.py",
     "varRefreshCmd": "print(var_dic_list())"
    },
    "r": {
     "delete_cmd_postfix": ") ",
     "delete_cmd_prefix": "rm(",
     "library": "var_list.r",
     "varRefreshCmd": "cat(var_dic_list()) "
    }
   },
   "types_to_exclude": [
    "module",
    "function",
    "builtin_function_or_method",
    "instance",
    "_Feature"
   ],
   "window_display": false
  }
 },
 "nbformat": 4,
 "nbformat_minor": 5
}
