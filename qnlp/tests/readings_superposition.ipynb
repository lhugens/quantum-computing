{
 "cells": [
  {
   "cell_type": "code",
   "execution_count": 1,
   "id": "b34e0e27",
   "metadata": {
    "ExecuteTime": {
     "end_time": "2021-11-09T12:25:26.345704Z",
     "start_time": "2021-11-09T12:25:25.317282Z"
    }
   },
   "outputs": [],
   "source": [
    "import numpy as np\n",
    "\n",
    "import qiskit as qk\n",
    "\n",
    "import tools as t"
   ]
  },
  {
   "cell_type": "code",
   "execution_count": 2,
   "id": "a6ce9670",
   "metadata": {
    "ExecuteTime": {
     "end_time": "2021-11-09T12:25:26.358915Z",
     "start_time": "2021-11-09T12:25:26.355077Z"
    }
   },
   "outputs": [],
   "source": [
    "# initialize arbitrary tensors\n",
    "\n",
    "# worked with shots=2**18\n",
    "# A = np.array([1, 2])\n",
    "# B = np.array([2j, 1j, 1, 9])\n",
    "\n",
    "# worked with shots=2**19\n",
    "# A = np.array([1, 2])\n",
    "# B = np.array([2, 1, 1, 9])\n",
    "\n",
    "# worked with shots=2**19\n",
    "A = np.array([1j, 2])\n",
    "B = np.array([5j, 1, 3+1j, 0.5])"
   ]
  },
  {
   "cell_type": "code",
   "execution_count": 3,
   "id": "dc6acf63",
   "metadata": {
    "ExecuteTime": {
     "end_time": "2021-11-09T12:25:26.373895Z",
     "start_time": "2021-11-09T12:25:26.361859Z"
    }
   },
   "outputs": [
    {
     "name": "stdout",
     "output_type": "stream",
     "text": [
      "\n",
      " A vector\n",
      "\n",
      "[0.+1.j 2.+0.j]\n",
      "\n",
      " B vector\n",
      "\n",
      "[0. +5.j 1. +0.j 3. +1.j 0.5+0.j]\n",
      "\n",
      " normalized a vector\n",
      "\n",
      "[0.        +0.4472136j 0.89442719+0.j       ]  norm:  0.9999999999999999\n",
      "\n",
      " normalized b vector\n",
      "\n",
      "[0.        +0.8304548j  0.16609096+0.j         0.49827288+0.16609096j\n",
      " 0.08304548+0.j        ]  norm:  1.0000000000000002\n",
      "\n",
      "WANTED, should be a_i b_ik |k>\n",
      "\n",
      "[0.07427814+0.14855627j 0.07427814+0.07427814j]\n",
      "\n",
      " COMPONENT\n",
      "\n",
      "[0.03713907+0.07427814j 0.03713907+0.03713907j]\n",
      "\n",
      "COMPONENT CANONICAL\n",
      "\n",
      "[0.08304548+0.j        0.04982729-0.0166091j]\n"
     ]
    }
   ],
   "source": [
    "# reading 1\n",
    "\n",
    "# EXPECTED RESULT\n",
    "\n",
    "print('\\n A vector\\n')\n",
    "print(A)\n",
    "print('\\n B vector\\n')\n",
    "print(B)\n",
    "\n",
    "# normalize them\n",
    "a = t.normalize(A)\n",
    "b = t.normalize(B)\n",
    "\n",
    "print('\\n normalized a vector\\n')\n",
    "print(a, ' norm: ', t.norm(a))\n",
    "print('\\n normalized b vector\\n')\n",
    "print(b, ' norm: ', t.norm(b))\n",
    "\n",
    "# build the not-normalized state\n",
    "b_tensor = b.reshape(2, 2)\n",
    "wanted = np.einsum('i,ij', a, b_tensor)\n",
    "\n",
    "print('\\nWANTED, should be a_i b_ik |k>\\n')\n",
    "print(wanted)\n",
    "\n",
    "# multiply for 1/sqrt(2)\n",
    "component = wanted / 2\n",
    "\n",
    "print('\\n COMPONENT\\n')\n",
    "print(component)\n",
    "\n",
    "# rotate it s.t. first coefficient is real\n",
    "component_canonical1 = t.canonical(component)\n",
    "\n",
    "print('\\nCOMPONENT CANONICAL\\n')\n",
    "print(component_canonical1)"
   ]
  },
  {
   "cell_type": "code",
   "execution_count": 4,
   "id": "17265bc2",
   "metadata": {
    "ExecuteTime": {
     "end_time": "2021-11-09T12:25:26.384530Z",
     "start_time": "2021-11-09T12:25:26.375899Z"
    }
   },
   "outputs": [
    {
     "name": "stdout",
     "output_type": "stream",
     "text": [
      "\n",
      " A vector\n",
      "\n",
      "[0.+1.j 2.+0.j]\n",
      "\n",
      " B vector\n",
      "\n",
      "[0. +5.j 1. +0.j 3. +1.j 0.5+0.j]\n",
      "\n",
      " normalized a vector\n",
      "\n",
      "[0.        +0.4472136j 0.89442719+0.j       ]  norm:  0.9999999999999999\n",
      "\n",
      " normalized b vector\n",
      "\n",
      "[0.        +0.8304548j  0.16609096+0.j         0.49827288+0.16609096j\n",
      " 0.08304548+0.j        ]  norm:  1.0000000000000002\n",
      "\n",
      "WANTED, should be a_i b_ik |k>\n",
      "\n",
      "[-0.22283441+0.j          0.        +0.22283441j]\n",
      "\n",
      " COMPONENT\n",
      "\n",
      "[-0.1114172+0.j         0.       +0.1114172j]\n",
      "\n",
      "COMPONENT CANONICAL\n",
      "\n",
      "[1.11417203e-01+0.j        6.82233605e-18-0.1114172j]\n"
     ]
    }
   ],
   "source": [
    "# reading 2\n",
    "\n",
    "# EXPECTED RESULT\n",
    "\n",
    "print('\\n A vector\\n')\n",
    "print(A)\n",
    "print('\\n B vector\\n')\n",
    "print(B)\n",
    "\n",
    "# normalize them\n",
    "a = t.normalize(A)\n",
    "b = t.normalize(B)\n",
    "\n",
    "print('\\n normalized a vector\\n')\n",
    "print(a, ' norm: ', t.norm(a))\n",
    "print('\\n normalized b vector\\n')\n",
    "print(b, ' norm: ', t.norm(b))\n",
    "\n",
    "# build the not-normalized state\n",
    "b_tensor = b.reshape(2, 2)\n",
    "wanted = np.einsum('i,ji', a, b_tensor)\n",
    "\n",
    "print('\\nWANTED, should be a_i b_ik |k>\\n')\n",
    "print(wanted)\n",
    "\n",
    "# multiply for 1/sqrt(2)\n",
    "component = wanted / 2\n",
    "\n",
    "print('\\n COMPONENT\\n')\n",
    "print(component)\n",
    "\n",
    "# rotate it s.t. first coefficient is real\n",
    "component_canonical2 = t.canonical(component)\n",
    "\n",
    "print('\\nCOMPONENT CANONICAL\\n')\n",
    "print(component_canonical2)"
   ]
  },
  {
   "cell_type": "code",
   "execution_count": 5,
   "id": "3cba042b",
   "metadata": {
    "ExecuteTime": {
     "end_time": "2021-11-09T12:25:26.391242Z",
     "start_time": "2021-11-09T12:25:26.386665Z"
    }
   },
   "outputs": [
    {
     "name": "stdout",
     "output_type": "stream",
     "text": [
      "first reading:   [0.08304548+0.j        0.04982729-0.0166091j]\n",
      "second reading:  [1.11417203e-01+0.j        6.82233605e-18-0.1114172j]\n"
     ]
    }
   ],
   "source": [
    "print('first reading:  ', component_canonical1)\n",
    "print('second reading: ', component_canonical2)"
   ]
  },
  {
   "cell_type": "code",
   "execution_count": 7,
   "id": "f81ffff7",
   "metadata": {
    "ExecuteTime": {
     "end_time": "2021-11-09T12:28:25.353016Z",
     "start_time": "2021-11-09T12:28:06.247002Z"
    }
   },
   "outputs": [
    {
     "name": "stdout",
     "output_type": "stream",
     "text": [
      "first reading:   [0.08296759+0.j         0.04925111-0.01576169j]\n",
      "second reading:  [0.11128529+0.j         0.00082821-0.11183786j]\n"
     ]
    }
   ],
   "source": [
    "# SIMULATOR RESULT\n",
    "\n",
    "qc = qk.QuantumCircuit(4)\n",
    "qc.h(0)\n",
    "qc.initialize(a, 1)\n",
    "qc.initialize(b, [3, 2])\n",
    "\n",
    "qc.cswap(0, 2, 3)\n",
    "\n",
    "qc.cx(1, 2)\n",
    "qc.h(1)\n",
    "\n",
    "# print(qc.draw())\n",
    "\n",
    "sim1 = t.measure_substate(qc, 3, '000', shots=2**19)\n",
    "print('first reading:  ', sim1)\n",
    "sim2 = t.measure_substate(qc, 3, '100', shots=2**19)\n",
    "print('second reading: ', sim2)"
   ]
  },
  {
   "cell_type": "code",
   "execution_count": null,
   "id": "c731df56",
   "metadata": {},
   "outputs": [],
   "source": []
  }
 ],
 "metadata": {
  "kernelspec": {
   "display_name": "Python 3 (ipykernel)",
   "language": "python",
   "name": "python3"
  },
  "language_info": {
   "codemirror_mode": {
    "name": "ipython",
    "version": 3
   },
   "file_extension": ".py",
   "mimetype": "text/x-python",
   "name": "python",
   "nbconvert_exporter": "python",
   "pygments_lexer": "ipython3",
   "version": "3.9.9"
  },
  "varInspector": {
   "cols": {
    "lenName": 16,
    "lenType": 16,
    "lenVar": 40
   },
   "kernels_config": {
    "python": {
     "delete_cmd_postfix": "",
     "delete_cmd_prefix": "del ",
     "library": "var_list.py",
     "varRefreshCmd": "print(var_dic_list())"
    },
    "r": {
     "delete_cmd_postfix": ") ",
     "delete_cmd_prefix": "rm(",
     "library": "var_list.r",
     "varRefreshCmd": "cat(var_dic_list()) "
    }
   },
   "types_to_exclude": [
    "module",
    "function",
    "builtin_function_or_method",
    "instance",
    "_Feature"
   ],
   "window_display": false
  }
 },
 "nbformat": 4,
 "nbformat_minor": 5
}
