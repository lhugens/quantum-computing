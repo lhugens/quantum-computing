{
 "cells": [
  {
   "cell_type": "code",
   "execution_count": 57,
   "id": "8a852010",
   "metadata": {
    "ExecuteTime": {
     "end_time": "2021-11-23T14:21:32.427859Z",
     "start_time": "2021-11-23T14:21:32.424990Z"
    }
   },
   "outputs": [],
   "source": [
    "import numpy as np\n",
    "\n",
    "import qiskit as qk\n",
    "\n",
    "import tools as t\n",
    "\n",
    "from copy import deepcopy"
   ]
  },
  {
   "cell_type": "code",
   "execution_count": 70,
   "id": "8324161d",
   "metadata": {
    "ExecuteTime": {
     "end_time": "2021-11-23T14:25:54.203778Z",
     "start_time": "2021-11-23T14:25:53.970443Z"
    },
    "scrolled": false
   },
   "outputs": [
    {
     "name": "stdout",
     "output_type": "stream",
     "text": [
      "1 iter {'111': 8192}\n",
      "2 iter {'111': 2029, '000': 2065, '010': 2067, '100': 2031}\n",
      "3 iter {'100': 1996, '111': 2098, '000': 2045, '010': 2053}\n",
      "4 iter {'111': 8192}\n",
      "5 iter {'010': 2091, '000': 1972, '111': 2095, '100': 2034}\n",
      "6 iter {'010': 2081, '000': 1978, '111': 2061, '100': 2072}\n",
      "7 iter {'111': 8192}\n",
      "8 iter {'111': 2042, '010': 2022, '000': 2146, '100': 1982}\n",
      "9 iter {'111': 2078, '100': 1955, '000': 2060, '010': 2099}\n",
      "10 iter {'111': 8192}\n"
     ]
    }
   ],
   "source": [
    "def modified_grover(state_lst, max_iter):\n",
    "    # build rotation matrix\n",
    "\n",
    "    state_arr = t.bit_lst_toarray(state_lst) / np.sqrt(4)\n",
    "    proj = t.proj_matrix(state_arr)\n",
    "    R = 2*proj - np.identity(len(proj))\n",
    "    # print('unitarity check\\n', R @ R.conjugate().transpose())\n",
    "\n",
    "    qr = qk.QuantumRegister(4, 'q')\n",
    "    cr = qk.ClassicalRegister(3, 'c')\n",
    "    qc = qk.QuantumCircuit(qr, cr)\n",
    "\n",
    "    qc.initialize(state_arr, [2, 1, 0])\n",
    "    qc.x(3)\n",
    "    qc.h(3)\n",
    "\n",
    "    qc.barrier()\n",
    "\n",
    "    for i in range(1, max_iter+1):\n",
    "        qc0 = deepcopy(qc)\n",
    "        for j in range(i):\n",
    "            qc0.cx(2, 3)\n",
    "            qc0.compose(t.gate(R), qr[:3], inplace=True)\n",
    "\n",
    "        qc0.measure(qr[:-1], cr)\n",
    "\n",
    "#         print(qc0.draw())\n",
    "\n",
    "        print(i, 'iter', t.counts(qc0))\n",
    "    return \n",
    "\n",
    "modified_grover(['111', '000', '010', '100'], 10)"
   ]
  },
  {
   "cell_type": "code",
   "execution_count": 71,
   "id": "ce66aae9",
   "metadata": {
    "ExecuteTime": {
     "end_time": "2021-11-23T14:26:21.451888Z",
     "start_time": "2021-11-23T14:26:21.228759Z"
    }
   },
   "outputs": [
    {
     "name": "stdout",
     "output_type": "stream",
     "text": [
      "1 iter {'111': 8192}\n",
      "2 iter {'111': 2002, '000': 2011, '010': 2107, '100': 2072}\n",
      "3 iter {'111': 2104, '100': 1987, '010': 2077, '000': 2024}\n",
      "4 iter {'111': 8192}\n",
      "5 iter {'100': 2033, '111': 2048, '010': 2057, '000': 2054}\n",
      "6 iter {'100': 2037, '111': 2001, '000': 2066, '010': 2088}\n",
      "7 iter {'111': 8192}\n",
      "8 iter {'000': 2061, '010': 2043, '111': 2052, '100': 2036}\n",
      "9 iter {'100': 2077, '111': 2023, '000': 2103, '010': 1989}\n",
      "10 iter {'111': 8192}\n"
     ]
    }
   ],
   "source": [
    "modified_grover(['111', '000', '010', '100'], 10)"
   ]
  },
  {
   "cell_type": "code",
   "execution_count": 72,
   "id": "a3e4955f",
   "metadata": {
    "ExecuteTime": {
     "end_time": "2021-11-23T14:26:48.752544Z",
     "start_time": "2021-11-23T14:26:48.539590Z"
    }
   },
   "outputs": [
    {
     "name": "stdout",
     "output_type": "stream",
     "text": [
      "1 iter {'010': 2132, '111': 2011, '001': 2004, '100': 2045}\n",
      "2 iter {'001': 2034, '100': 2041, '111': 2061, '010': 2056}\n",
      "3 iter {'111': 2082, '001': 1966, '010': 2062, '100': 2082}\n",
      "4 iter {'111': 2047, '001': 2053, '010': 2005, '100': 2087}\n",
      "5 iter {'001': 2038, '111': 2067, '100': 2034, '010': 2053}\n",
      "6 iter {'001': 2033, '111': 1988, '100': 2098, '010': 2073}\n",
      "7 iter {'010': 2044, '111': 2054, '100': 2078, '001': 2016}\n",
      "8 iter {'010': 1994, '100': 2108, '111': 2027, '001': 2063}\n",
      "9 iter {'001': 2061, '111': 2037, '100': 2056, '010': 2038}\n",
      "10 iter {'111': 2036, '010': 2066, '100': 2118, '001': 1972}\n"
     ]
    }
   ],
   "source": [
    "modified_grover(['111', '001', '010', '100'], 10)"
   ]
  },
  {
   "cell_type": "code",
   "execution_count": 73,
   "id": "d31b1b8c",
   "metadata": {
    "ExecuteTime": {
     "end_time": "2021-11-23T14:27:24.278725Z",
     "start_time": "2021-11-23T14:27:24.044761Z"
    }
   },
   "outputs": [
    {
     "name": "stdout",
     "output_type": "stream",
     "text": [
      "1 iter {'001': 8192}\n",
      "2 iter {'100': 2147, '010': 2052, '110': 2008, '001': 1985}\n",
      "3 iter {'001': 2102, '100': 2009, '010': 2022, '110': 2059}\n",
      "4 iter {'001': 8192}\n",
      "5 iter {'010': 1998, '001': 2111, '100': 2046, '110': 2037}\n",
      "6 iter {'100': 2101, '110': 2024, '001': 2053, '010': 2014}\n",
      "7 iter {'001': 8192}\n",
      "8 iter {'001': 2080, '110': 2005, '010': 2034, '100': 2073}\n",
      "9 iter {'010': 2013, '001': 2108, '110': 1989, '100': 2082}\n",
      "10 iter {'001': 8192}\n"
     ]
    }
   ],
   "source": [
    "modified_grover(['001', '110', '010', '100'], 10)"
   ]
  },
  {
   "cell_type": "code",
   "execution_count": null,
   "id": "97d7bef7",
   "metadata": {},
   "outputs": [],
   "source": []
  }
 ],
 "metadata": {
  "kernelspec": {
   "display_name": "Python 3 (ipykernel)",
   "language": "python",
   "name": "python3"
  },
  "language_info": {
   "codemirror_mode": {
    "name": "ipython",
    "version": 3
   },
   "file_extension": ".py",
   "mimetype": "text/x-python",
   "name": "python",
   "nbconvert_exporter": "python",
   "pygments_lexer": "ipython3",
   "version": "3.9.7"
  },
  "varInspector": {
   "cols": {
    "lenName": 16,
    "lenType": 16,
    "lenVar": 40
   },
   "kernels_config": {
    "python": {
     "delete_cmd_postfix": "",
     "delete_cmd_prefix": "del ",
     "library": "var_list.py",
     "varRefreshCmd": "print(var_dic_list())"
    },
    "r": {
     "delete_cmd_postfix": ") ",
     "delete_cmd_prefix": "rm(",
     "library": "var_list.r",
     "varRefreshCmd": "cat(var_dic_list()) "
    }
   },
   "types_to_exclude": [
    "module",
    "function",
    "builtin_function_or_method",
    "instance",
    "_Feature"
   ],
   "window_display": false
  }
 },
 "nbformat": 4,
 "nbformat_minor": 5
}
