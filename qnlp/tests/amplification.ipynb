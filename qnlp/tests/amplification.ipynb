{
 "cells": [
  {
   "cell_type": "code",
   "execution_count": 1,
   "id": "7d7817cf",
   "metadata": {
    "ExecuteTime": {
     "end_time": "2021-12-08T13:19:48.804829Z",
     "start_time": "2021-12-08T13:19:47.899659Z"
    }
   },
   "outputs": [],
   "source": [
    "from copy import deepcopy, copy\n",
    "from datetime import datetime\n",
    "\n",
    "import numpy as np\n",
    "import matplotlib.pyplot as plt\n",
    "import qiskit as qk\n",
    "from qiskit.circuit.library import MCMT\n",
    "\n",
    "from context import tools as t\n",
    "\n",
    "plt.style.use('science')"
   ]
  },
  {
   "cell_type": "code",
   "execution_count": 2,
   "id": "f02f5060",
   "metadata": {
    "ExecuteTime": {
     "end_time": "2021-12-08T13:19:48.814884Z",
     "start_time": "2021-12-08T13:19:48.809499Z"
    }
   },
   "outputs": [
    {
     "data": {
      "application/javascript": [
       "IPython.notebook.kernel.execute('NB_NAME = \"' + IPython.notebook.notebook_name + '\"')\n"
      ],
      "text/plain": [
       "<IPython.core.display.Javascript object>"
      ]
     },
     "metadata": {},
     "output_type": "display_data"
    }
   ],
   "source": [
    "%%javascript\n",
    "IPython.notebook.kernel.execute('NB_NAME = \"' + IPython.notebook.notebook_name + '\"')"
   ]
  },
  {
   "cell_type": "code",
   "execution_count": 3,
   "id": "6980257b",
   "metadata": {
    "ExecuteTime": {
     "end_time": "2021-12-08T13:19:48.916089Z",
     "start_time": "2021-12-08T13:19:48.816123Z"
    }
   },
   "outputs": [
    {
     "ename": "NameError",
     "evalue": "name 'NB_NAME' is not defined",
     "output_type": "error",
     "traceback": [
      "\u001b[0;31m---------------------------------------------------------------------------\u001b[0m",
      "\u001b[0;31mNameError\u001b[0m                                 Traceback (most recent call last)",
      "\u001b[0;32m/tmp/ipykernel_67357/2564988338.py\u001b[0m in \u001b[0;36m<module>\u001b[0;34m\u001b[0m\n\u001b[0;32m----> 1\u001b[0;31m \u001b[0mNB_NAME\u001b[0m\u001b[0;34m\u001b[0m\u001b[0;34m\u001b[0m\u001b[0m\n\u001b[0m",
      "\u001b[0;31mNameError\u001b[0m: name 'NB_NAME' is not defined"
     ]
    }
   ],
   "source": [
    "NB_NAME"
   ]
  },
  {
   "cell_type": "code",
   "execution_count": null,
   "id": "ad94328e",
   "metadata": {
    "ExecuteTime": {
     "end_time": "2021-12-08T13:19:48.917938Z",
     "start_time": "2021-12-08T13:19:48.917929Z"
    }
   },
   "outputs": [],
   "source": [
    "def get_filename_png():\n",
    "    now = datetime.now()\n",
    "    return now.strftime('figures/%Y-%m-%d--%H:%M:%S-')+NB_NAME[:-6]+'.png'\n",
    "\n",
    "def get_filename_txt():\n",
    "    now = datetime.now()\n",
    "    return now.strftime('data/%Y-%m-%d--%H:%M:%S-')+NB_NAME[:-6]+'.txt'\n",
    "\n",
    "def circ(n_qubits):\n",
    "    qr = qk.QuantumRegister(n_qubits, 'q')\n",
    "    qc = qk.QuantumCircuit(qr)\n",
    "    return qr, qc\n",
    "\n",
    "def sort(dic):\n",
    "    return sorted(dic.items())\n",
    "\n",
    "def isdagger(gate, dag_gate):\n",
    "    qr = qk.QuantumRegister(gate.num_qubits, 'q')\n",
    "    qc = qk.QuantumCircuit(qr)\n",
    "    qc.compose(gate, qr, inplace=True)\n",
    "    qc.compose(dag_gate, qr, inplace=True)\n",
    "    qc.measure_all()\n",
    "    counts = t.counts(qc)\n",
    "    return list(counts.keys()) == ['0'*gate.num_qubits]\n",
    "\n",
    "def all_combinations(s):\n",
    "    arr = np.array(list(s), dtype=object)\n",
    "    dots_pos = np.where(arr == '.')[0]\n",
    "    bit_lst = [list(''.join(str(bit) for bit in bits)) for bits in product([0, 1], repeat=len(dots_pos))]\n",
    "    result = []\n",
    "    for bit in bit_lst:\n",
    "        arr[dots_pos] = bit\n",
    "        result.append(''.join(str(b) for b in arr))\n",
    "    return result"
   ]
  },
  {
   "cell_type": "code",
   "execution_count": null,
   "id": "c74099b4",
   "metadata": {
    "ExecuteTime": {
     "end_time": "2021-12-08T13:19:48.918613Z",
     "start_time": "2021-12-08T13:19:48.918605Z"
    }
   },
   "outputs": [],
   "source": [
    "all_combinations('00.1000000')"
   ]
  },
  {
   "cell_type": "code",
   "execution_count": null,
   "id": "5b73de3b",
   "metadata": {
    "ExecuteTime": {
     "end_time": "2021-12-08T13:19:48.919297Z",
     "start_time": "2021-12-08T13:19:48.919288Z"
    }
   },
   "outputs": [],
   "source": [
    "# build W|0> = |who>\n",
    "qr, qc = circ(6)\n",
    "qc.h([0, 1, 3])\n",
    "qc.cnot([0, 1, 3], [2, 5, 4])\n",
    "W_gate = deepcopy(qc)\n",
    "\n",
    "# build T|0> = |talks> = (|00>+|11>)/sqrt(2)\n",
    "# build A|0> = |answers> = (|00>+|11>)/sqrt(2)\n",
    "qr, qc = circ(2)\n",
    "qc.h(0)\n",
    "qc.cnot(0, 1)\n",
    "T_gate = deepcopy(qc)\n",
    "A_gate = deepcopy(qc)\n",
    "\n",
    "# build U|0>=|psi>\n",
    "qr, qc = circ(10)\n",
    "qc.compose(W_gate, qr[:6], inplace=True)\n",
    "qc.compose(T_gate, qr[6:8], inplace=True)\n",
    "qc.compose(A_gate, qr[8:10], inplace=True)\n",
    "# qc.barrier()\n",
    "\n",
    "# contraction 1\n",
    "qc.cnot(5, 6)\n",
    "qc.h(5)\n",
    "# qc.barrier()\n",
    "# contraction 2\n",
    "qc.cnot(4, 7)\n",
    "qc.h(4)\n",
    "# qc.barrier()\n",
    "# contraction 3\n",
    "qc.cnot(1, 8)\n",
    "qc.h(1)\n",
    "# qc.barrier()\n",
    "# contraction 4\n",
    "qc.cnot(0, 9)\n",
    "qc.h(0)\n",
    "# qc.barrier()\n",
    "\n",
    "U_gate = deepcopy(qc)\n",
    "Udag_gate = U_gate.reverse_ops()\n",
    "\n",
    "print(isdagger(U_gate, Udag_gate))\n",
    "# print(U_gate.draw())\n",
    "# print(Udag_gate.draw())"
   ]
  },
  {
   "cell_type": "code",
   "execution_count": null,
   "id": "3fdc967b",
   "metadata": {
    "ExecuteTime": {
     "end_time": "2021-12-08T13:19:48.919854Z",
     "start_time": "2021-12-08T13:19:48.919845Z"
    }
   },
   "outputs": [],
   "source": [
    "# build A\n",
    "qr, qc = t.circ(2)\n",
    "qc.h(0)\n",
    "qc.cnot(0, 1)\n",
    "A_circ = deepcopy(qc)\n",
    "B_circ = deepcopy(qc)\n",
    "\n",
    "qr, qc = t.circ(4)\n",
    "qc.compose(A_circ, qr[:2], inplace=True)\n",
    "qc.compose(B_circ, qr[-2:], inplace=True)\n",
    "qc.cnot(0, 3)\n",
    "qc.h(0)\n",
    "U_circ = deepcopy(qc)\n",
    "print(U_circ.draw())"
   ]
  },
  {
   "cell_type": "code",
   "execution_count": null,
   "id": "a95b1b5d",
   "metadata": {
    "ExecuteTime": {
     "end_time": "2021-12-08T13:19:48.920522Z",
     "start_time": "2021-12-08T13:19:48.920511Z"
    },
    "scrolled": false
   },
   "outputs": [],
   "source": [
    "def amplification_analysis(U_gate, desired_str, M=100):\n",
    "    # number of qubits, not counting with ancilla qubits\n",
    "    n_qubits = U_gate.num_qubits\n",
    "    \n",
    "    # build Udag_gate\n",
    "    Udag_gate = U_gate.reverse_ops()\n",
    "    print(Udag_gate.draw())\n",
    "    assert(isdagger(U_gate, Udag_gate))\n",
    "    \n",
    "    # build O_gate (oracle)\n",
    "    assert(len(desired_str)==n_qubits)\n",
    "    \n",
    "    s_arr = np.array(list(desired_str), dtype=object)\n",
    "    desired0 = list(np.where(s_arr == '0')[0])\n",
    "    desired1 = list(np.where(s_arr == '1')[0])\n",
    "    affected = list(np.where(s_arr != '.')[0])\n",
    "    \n",
    "    qr, O_gate = circ(n_qubits+1)\n",
    "    O_gate.x(qr[desired0])\n",
    "    O_gate.compose(MCMT('cx', len(affected), 1), qr[affected] + [qr[-1]], inplace=True)\n",
    "    O_gate.x(qr[desired0])\n",
    "\n",
    "    # build S0_gate (that flips sign of |0> state)\n",
    "    qr, S0_gate = circ(n_qubits)\n",
    "    S0_gate.x(qr)\n",
    "    S0_gate.h(-1)\n",
    "    S0_gate.compose(MCMT('cx', n_qubits-1, 1), qr, inplace=True)\n",
    "    S0_gate.h(-1)\n",
    "    S0_gate.x(qr)\n",
    "    \n",
    "    # build Q_gate (grover operator)\n",
    "    qr, Q_gate = circ(n_qubits+1)\n",
    "    Q_gate.compose(O_gate, qr, inplace=True)\n",
    "#     Q_gate.barrier()\n",
    "    Q_gate.compose(Udag_gate, qr[:-1], inplace=True)\n",
    "#     Q_gate.barrier()\n",
    "    Q_gate.compose(S0_gate, qr[:-1], inplace=True)\n",
    "#     Q_gate.barrier()\n",
    "    Q_gate.compose(U_gate, qr[:-1], inplace=True)\n",
    "#     print(Q_gate.draw())\n",
    "\n",
    "    # perform measure in U|0> = |psi> to measure a\n",
    "    qr, qc = circ(n_qubits)\n",
    "    qc.compose(U_gate, qr, inplace=True)\n",
    "    qc.measure_all()\n",
    "\n",
    "    shots = 2**16\n",
    "    desired_dic = {}\n",
    "    for bit, counts in t.counts(qc, shots=shots).items():\n",
    "        if t.substr(bit, desired0) == '0'*len(desired0) and t.substr(bit, desired1) == '1'*len(desired1):\n",
    "            desired_dic[bit] = desired_dic.get(bit, 0) + counts\n",
    "            \n",
    "    a = 0\n",
    "    for bit, counts in desired_dic.items():\n",
    "        a += counts/shots\n",
    "    print(f'Estimated value of a = {a}')\n",
    "    \n",
    "    # build list of circuits\n",
    "    circ_lst = []\n",
    "    qr = qk.QuantumRegister(n_qubits+1, 'q')\n",
    "    cr = qk.ClassicalRegister(n_qubits, 'c')\n",
    "    qc = qk.QuantumCircuit(qr, cr)\n",
    "    qc.compose(U_gate, qr[:-1], inplace=True)\n",
    "    qc.x(-1)\n",
    "    qc.h(-1)\n",
    "    \n",
    "    shots = 2**13\n",
    "    for m in range(M):\n",
    "        qc.compose(Q_gate, qr, inplace=True)\n",
    "        qc_measured = deepcopy(qc)\n",
    "        qc_measured.measure(qr[:-1], cr)\n",
    "        circ_lst.append(qc_measured)\n",
    "        \n",
    "    all_counts = t.counts(circ_lst, shots=shots)\n",
    "    desired_basis_states = all_combinations(desired_str)\n",
    "    \n",
    "    a_arr = np.zeros(len(all_counts)+1)\n",
    "    a_arr[0] = a\n",
    "    for i, dic in enumerate(all_counts):\n",
    "        for state in desired_basis_states:\n",
    "            a_arr[i+1] += dic.get(state, 0)/shots\n",
    "    \n",
    "    return a_arr\n",
    "    \n",
    "# a_arr = amplification_analysis(U_gate, '00.1000000', M=100)\n",
    "# a_arr = amplification_analysis(U_gate, '00.1000000', M=20)\n",
    "# a_arr\n",
    "a_arr = amplification_analysis(U_circ, '0.10', M=100)\n",
    "a_arr"
   ]
  },
  {
   "cell_type": "code",
   "execution_count": null,
   "id": "50bec6db",
   "metadata": {},
   "outputs": [],
   "source": []
  },
  {
   "cell_type": "code",
   "execution_count": null,
   "id": "53e57412",
   "metadata": {
    "ExecuteTime": {
     "end_time": "2021-12-08T13:19:48.921161Z",
     "start_time": "2021-12-08T13:19:48.921152Z"
    }
   },
   "outputs": [],
   "source": [
    "def amplification_analysis1(U_gate, desired_str, M=100):\n",
    "    # number of qubits, not counting with ancilla qubits\n",
    "    n_qubits = U_gate.num_qubits\n",
    "    \n",
    "    # build Udag_gate\n",
    "    Udag_gate = U_gate.reverse_ops()\n",
    "    assert(isdagger(U_gate, Udag_gate))\n",
    "    \n",
    "    # build O_gate (oracle)\n",
    "    assert(len(desired_str)==n_qubits)\n",
    "    \n",
    "    s_arr = np.array(list(desired_str), dtype=object)\n",
    "    desired0 = list(np.where(s_arr == '0')[0])\n",
    "    desired1 = list(np.where(s_arr == '1')[0])\n",
    "    affected = list(np.where(s_arr != '.')[0])\n",
    "    \n",
    "    O_gate = t.oracle(desired_str)\n",
    "#     print(O_gate.draw())\n",
    "\n",
    "    # build S0_gate (that flips sign of |0> state)\n",
    "    qr, S0_gate = circ(n_qubits)\n",
    "    S0_gate.x(qr)\n",
    "    S0_gate.h(-1)\n",
    "    S0_gate.compose(MCMT('cx', n_qubits-1, 1), qr, inplace=True)\n",
    "    S0_gate.h(-1)\n",
    "    S0_gate.x(qr)\n",
    "#     print(S0_gate.draw())\n",
    "    \n",
    "    # build Q_gate (grover operator)\n",
    "    qr, Q_gate = circ(n_qubits)\n",
    "    Q_gate.compose(O_gate, qr, inplace=True)\n",
    "#     Q_gate.barrier()\n",
    "    Q_gate.compose(Udag_gate, qr, inplace=True)\n",
    "#     Q_gate.barrier()\n",
    "    Q_gate.compose(S0_gate, qr, inplace=True)\n",
    "#     Q_gate.barrier()\n",
    "    Q_gate.compose(U_gate, qr, inplace=True)\n",
    "#     print(Q_gate.draw())\n",
    "\n",
    "    # perform measure in U|0> = |psi> to measure a\n",
    "    qr, qc = circ(n_qubits)\n",
    "    qc.compose(U_gate, qr, inplace=True)\n",
    "    qc.measure_all()\n",
    "\n",
    "    shots = 2**16\n",
    "    desired_dic = {}\n",
    "    for bit, counts in t.counts(qc, shots=shots).items():\n",
    "        if t.substr(bit, desired0) == '0'*len(desired0) and t.substr(bit, desired1) == '1'*len(desired1):\n",
    "            desired_dic[bit] = desired_dic.get(bit, 0) + counts\n",
    "            \n",
    "    a = 0\n",
    "    for bit, counts in desired_dic.items():\n",
    "        a += counts/shots\n",
    "    print(f'Estimated value of a = {a}')\n",
    "    \n",
    "    # build list of circuits\n",
    "    circ_lst = []\n",
    "    qr, cr, qc = t.circ_measured(n_qubits, n_qubits)\n",
    "    qc.compose(U_gate, qr, inplace=True)\n",
    "#     print(qc.draw())\n",
    "    \n",
    "    shots = 2**13\n",
    "    for m in range(M):\n",
    "        qc.compose(Q_gate, qr, inplace=True)\n",
    "        qc_measured = deepcopy(qc)\n",
    "        qc_measured.measure(qr, cr)\n",
    "        circ_lst.append(qc_measured)\n",
    "        \n",
    "    all_counts = t.counts(circ_lst, shots=shots)\n",
    "    desired_basis_states = all_combinations(desired_str)\n",
    "    \n",
    "    a_arr = np.zeros(len(all_counts)+1)\n",
    "    a_arr[0] = a\n",
    "    for i, dic in enumerate(all_counts):\n",
    "        for state in desired_basis_states:\n",
    "            a_arr[i+1] += dic.get(state, 0)/shots\n",
    "    \n",
    "    return a_arr\n",
    "#     return \n",
    "    \n",
    "# a_arr = amplification_analysis1(U_gate, '00.1000000', M=100)\n",
    "# a_arr"
   ]
  },
  {
   "cell_type": "code",
   "execution_count": null,
   "id": "c6c3c28b",
   "metadata": {
    "ExecuteTime": {
     "end_time": "2021-12-08T13:19:48.921715Z",
     "start_time": "2021-12-08T13:19:48.921705Z"
    }
   },
   "outputs": [],
   "source": [
    "def plot(a_arr):\n",
    "    a = a_arr[0]\n",
    "    print(a)\n",
    "    theta = np.arcsin(np.sqrt(a))\n",
    "    m = np.arange(len(a_arr))\n",
    "    ms = np.linspace(m[0], m[-1], 1000)\n",
    "    \n",
    "    fig = plt.figure(figsize = (7, 4))\n",
    "    plt.xlabel(r'$m$')\n",
    "    plt.ylabel('Prob of measuring good basis state')\n",
    "    plt.plot(m, a_arr, 'o', label='experimental')\n",
    "#     plt.plot(m, np.sin((2*m+1)*theta)**2, label='theoretical')\n",
    "    plt.plot(ms, np.sin((2*ms+1)*theta)**2, label='theoretical')\n",
    "    plt.axvline(x=np.floor(np.pi/(4*theta)), c='k', ls='--', label=r'$m_{floor}$')\n",
    "    plt.axhline(y=max(a, 1-a), c='b', ls='--', label=r'max$(1-a,a)$')\n",
    "    plt.legend()\n",
    "    plt.savefig(get_filename_png(), format='png', dpi=600)\n",
    "    plt.plot()\n",
    "    return\n",
    "plot(a_arr[:50])"
   ]
  },
  {
   "cell_type": "code",
   "execution_count": null,
   "id": "18020b32",
   "metadata": {
    "ExecuteTime": {
     "end_time": "2021-12-08T13:19:48.922250Z",
     "start_time": "2021-12-08T13:19:48.922241Z"
    }
   },
   "outputs": [],
   "source": [
    "def write_arr_to_file(arr):\n",
    "    with open(get_filename_txt(), 'w') as f:\n",
    "        for i, a in enumerate(arr):\n",
    "            f.write(f'{i} {a}\\n')\n",
    "write_arr_to_file(a_arr)"
   ]
  },
  {
   "cell_type": "code",
   "execution_count": null,
   "id": "b23f7610",
   "metadata": {},
   "outputs": [],
   "source": []
  }
 ],
 "metadata": {
  "kernelspec": {
   "display_name": "Python 3 (ipykernel)",
   "language": "python",
   "name": "python3"
  },
  "language_info": {
   "codemirror_mode": {
    "name": "ipython",
    "version": 3
   },
   "file_extension": ".py",
   "mimetype": "text/x-python",
   "name": "python",
   "nbconvert_exporter": "python",
   "pygments_lexer": "ipython3",
   "version": "3.9.9"
  },
  "varInspector": {
   "cols": {
    "lenName": 16,
    "lenType": 16,
    "lenVar": 40
   },
   "kernels_config": {
    "python": {
     "delete_cmd_postfix": "",
     "delete_cmd_prefix": "del ",
     "library": "var_list.py",
     "varRefreshCmd": "print(var_dic_list())"
    },
    "r": {
     "delete_cmd_postfix": ") ",
     "delete_cmd_prefix": "rm(",
     "library": "var_list.r",
     "varRefreshCmd": "cat(var_dic_list()) "
    }
   },
   "types_to_exclude": [
    "module",
    "function",
    "builtin_function_or_method",
    "instance",
    "_Feature"
   ],
   "window_display": false
  }
 },
 "nbformat": 4,
 "nbformat_minor": 5
}
