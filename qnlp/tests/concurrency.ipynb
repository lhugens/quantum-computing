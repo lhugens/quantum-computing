{
 "cells": [
  {
   "cell_type": "code",
   "execution_count": 1,
   "id": "35af4c55",
   "metadata": {
    "ExecuteTime": {
     "end_time": "2021-10-16T11:38:17.193946Z",
     "start_time": "2021-10-16T11:38:16.577760Z"
    }
   },
   "outputs": [],
   "source": [
    "import qiskit as qk"
   ]
  },
  {
   "cell_type": "code",
   "execution_count": 2,
   "id": "bb146538",
   "metadata": {
    "ExecuteTime": {
     "end_time": "2021-10-16T11:38:52.376515Z",
     "start_time": "2021-10-16T11:38:52.373318Z"
    }
   },
   "outputs": [],
   "source": [
    "# equivalent example to check if the problem is qiskit\n",
    "def f(x, y, z):\n",
    "    return x*y*z\n",
    "\n",
    "class car:\n",
    "    def __init__(self):\n",
    "        self.name = 'cenas'\n",
    "        \n",
    "    def "
   ]
  },
  {
   "cell_type": "code",
   "execution_count": null,
   "id": "7cd7e685",
   "metadata": {},
   "outputs": [],
   "source": [
    "def execute(qc, backend, shots):\n",
    "    return qk.execute(qc, backend=backend, shots=shots).result().get_counts()\n"
   ]
  }
 ],
 "metadata": {
  "kernelspec": {
   "display_name": "Python 3 (ipykernel)",
   "language": "python",
   "name": "python3"
  },
  "language_info": {
   "codemirror_mode": {
    "name": "ipython",
    "version": 3
   },
   "file_extension": ".py",
   "mimetype": "text/x-python",
   "name": "python",
   "nbconvert_exporter": "python",
   "pygments_lexer": "ipython3",
   "version": "3.9.7"
  },
  "varInspector": {
   "cols": {
    "lenName": 16,
    "lenType": 16,
    "lenVar": 40
   },
   "kernels_config": {
    "python": {
     "delete_cmd_postfix": "",
     "delete_cmd_prefix": "del ",
     "library": "var_list.py",
     "varRefreshCmd": "print(var_dic_list())"
    },
    "r": {
     "delete_cmd_postfix": ") ",
     "delete_cmd_prefix": "rm(",
     "library": "var_list.r",
     "varRefreshCmd": "cat(var_dic_list()) "
    }
   },
   "types_to_exclude": [
    "module",
    "function",
    "builtin_function_or_method",
    "instance",
    "_Feature"
   ],
   "window_display": false
  }
 },
 "nbformat": 4,
 "nbformat_minor": 5
}
