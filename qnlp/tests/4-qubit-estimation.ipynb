{
 "cells": [
  {
   "cell_type": "code",
   "execution_count": 5,
   "id": "06edc354",
   "metadata": {
    "ExecuteTime": {
     "end_time": "2021-12-10T10:27:16.406172Z",
     "start_time": "2021-12-10T10:27:16.394659Z"
    }
   },
   "outputs": [],
   "source": [
    "from copy import deepcopy\n",
    "import numpy as np\n",
    "import matplotlib.pyplot as plt\n",
    "import qiskit as qk\n",
    "from qiskit.circuit.library import MCMT\n",
    "\n",
    "from context import tools as t\n",
    "\n",
    "plt.style.use('science')"
   ]
  },
  {
   "cell_type": "code",
   "execution_count": 10,
   "id": "137f598b",
   "metadata": {
    "ExecuteTime": {
     "end_time": "2021-12-10T10:28:47.785071Z",
     "start_time": "2021-12-10T10:28:47.773144Z"
    }
   },
   "outputs": [],
   "source": [
    "def filterdict(dic, f):\n",
    "    newdic = {}\n",
    "    for key, value in dic.items():\n",
    "        if f(value) == True:\n",
    "            newdic[key] = value\n",
    "    return newdic\n",
    "\n",
    "def a_estimate(bit_str):\n",
    "    return (np.sin(np.pi*t.bit_index(bit_str)/2**4))**2"
   ]
  },
  {
   "cell_type": "code",
   "execution_count": 2,
   "id": "42b4e390",
   "metadata": {
    "ExecuteTime": {
     "end_time": "2021-12-10T10:26:34.151934Z",
     "start_time": "2021-12-10T10:26:30.814284Z"
    },
    "scrolled": false
   },
   "outputs": [
    {
     "name": "stdout",
     "output_type": "stream",
     "text": [
      "     ┌───┐                                                  ░ ┌───┐┌─┐         »\n",
      "q_0: ┤ H ├────────────────────────────────────────────■─────░─┤ H ├┤M├─────────»\n",
      "     ├───┤                                            │     ░ ├───┤└╥┘┌─┐      »\n",
      "q_1: ┤ H ├────────────────────────────────────■───────┼─────░─┤ H ├─╫─┤M├──────»\n",
      "     ├───┤                                    │       │     ░ ├───┤ ║ └╥┘┌─┐   »\n",
      "q_2: ┤ H ├────────────────────────────■───────┼───────┼─────░─┤ H ├─╫──╫─┤M├───»\n",
      "     ├───┤                            │       │       │     ░ ├───┤ ║  ║ └╥┘┌─┐»\n",
      "q_3: ┤ H ├────────────────────■───────┼───────┼───────┼─────░─┤ H ├─╫──╫──╫─┤M├»\n",
      "     ├───┤                    │       │       │       │     ░ ├───┤ ║  ║  ║ └╥┘»\n",
      "q_4: ┤ H ├────────────■───────┼───────┼───────┼───────┼─────░─┤ H ├─╫──╫──╫──╫─»\n",
      "     ├───┤            │       │       │       │       │     ░ ├───┤ ║  ║  ║  ║ »\n",
      "q_5: ┤ H ├────■───────┼───────┼───────┼───────┼───────┼─────░─┤ H ├─╫──╫──╫──╫─»\n",
      "     ├───┴┐┌──┴───┐┌──┴───┐┌──┴───┐┌──┴───┐┌──┴───┐┌──┴───┐ ░ └───┘ ║  ║  ║  ║ »\n",
      "q_6: ┤0   ├┤0     ├┤0     ├┤0     ├┤0     ├┤0     ├┤0     ├─░───────╫──╫──╫──╫─»\n",
      "     │    ││      ││      ││      ││      ││      ││      │ ░       ║  ║  ║  ║ »\n",
      "q_7: ┤1   ├┤1     ├┤1     ├┤1     ├┤1     ├┤1     ├┤1     ├─░───────╫──╫──╫──╫─»\n",
      "     │  U ││  Q^1 ││  Q^2 ││  Q^3 ││  Q^4 ││  Q^5 ││  Q^6 │ ░       ║  ║  ║  ║ »\n",
      "q_8: ┤2   ├┤2     ├┤2     ├┤2     ├┤2     ├┤2     ├┤2     ├─░───────╫──╫──╫──╫─»\n",
      "     │    ││      ││      ││      ││      ││      ││      │ ░       ║  ║  ║  ║ »\n",
      "q_9: ┤3   ├┤3     ├┤3     ├┤3     ├┤3     ├┤3     ├┤3     ├─░───────╫──╫──╫──╫─»\n",
      "     └────┘└──────┘└──────┘└──────┘└──────┘└──────┘└──────┘ ░       ║  ║  ║  ║ »\n",
      "c: 6/═══════════════════════════════════════════════════════════════╩══╩══╩══╩═»\n",
      "                                                                    0  1  2  3 »\n",
      "«           \n",
      "«q_0: ──────\n",
      "«           \n",
      "«q_1: ──────\n",
      "«           \n",
      "«q_2: ──────\n",
      "«           \n",
      "«q_3: ──────\n",
      "«     ┌─┐   \n",
      "«q_4: ┤M├───\n",
      "«     └╥┘┌─┐\n",
      "«q_5: ─╫─┤M├\n",
      "«      ║ └╥┘\n",
      "«q_6: ─╫──╫─\n",
      "«      ║  ║ \n",
      "«q_7: ─╫──╫─\n",
      "«      ║  ║ \n",
      "«q_8: ─╫──╫─\n",
      "«      ║  ║ \n",
      "«q_9: ─╫──╫─\n",
      "«      ║  ║ \n",
      "«c: 6/═╩══╩═\n",
      "«      4  5 \n"
     ]
    }
   ],
   "source": [
    "# build A\n",
    "qr, qc = t.circ(2)\n",
    "qc.h(0)\n",
    "qc.cnot(0, 1)\n",
    "A_circ = deepcopy(qc)\n",
    "B_circ = deepcopy(qc)\n",
    "\n",
    "qr, qc = t.circ(4)\n",
    "qc.compose(A_circ, qr[:2], inplace=True)\n",
    "qc.compose(B_circ, qr[-2:], inplace=True)\n",
    "qc.cnot(0, 3)\n",
    "qc.h(0)\n",
    "U_circ = deepcopy(qc)\n",
    "# print(U_circ.draw())\n",
    "\n",
    "def esti_arr(U_circ, desired_str, M, ibm=False):\n",
    "    n_qubits = U_circ.num_qubits\n",
    "    U_gate = U_circ.to_gate(label='U')\n",
    "    Q_ctrl_gate = t.Q_circuit(U_gate, desired_str)\n",
    "    qr, cr, qc = t.circ_measured(M+n_qubits, M)\n",
    "    qc.h(qr[:M])\n",
    "    qc.compose(U_gate, qr[M:], inplace=True)\n",
    "    \n",
    "    wires = lambda i: [qr[M-i-1]] + qr[M:]\n",
    "    \n",
    "    for i, Q_power in enumerate(t.powers(Q_ctrl_gate, M)):\n",
    "        qc.compose(Q_power.to_gate(label=f'Q^{i+1}').control(), wires(i), inplace=True)\n",
    "#         qc.compose(Q_power.control(), wires(i), inplace=True)\n",
    "    qc.barrier()\n",
    "    qc.h(qr[:M])\n",
    "    qc.measure(qr[:M], cr)\n",
    "    print(qc.draw())\n",
    "    counts = t.get_counts(qc)\n",
    "    return counts\n",
    "\n",
    "c = esti_arr(U_circ, '0.10', 6)"
   ]
  },
  {
   "cell_type": "code",
   "execution_count": 9,
   "id": "800f96bc",
   "metadata": {
    "ExecuteTime": {
     "end_time": "2021-12-10T10:27:50.806108Z",
     "start_time": "2021-12-10T10:27:49.649525Z"
    }
   },
   "outputs": [
    {
     "data": {
      "image/png": "[encoded data removed]",
      "text/plain": [
       "<Figure size 504x360 with 1 Axes>"
      ]
     },
     "metadata": {
      "needs_background": "light"
     },
     "output_type": "display_data"
    }
   ],
   "source": [
    "t.plot_weights(c)\n",
    "plt.show()"
   ]
  },
  {
   "cell_type": "code",
   "execution_count": 8,
   "id": "0750730d",
   "metadata": {
    "ExecuteTime": {
     "end_time": "2021-12-10T10:27:41.790133Z",
     "start_time": "2021-12-10T10:27:41.331082Z"
    }
   },
   "outputs": [
    {
     "data": {
      "image/png": "[encoded data removed]",
      "text/plain": [
       "<Figure size 504x360 with 1 Axes>"
      ]
     },
     "metadata": {
      "needs_background": "light"
     },
     "output_type": "display_data"
    }
   ],
   "source": [
    "t.plot_weights(filterdict(c, lambda x: x>100))\n",
    "plt.show()"
   ]
  },
  {
   "cell_type": "code",
   "execution_count": 13,
   "id": "34c80eee",
   "metadata": {
    "ExecuteTime": {
     "end_time": "2021-12-10T10:30:20.435645Z",
     "start_time": "2021-12-10T10:30:20.432079Z"
    }
   },
   "outputs": [
    {
     "data": {
      "text/plain": [
       "0.9619397662556438"
      ]
     },
     "execution_count": 13,
     "metadata": {},
     "output_type": "execute_result"
    }
   ],
   "source": [
    "a_estimate(max(c, key=c.get))/oracle\n"
   ]
  },
  {
   "cell_type": "code",
   "execution_count": 15,
   "id": "5ce8de48",
   "metadata": {
    "ExecuteTime": {
     "end_time": "2021-12-10T12:02:40.916732Z",
     "start_time": "2021-12-10T12:02:40.906903Z"
    }
   },
   "outputs": [
    {
     "data": {
      "text/html": [
       "<pre style=\"word-wrap: normal;white-space: pre;background: #fff0;line-height: 1.1;font-family: &quot;Courier New&quot;,Courier,monospace\">     ┌───┐          ┌───┐     \n",
       "q_0: ┤ X ├───────■──┤ X ├─────\n",
       "     └───┘       │  └───┘     \n",
       "q_1: ────────────┼────────────\n",
       "                 │            \n",
       "q_2: ────────────■────────────\n",
       "     ┌───┐┌───┐┌─┴─┐┌───┐┌───┐\n",
       "q_3: ┤ X ├┤ H ├┤ X ├┤ H ├┤ X ├\n",
       "     └───┘└───┘└───┘└───┘└───┘</pre>"
      ],
      "text/plain": [
       "     ┌───┐          ┌───┐     \n",
       "q_0: ┤ X ├───────■──┤ X ├─────\n",
       "     └───┘       │  └───┘     \n",
       "q_1: ────────────┼────────────\n",
       "                 │            \n",
       "q_2: ────────────■────────────\n",
       "     ┌───┐┌───┐┌─┴─┐┌───┐┌───┐\n",
       "q_3: ┤ X ├┤ H ├┤ X ├┤ H ├┤ X ├\n",
       "     └───┘└───┘└───┘└───┘└───┘"
      ]
     },
     "execution_count": 15,
     "metadata": {},
     "output_type": "execute_result"
    }
   ],
   "source": [
    "t.oracle_circuit('0.10').draw()"
   ]
  },
  {
   "cell_type": "code",
   "execution_count": 17,
   "id": "11ada6f7",
   "metadata": {
    "ExecuteTime": {
     "end_time": "2021-12-10T12:03:49.932794Z",
     "start_time": "2021-12-10T12:03:49.922242Z"
    }
   },
   "outputs": [
    {
     "data": {
      "text/html": [
       "<pre style=\"word-wrap: normal;white-space: pre;background: #fff0;line-height: 1.1;font-family: &quot;Courier New&quot;,Courier,monospace\">     ┌───┐          ┌───┐     \n",
       "q_0: ┤ X ├───────■──┤ X ├─────\n",
       "     └───┘       │  └───┘     \n",
       "q_1: ────────────┼────────────\n",
       "                 │            \n",
       "q_2: ────────────■────────────\n",
       "     ┌───┐┌───┐┌─┴─┐┌───┐┌───┐\n",
       "q_3: ┤ X ├┤ H ├┤ X ├┤ H ├┤ X ├\n",
       "     └───┘└───┘└───┘└───┘└───┘</pre>"
      ],
      "text/plain": [
       "     ┌───┐          ┌───┐     \n",
       "q_0: ┤ X ├───────■──┤ X ├─────\n",
       "     └───┘       │  └───┘     \n",
       "q_1: ────────────┼────────────\n",
       "                 │            \n",
       "q_2: ────────────■────────────\n",
       "     ┌───┐┌───┐┌─┴─┐┌───┐┌───┐\n",
       "q_3: ┤ X ├┤ H ├┤ X ├┤ H ├┤ X ├\n",
       "     └───┘└───┘└───┘└───┘└───┘"
      ]
     },
     "execution_count": 17,
     "metadata": {},
     "output_type": "execute_result"
    }
   ],
   "source": [
    "qk.transpile(t.oracle_circuit('0.10')).draw()"
   ]
  },
  {
   "cell_type": "code",
   "execution_count": null,
   "id": "e933038f",
   "metadata": {},
   "outputs": [],
   "source": [
    "t.job_set()"
   ]
  },
  {
   "cell_type": "code",
   "execution_count": 21,
   "id": "dd8d0d62",
   "metadata": {
    "ExecuteTime": {
     "end_time": "2021-12-10T12:07:53.558302Z",
     "start_time": "2021-12-10T12:07:53.521091Z"
    }
   },
   "outputs": [
    {
     "data": {
      "text/html": [
       "<pre style=\"word-wrap: normal;white-space: pre;background: #fff0;line-height: 1.1;font-family: &quot;Courier New&quot;,Courier,monospace\">        ┌───┐          ┌───┐      ░ ┌─┐         \n",
       "   q_0: ┤ X ├───────■──┤ X ├──────░─┤M├─────────\n",
       "        └───┘       │  └───┘      ░ └╥┘┌─┐      \n",
       "   q_1: ────────────┼─────────────░──╫─┤M├──────\n",
       "                    │             ░  ║ └╥┘┌─┐   \n",
       "   q_2: ────────────■─────────────░──╫──╫─┤M├───\n",
       "        ┌───┐┌───┐┌─┴─┐┌───┐┌───┐ ░  ║  ║ └╥┘┌─┐\n",
       "   q_3: ┤ X ├┤ H ├┤ X ├┤ H ├┤ X ├─░──╫──╫──╫─┤M├\n",
       "        └───┘└───┘└───┘└───┘└───┘ ░  ║  ║  ║ └╥┘\n",
       "meas: 4/═════════════════════════════╩══╩══╩══╩═\n",
       "                                     0  1  2  3 </pre>"
      ],
      "text/plain": [
       "        ┌───┐          ┌───┐      ░ ┌─┐         \n",
       "   q_0: ┤ X ├───────■──┤ X ├──────░─┤M├─────────\n",
       "        └───┘       │  └───┘      ░ └╥┘┌─┐      \n",
       "   q_1: ────────────┼─────────────░──╫─┤M├──────\n",
       "                    │             ░  ║ └╥┘┌─┐   \n",
       "   q_2: ────────────■─────────────░──╫──╫─┤M├───\n",
       "        ┌───┐┌───┐┌─┴─┐┌───┐┌───┐ ░  ║  ║ └╥┘┌─┐\n",
       "   q_3: ┤ X ├┤ H ├┤ X ├┤ H ├┤ X ├─░──╫──╫──╫─┤M├\n",
       "        └───┘└───┘└───┘└───┘└───┘ ░  ║  ║  ║ └╥┘\n",
       "meas: 4/═════════════════════════════╩══╩══╩══╩═\n",
       "                                     0  1  2  3 "
      ]
     },
     "execution_count": 21,
     "metadata": {},
     "output_type": "execute_result"
    }
   ],
   "source": [
    "qr, qc = t.circ(4)\n",
    "qc.compose(t.oracle_circuit('0.10'), qr, inplace=True)\n",
    "qc.measure_all()\n",
    "qc.draw()"
   ]
  },
  {
   "cell_type": "code",
   "execution_count": 22,
   "id": "ddabd85f",
   "metadata": {
    "ExecuteTime": {
     "end_time": "2021-12-10T12:08:23.670883Z",
     "start_time": "2021-12-10T12:08:08.566884Z"
    }
   },
   "outputs": [
    {
     "data": {
      "text/plain": [
       "<qiskit.providers.ibmq.managed.managedjobset.ManagedJobSet at 0x7f70509c2400>"
      ]
     },
     "execution_count": 22,
     "metadata": {},
     "output_type": "execute_result"
    }
   ],
   "source": [
    "t.job_set(qc)"
   ]
  },
  {
   "cell_type": "code",
   "execution_count": 23,
   "id": "92a9b5df",
   "metadata": {
    "ExecuteTime": {
     "end_time": "2021-12-10T12:08:57.396953Z",
     "start_time": "2021-12-10T12:08:57.380687Z"
    }
   },
   "outputs": [
    {
     "data": {
      "text/html": [
       "<pre style=\"word-wrap: normal;white-space: pre;background: #fff0;line-height: 1.1;font-family: &quot;Courier New&quot;,Courier,monospace\">        ┌───┐     ┌───┐ ░ ┌─┐            \n",
       "   q_0: ┤ X ├──■──┤ X ├─░─┤M├────────────\n",
       "        └───┘  │  └───┘ ░ └╥┘┌─┐         \n",
       "   q_1: ───────┼────────░──╫─┤M├─────────\n",
       "               │        ░  ║ └╥┘┌─┐      \n",
       "   q_2: ───────■────────░──╫──╫─┤M├──────\n",
       "        ┌───┐  │  ┌───┐ ░  ║  ║ └╥┘┌─┐   \n",
       "   q_3: ┤ X ├──■──┤ X ├─░──╫──╫──╫─┤M├───\n",
       "        └───┘┌─┴─┐└───┘ ░  ║  ║  ║ └╥┘┌─┐\n",
       "   q_4: ─────┤ X ├──────░──╫──╫──╫──╫─┤M├\n",
       "             └───┘      ░  ║  ║  ║  ║ └╥┘\n",
       "meas: 5/═══════════════════╩══╩══╩══╩══╩═\n",
       "                           0  1  2  3  4 </pre>"
      ],
      "text/plain": [
       "        ┌───┐     ┌───┐ ░ ┌─┐            \n",
       "   q_0: ┤ X ├──■──┤ X ├─░─┤M├────────────\n",
       "        └───┘  │  └───┘ ░ └╥┘┌─┐         \n",
       "   q_1: ───────┼────────░──╫─┤M├─────────\n",
       "               │        ░  ║ └╥┘┌─┐      \n",
       "   q_2: ───────■────────░──╫──╫─┤M├──────\n",
       "        ┌───┐  │  ┌───┐ ░  ║  ║ └╥┘┌─┐   \n",
       "   q_3: ┤ X ├──■──┤ X ├─░──╫──╫──╫─┤M├───\n",
       "        └───┘┌─┴─┐└───┘ ░  ║  ║  ║ └╥┘┌─┐\n",
       "   q_4: ─────┤ X ├──────░──╫──╫──╫──╫─┤M├\n",
       "             └───┘      ░  ║  ║  ║  ║ └╥┘\n",
       "meas: 5/═══════════════════╩══╩══╩══╩══╩═\n",
       "                           0  1  2  3  4 "
      ]
     },
     "execution_count": 23,
     "metadata": {},
     "output_type": "execute_result"
    }
   ],
   "source": [
    "qr, qc = t.circ(5)\n",
    "qc.compose(t.oracle_ancilla_circuit('0.10'), qr, inplace=True)\n",
    "qc.measure_all()\n",
    "qc.draw()"
   ]
  },
  {
   "cell_type": "code",
   "execution_count": 24,
   "id": "daa6abc4",
   "metadata": {
    "ExecuteTime": {
     "end_time": "2021-12-10T12:09:02.744164Z",
     "start_time": "2021-12-10T12:09:02.597923Z"
    }
   },
   "outputs": [
    {
     "data": {
      "text/plain": [
       "<qiskit.providers.ibmq.managed.managedjobset.ManagedJobSet at 0x7f70509c81f0>"
      ]
     },
     "execution_count": 24,
     "metadata": {},
     "output_type": "execute_result"
    }
   ],
   "source": [
    "t.job_set(qc)"
   ]
  },
  {
   "cell_type": "code",
   "execution_count": null,
   "id": "08a0b8ba",
   "metadata": {},
   "outputs": [],
   "source": []
  }
 ],
 "metadata": {
  "kernelspec": {
   "display_name": "Python 3 (ipykernel)",
   "language": "python",
   "name": "python3"
  },
  "language_info": {
   "codemirror_mode": {
    "name": "ipython",
    "version": 3
   },
   "file_extension": ".py",
   "mimetype": "text/x-python",
   "name": "python",
   "nbconvert_exporter": "python",
   "pygments_lexer": "ipython3",
   "version": "3.9.9"
  },
  "varInspector": {
   "cols": {
    "lenName": 16,
    "lenType": 16,
    "lenVar": 40
   },
   "kernels_config": {
    "python": {
     "delete_cmd_postfix": "",
     "delete_cmd_prefix": "del ",
     "library": "var_list.py",
     "varRefreshCmd": "print(var_dic_list())"
    },
    "r": {
     "delete_cmd_postfix": ") ",
     "delete_cmd_prefix": "rm(",
     "library": "var_list.r",
     "varRefreshCmd": "cat(var_dic_list()) "
    }
   },
   "types_to_exclude": [
    "module",
    "function",
    "builtin_function_or_method",
    "instance",
    "_Feature"
   ],
   "window_display": false
  }
 },
 "nbformat": 4,
 "nbformat_minor": 5
}
