{
 "cells": [
  {
   "cell_type": "code",
   "execution_count": 1,
   "id": "6d2aa698",
   "metadata": {
    "ExecuteTime": {
     "end_time": "2021-10-20T09:05:23.819723Z",
     "start_time": "2021-10-20T09:05:22.914661Z"
    }
   },
   "outputs": [],
   "source": [
    "import numpy as np\n",
    "\n",
    "import qiskit as qk\n",
    "\n",
    "import tools as t"
   ]
  },
  {
   "cell_type": "code",
   "execution_count": 2,
   "id": "2f20d608",
   "metadata": {
    "ExecuteTime": {
     "end_time": "2021-10-20T09:05:23.936308Z",
     "start_time": "2021-10-20T09:05:23.821095Z"
    }
   },
   "outputs": [
    {
     "name": "stdout",
     "output_type": "stream",
     "text": [
      "     ┌───┐\n",
      "q_0: ┤ H ├\n",
      "     ├───┤\n",
      "q_1: ┤ H ├\n",
      "     ├───┤\n",
      "q_2: ┤ H ├\n",
      "     └───┘\n",
      "{'111': 1057, '000': 1066, '110': 1067, '100': 1025, '101': 986, '010': 1030, '011': 999, '001': 962}\n",
      "{'0': 1066, '1': 962}\n",
      "{'0': 0.130126953125, '1': 0.117431640625}\n",
      "[0.13012695 0.11743164]\n",
      "0.4975526040028331\n"
     ]
    },
    {
     "data": {
      "text/plain": [
       "array([0.36073114+0.j, 0.342683  +0.j])"
      ]
     },
     "execution_count": 2,
     "metadata": {},
     "output_type": "execute_result"
    }
   ],
   "source": [
    "qc = qk.QuantumCircuit(3)\n",
    "qc.h([0, 1, 2])\n",
    "print(qc.draw())\n",
    "\n",
    "t.measure_substate(qc, 2, '00')"
   ]
  }
 ],
 "metadata": {
  "kernelspec": {
   "display_name": "Python 3 (ipykernel)",
   "language": "python",
   "name": "python3"
  },
  "language_info": {
   "codemirror_mode": {
    "name": "ipython",
    "version": 3
   },
   "file_extension": ".py",
   "mimetype": "text/x-python",
   "name": "python",
   "nbconvert_exporter": "python",
   "pygments_lexer": "ipython3",
   "version": "3.9.7"
  },
  "varInspector": {
   "cols": {
    "lenName": 16,
    "lenType": 16,
    "lenVar": 40
   },
   "kernels_config": {
    "python": {
     "delete_cmd_postfix": "",
     "delete_cmd_prefix": "del ",
     "library": "var_list.py",
     "varRefreshCmd": "print(var_dic_list())"
    },
    "r": {
     "delete_cmd_postfix": ") ",
     "delete_cmd_prefix": "rm(",
     "library": "var_list.r",
     "varRefreshCmd": "cat(var_dic_list()) "
    }
   },
   "types_to_exclude": [
    "module",
    "function",
    "builtin_function_or_method",
    "instance",
    "_Feature"
   ],
   "window_display": false
  }
 },
 "nbformat": 4,
 "nbformat_minor": 5
}
