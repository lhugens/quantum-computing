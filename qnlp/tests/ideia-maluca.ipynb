{
 "cells": [
  {
   "cell_type": "code",
   "execution_count": 17,
   "id": "599a41c3",
   "metadata": {
    "ExecuteTime": {
     "end_time": "2021-11-17T16:35:38.940756Z",
     "start_time": "2021-11-17T16:35:38.937889Z"
    }
   },
   "outputs": [],
   "source": [
    "import numpy as np\n",
    "from copy import deepcopy"
   ]
  },
  {
   "cell_type": "code",
   "execution_count": 2,
   "id": "be770bd6",
   "metadata": {
    "ExecuteTime": {
     "end_time": "2021-11-17T16:31:43.551149Z",
     "start_time": "2021-11-17T16:31:43.544960Z"
    }
   },
   "outputs": [
    {
     "name": "stdout",
     "output_type": "stream",
     "text": [
      "[[0.125 0.125 0.125 0.125 0.125 0.125 0.125 0.125]\n",
      " [0.125 0.125 0.125 0.125 0.125 0.125 0.125 0.125]\n",
      " [0.125 0.125 0.125 0.125 0.125 0.125 0.125 0.125]\n",
      " [0.125 0.125 0.125 0.125 0.125 0.125 0.125 0.125]\n",
      " [0.125 0.125 0.125 0.125 0.125 0.125 0.125 0.125]\n",
      " [0.125 0.125 0.125 0.125 0.125 0.125 0.125 0.125]\n",
      " [0.125 0.125 0.125 0.125 0.125 0.125 0.125 0.125]\n",
      " [0.125 0.125 0.125 0.125 0.125 0.125 0.125 0.125]]\n",
      "[[1. 0. 0. 0. 0. 0. 0. 0.]\n",
      " [0. 1. 0. 0. 0. 0. 0. 0.]\n",
      " [0. 0. 1. 0. 0. 0. 0. 0.]\n",
      " [0. 0. 0. 1. 0. 0. 0. 0.]\n",
      " [0. 0. 0. 0. 1. 0. 0. 0.]\n",
      " [0. 0. 0. 0. 0. 1. 0. 0.]\n",
      " [0. 0. 0. 0. 0. 0. 1. 0.]\n",
      " [0. 0. 0. 0. 0. 0. 0. 1.]]\n"
     ]
    }
   ],
   "source": [
    "Psi_proj = np.ones([8, 8])/8\n",
    "I = np.identity(8) \n",
    "print(Psi_proj)\n",
    "print(I)"
   ]
  },
  {
   "cell_type": "code",
   "execution_count": 5,
   "id": "2f021cac",
   "metadata": {
    "ExecuteTime": {
     "end_time": "2021-11-17T16:32:01.636258Z",
     "start_time": "2021-11-17T16:32:01.612398Z"
    }
   },
   "outputs": [
    {
     "data": {
      "text/plain": [
       "array([ 1., -1.,  1., -1.,  1., -1.,  1., -1.])"
      ]
     },
     "execution_count": 5,
     "metadata": {},
     "output_type": "execute_result"
    }
   ],
   "source": [
    "a = np.zeros(8)\n",
    "a[::2] = 1\n",
    "a[1::2] = -1\n",
    "a"
   ]
  },
  {
   "cell_type": "code",
   "execution_count": 6,
   "id": "f6e67e9c",
   "metadata": {
    "ExecuteTime": {
     "end_time": "2021-11-17T16:32:02.452487Z",
     "start_time": "2021-11-17T16:32:02.448478Z"
    }
   },
   "outputs": [
    {
     "name": "stdout",
     "output_type": "stream",
     "text": [
      "[[ 1.  0.  0.  0.  0.  0.  0.  0.]\n",
      " [ 0. -1.  0.  0.  0.  0.  0.  0.]\n",
      " [ 0.  0.  1.  0.  0.  0.  0.  0.]\n",
      " [ 0.  0.  0. -1.  0.  0.  0.  0.]\n",
      " [ 0.  0.  0.  0.  1.  0.  0.  0.]\n",
      " [ 0.  0.  0.  0.  0. -1.  0.  0.]\n",
      " [ 0.  0.  0.  0.  0.  0.  1.  0.]\n",
      " [ 0.  0.  0.  0.  0.  0.  0. -1.]]\n"
     ]
    }
   ],
   "source": [
    "Z = np.zeros((8, 8))\n",
    "np.fill_diagonal(Z, a)\n",
    "print(Z)"
   ]
  },
  {
   "cell_type": "code",
   "execution_count": 7,
   "id": "cdf02dfc",
   "metadata": {
    "ExecuteTime": {
     "end_time": "2021-11-17T16:32:36.708864Z",
     "start_time": "2021-11-17T16:32:36.651544Z"
    }
   },
   "outputs": [],
   "source": [
    "G = np.dot(2*Psi_proj - I, Z)"
   ]
  },
  {
   "cell_type": "code",
   "execution_count": 8,
   "id": "d422e6d0",
   "metadata": {
    "ExecuteTime": {
     "end_time": "2021-11-17T16:32:37.768204Z",
     "start_time": "2021-11-17T16:32:37.755709Z"
    }
   },
   "outputs": [
    {
     "data": {
      "text/plain": [
       "array([[-0.75, -0.25,  0.25, -0.25,  0.25, -0.25,  0.25, -0.25],\n",
       "       [ 0.25,  0.75,  0.25, -0.25,  0.25, -0.25,  0.25, -0.25],\n",
       "       [ 0.25, -0.25, -0.75, -0.25,  0.25, -0.25,  0.25, -0.25],\n",
       "       [ 0.25, -0.25,  0.25,  0.75,  0.25, -0.25,  0.25, -0.25],\n",
       "       [ 0.25, -0.25,  0.25, -0.25, -0.75, -0.25,  0.25, -0.25],\n",
       "       [ 0.25, -0.25,  0.25, -0.25,  0.25,  0.75,  0.25, -0.25],\n",
       "       [ 0.25, -0.25,  0.25, -0.25,  0.25, -0.25, -0.75, -0.25],\n",
       "       [ 0.25, -0.25,  0.25, -0.25,  0.25, -0.25,  0.25,  0.75]])"
      ]
     },
     "execution_count": 8,
     "metadata": {},
     "output_type": "execute_result"
    }
   ],
   "source": [
    "G"
   ]
  },
  {
   "cell_type": "code",
   "execution_count": 13,
   "id": "21022297",
   "metadata": {
    "ExecuteTime": {
     "end_time": "2021-11-17T16:33:55.196994Z",
     "start_time": "2021-11-17T16:33:55.193356Z"
    }
   },
   "outputs": [],
   "source": [
    "psi = np.array([ 1., 0., 1., 0.,  1., 0.,  0., 1.]) / 2"
   ]
  },
  {
   "cell_type": "code",
   "execution_count": 14,
   "id": "c4523742",
   "metadata": {
    "ExecuteTime": {
     "end_time": "2021-11-17T16:33:55.529016Z",
     "start_time": "2021-11-17T16:33:55.517659Z"
    }
   },
   "outputs": [
    {
     "data": {
      "text/plain": [
       "array([0.5, 0. , 0.5, 0. , 0.5, 0. , 0. , 0.5])"
      ]
     },
     "execution_count": 14,
     "metadata": {},
     "output_type": "execute_result"
    }
   ],
   "source": [
    "psi"
   ]
  },
  {
   "cell_type": "code",
   "execution_count": 19,
   "id": "465dd2f3",
   "metadata": {
    "ExecuteTime": {
     "end_time": "2021-11-17T16:36:34.765938Z",
     "start_time": "2021-11-17T16:36:34.756960Z"
    }
   },
   "outputs": [
    {
     "name": "stdout",
     "output_type": "stream",
     "text": [
      "0 [-0.25  0.25 -0.25  0.25 -0.25  0.25  0.25  0.75]\n",
      "1 [-0.25 -0.25 -0.25 -0.25 -0.25 -0.25 -0.75  0.25]\n",
      "2 [ 0.  -0.5  0.  -0.5  0.  -0.5  0.5  0. ]\n",
      "3 [0.5 0.  0.5 0.  0.5 0.  0.  0.5]\n",
      "4 [-0.25  0.25 -0.25  0.25 -0.25  0.25  0.25  0.75]\n",
      "5 [-0.25 -0.25 -0.25 -0.25 -0.25 -0.25 -0.75  0.25]\n",
      "6 [ 0.  -0.5  0.  -0.5  0.  -0.5  0.5  0. ]\n",
      "7 [0.5 0.  0.5 0.  0.5 0.  0.  0.5]\n",
      "8 [-0.25  0.25 -0.25  0.25 -0.25  0.25  0.25  0.75]\n",
      "9 [-0.25 -0.25 -0.25 -0.25 -0.25 -0.25 -0.75  0.25]\n"
     ]
    }
   ],
   "source": [
    "current_psi = deepcopy(psi)\n",
    "\n",
    "for i in range(10):\n",
    "    current_psi = np.dot(G, current_psi)\n",
    "    print(i, current_psi)"
   ]
  },
  {
   "cell_type": "code",
   "execution_count": 15,
   "id": "a97a58ab",
   "metadata": {
    "ExecuteTime": {
     "end_time": "2021-11-17T16:33:58.258324Z",
     "start_time": "2021-11-17T16:33:58.245871Z"
    }
   },
   "outputs": [
    {
     "data": {
      "text/plain": [
       "array([-0.25,  0.25, -0.25,  0.25, -0.25,  0.25,  0.25,  0.75])"
      ]
     },
     "execution_count": 15,
     "metadata": {},
     "output_type": "execute_result"
    }
   ],
   "source": [
    "np.dot(G, psi)"
   ]
  },
  {
   "cell_type": "code",
   "execution_count": 16,
   "id": "363fd5ad",
   "metadata": {
    "ExecuteTime": {
     "end_time": "2021-11-17T16:34:38.099960Z",
     "start_time": "2021-11-17T16:34:38.094495Z"
    }
   },
   "outputs": [
    {
     "data": {
      "text/plain": [
       "array([-0.25, -0.25, -0.25, -0.25, -0.25, -0.25, -0.75,  0.25])"
      ]
     },
     "execution_count": 16,
     "metadata": {},
     "output_type": "execute_result"
    }
   ],
   "source": [
    "np.dot(G, np.dot(G, psi))"
   ]
  },
  {
   "cell_type": "code",
   "execution_count": 20,
   "id": "c8616550",
   "metadata": {
    "ExecuteTime": {
     "end_time": "2021-11-17T16:38:10.726231Z",
     "start_time": "2021-11-17T16:38:10.717985Z"
    }
   },
   "outputs": [
    {
     "data": {
      "text/plain": [
       "0.5625"
      ]
     },
     "execution_count": 20,
     "metadata": {},
     "output_type": "execute_result"
    }
   ],
   "source": [
    "0.75**2"
   ]
  },
  {
   "cell_type": "code",
   "execution_count": 21,
   "id": "41e7e38e",
   "metadata": {
    "ExecuteTime": {
     "end_time": "2021-11-17T16:38:15.993321Z",
     "start_time": "2021-11-17T16:38:15.983852Z"
    }
   },
   "outputs": [
    {
     "data": {
      "text/plain": [
       "0.0625"
      ]
     },
     "execution_count": 21,
     "metadata": {},
     "output_type": "execute_result"
    }
   ],
   "source": [
    "0.25**2"
   ]
  },
  {
   "cell_type": "code",
   "execution_count": null,
   "id": "59d44907",
   "metadata": {},
   "outputs": [],
   "source": []
  }
 ],
 "metadata": {
  "kernelspec": {
   "display_name": "Python 3 (ipykernel)",
   "language": "python",
   "name": "python3"
  },
  "language_info": {
   "codemirror_mode": {
    "name": "ipython",
    "version": 3
   },
   "file_extension": ".py",
   "mimetype": "text/x-python",
   "name": "python",
   "nbconvert_exporter": "python",
   "pygments_lexer": "ipython3",
   "version": "3.9.7"
  },
  "varInspector": {
   "cols": {
    "lenName": 16,
    "lenType": 16,
    "lenVar": 40
   },
   "kernels_config": {
    "python": {
     "delete_cmd_postfix": "",
     "delete_cmd_prefix": "del ",
     "library": "var_list.py",
     "varRefreshCmd": "print(var_dic_list())"
    },
    "r": {
     "delete_cmd_postfix": ") ",
     "delete_cmd_prefix": "rm(",
     "library": "var_list.r",
     "varRefreshCmd": "cat(var_dic_list()) "
    }
   },
   "types_to_exclude": [
    "module",
    "function",
    "builtin_function_or_method",
    "instance",
    "_Feature"
   ],
   "window_display": false
  }
 },
 "nbformat": 4,
 "nbformat_minor": 5
}
