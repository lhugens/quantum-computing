{
 "cells": [
  {
   "cell_type": "code",
   "execution_count": 9,
   "id": "a2ea50ad",
   "metadata": {
    "ExecuteTime": {
     "end_time": "2021-12-08T19:08:57.059877Z",
     "start_time": "2021-12-08T19:08:57.052247Z"
    }
   },
   "outputs": [],
   "source": [
    "import qiskit as qk\n",
    "from qiskit.providers.ibmq.managed import IBMQJobManager"
   ]
  },
  {
   "cell_type": "code",
   "execution_count": 10,
   "id": "c5b8b5d6",
   "metadata": {
    "ExecuteTime": {
     "end_time": "2021-12-08T19:09:04.187636Z",
     "start_time": "2021-12-08T19:08:57.811979Z"
    }
   },
   "outputs": [
    {
     "name": "stderr",
     "output_type": "stream",
     "text": [
      "ibmqfactory.load_account:WARNING:2021-12-08 20:08:58,852: Credentials are already in use. The existing account in the session will be replaced.\n"
     ]
    }
   ],
   "source": [
    "provider = qk.IBMQ.load_account()\n",
    "# provider = qk.IBMQ.get_provider(hub='ibm-q')"
   ]
  },
  {
   "cell_type": "code",
   "execution_count": 11,
   "id": "c1ab4000",
   "metadata": {
    "ExecuteTime": {
     "end_time": "2021-12-08T19:09:05.647890Z",
     "start_time": "2021-12-08T19:09:05.642009Z"
    }
   },
   "outputs": [],
   "source": [
    "# see last jobs and retreive results\n",
    "job_manager = IBMQJobManager()\n",
    "job_set_id = 'f4db1967dca64005bb248898049743ef-16389803640987256'"
   ]
  },
  {
   "cell_type": "code",
   "execution_count": 12,
   "id": "c83590d2",
   "metadata": {
    "ExecuteTime": {
     "end_time": "2021-12-08T19:09:09.997982Z",
     "start_time": "2021-12-08T19:09:06.812371Z"
    }
   },
   "outputs": [
    {
     "name": "stderr",
     "output_type": "stream",
     "text": [
      "/home/hugens/devel/.venv/lib/python3.9/site-packages/qiskit/providers/ibmq/managed/managedjobset.py:195: DeprecationWarning: The ``IBMQJob.qobj()`` method is deprecated and will be removed in a future release. You can now pass circuits to ``IBMQBackend.run()`` and use ``IBMQJob.circuits()``, ``IBMQJob.backend_options()``, and ``IBMQJob.header()`` to retrieve circuits, run configuration, and Qobj header, respectively.\n",
      "  experiments_count=len(job.qobj().experiments),\n"
     ]
    }
   ],
   "source": [
    "retreived = job_manager.retrieve_job_set(job_set_id=job_set_id, provider=provider)"
   ]
  },
  {
   "cell_type": "code",
   "execution_count": 16,
   "id": "685d52c7",
   "metadata": {
    "ExecuteTime": {
     "end_time": "2021-12-08T19:09:57.485441Z",
     "start_time": "2021-12-08T19:09:57.468620Z"
    }
   },
   "outputs": [
    {
     "data": {
      "text/plain": [
       "{'00000': 163,\n",
       " '00001': 60,\n",
       " '10000': 33,\n",
       " '10001': 17,\n",
       " '10010': 20,\n",
       " '10011': 18,\n",
       " '10100': 25,\n",
       " '10101': 13,\n",
       " '10110': 22,\n",
       " '10111': 16,\n",
       " '11000': 21,\n",
       " '11001': 17,\n",
       " '11010': 13,\n",
       " '11011': 11,\n",
       " '11100': 11,\n",
       " '11101': 9,\n",
       " '11110': 22,\n",
       " '11111': 17,\n",
       " '00010': 46,\n",
       " '00011': 26,\n",
       " '00100': 61,\n",
       " '00101': 13,\n",
       " '00110': 24,\n",
       " '00111': 19,\n",
       " '01000': 89,\n",
       " '01001': 30,\n",
       " '01010': 67,\n",
       " '01011': 31,\n",
       " '01100': 37,\n",
       " '01101': 25,\n",
       " '01110': 25,\n",
       " '01111': 23}"
      ]
     },
     "execution_count": 16,
     "metadata": {},
     "output_type": "execute_result"
    }
   ],
   "source": [
    "retreived.results(0).get_counts(0)"
   ]
  },
  {
   "cell_type": "code",
   "execution_count": null,
   "id": "d2f1dbe9",
   "metadata": {},
   "outputs": [],
   "source": []
  }
 ],
 "metadata": {
  "kernelspec": {
   "display_name": "Python 3 (ipykernel)",
   "language": "python",
   "name": "python3"
  },
  "language_info": {
   "codemirror_mode": {
    "name": "ipython",
    "version": 3
   },
   "file_extension": ".py",
   "mimetype": "text/x-python",
   "name": "python",
   "nbconvert_exporter": "python",
   "pygments_lexer": "ipython3",
   "version": "3.9.9"
  },
  "varInspector": {
   "cols": {
    "lenName": 16,
    "lenType": 16,
    "lenVar": 40
   },
   "kernels_config": {
    "python": {
     "delete_cmd_postfix": "",
     "delete_cmd_prefix": "del ",
     "library": "var_list.py",
     "varRefreshCmd": "print(var_dic_list())"
    },
    "r": {
     "delete_cmd_postfix": ") ",
     "delete_cmd_prefix": "rm(",
     "library": "var_list.r",
     "varRefreshCmd": "cat(var_dic_list()) "
    }
   },
   "types_to_exclude": [
    "module",
    "function",
    "builtin_function_or_method",
    "instance",
    "_Feature"
   ],
   "window_display": false
  }
 },
 "nbformat": 4,
 "nbformat_minor": 5
}
