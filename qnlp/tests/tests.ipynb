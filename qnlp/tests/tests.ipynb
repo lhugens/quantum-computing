{
 "cells": [
  {
   "cell_type": "code",
   "execution_count": 1,
   "id": "d6da290f",
   "metadata": {
    "ExecuteTime": {
     "end_time": "2021-10-11T20:09:41.662831Z",
     "start_time": "2021-10-11T20:09:40.672128Z"
    }
   },
   "outputs": [],
   "source": [
    "from context import tools as t\n",
    "import qiskit as qk"
   ]
  },
  {
   "cell_type": "code",
   "execution_count": 2,
   "id": "abdb62b3",
   "metadata": {
    "ExecuteTime": {
     "end_time": "2021-10-11T20:09:41.673361Z",
     "start_time": "2021-10-11T20:09:41.664360Z"
    }
   },
   "outputs": [
    {
     "name": "stdout",
     "output_type": "stream",
     "text": [
      "[0.57735027 0.57735027 0.         0.57735027]\n",
      "                ┌─────────────────┐             ░ ┌─┐      \n",
      "q_0: ───────────┤ Initialize(1,0) ├─────────────░─┤M├──────\n",
      "     ┌──────────┴─────────────────┴───────────┐ ░ └╥┘┌─┐   \n",
      "q_1: ┤1                                       ├─░──╫─┤M├───\n",
      "     │  Initialize(0.57735,0.57735,0,0.57735) │ ░  ║ └╥┘┌─┐\n",
      "q_2: ┤0                                       ├─░──╫──╫─┤M├\n",
      "     └────────────────────────────────────────┘ ░  ║  ║ └╥┘\n",
      "c: 3/══════════════════════════════════════════════╩══╩══╩═\n",
      "                                                   0  1  2 \n"
     ]
    }
   ],
   "source": [
    "alligators = [1, 0]\n",
    "swim = t.normalize([1, 1, 0, 1])\n",
    "print(swim)\n",
    "\n",
    "qr = qk.QuantumRegister(3, 'q')\n",
    "cr = qk.ClassicalRegister(3, 'c')\n",
    "qc = qk.QuantumCircuit(qr, cr)\n",
    "\n",
    "qc.initialize(alligators, 0)\n",
    "qc.initialize(swim, [2, 1])\n",
    "\n",
    "qc.barrier()\n",
    "qc.measure(qr, cr)\n",
    "\n",
    "print(qc.draw())"
   ]
  },
  {
   "cell_type": "code",
   "execution_count": 3,
   "id": "b008ef5c",
   "metadata": {
    "ExecuteTime": {
     "end_time": "2021-10-11T20:09:41.764916Z",
     "start_time": "2021-10-11T20:09:41.674407Z"
    }
   },
   "outputs": [],
   "source": [
    "r = t.submit(qc)"
   ]
  },
  {
   "cell_type": "code",
   "execution_count": 4,
   "id": "ca319a03",
   "metadata": {
    "ExecuteTime": {
     "end_time": "2021-10-11T20:09:41.771929Z",
     "start_time": "2021-10-11T20:09:41.766710Z"
    }
   },
   "outputs": [
    {
     "data": {
      "text/plain": [
       "<qiskit.circuit.quantumcircuit.QuantumCircuit at 0x7fbe687d7040>"
      ]
     },
     "execution_count": 4,
     "metadata": {},
     "output_type": "execute_result"
    }
   ],
   "source": [
    "r.qc"
   ]
  },
  {
   "cell_type": "code",
   "execution_count": 5,
   "id": "75256ac6",
   "metadata": {
    "ExecuteTime": {
     "end_time": "2021-10-11T20:09:41.775333Z",
     "start_time": "2021-10-11T20:09:41.772830Z"
    }
   },
   "outputs": [
    {
     "data": {
      "text/plain": [
       "8192"
      ]
     },
     "execution_count": 5,
     "metadata": {},
     "output_type": "execute_result"
    }
   ],
   "source": [
    "r.shots"
   ]
  },
  {
   "cell_type": "code",
   "execution_count": 6,
   "id": "4a36573e",
   "metadata": {
    "ExecuteTime": {
     "end_time": "2021-10-11T20:09:41.779146Z",
     "start_time": "2021-10-11T20:09:41.776478Z"
    }
   },
   "outputs": [
    {
     "data": {
      "text/plain": [
       "False"
      ]
     },
     "execution_count": 6,
     "metadata": {},
     "output_type": "execute_result"
    }
   ],
   "source": [
    "r.ibm"
   ]
  },
  {
   "cell_type": "code",
   "execution_count": 7,
   "id": "6c2df400",
   "metadata": {
    "ExecuteTime": {
     "end_time": "2021-10-11T20:09:41.783716Z",
     "start_time": "2021-10-11T20:09:41.780304Z"
    }
   },
   "outputs": [
    {
     "data": {
      "text/plain": [
       "Result(backend_name='qasm_simulator', backend_version='0.8.2', qobj_id='176d9f5e-78e3-449b-8f4e-cc6ee679b1e1', job_id='9f1fddf2-78b4-42fa-8597-c64f74c0965b', success=True, results=[ExperimentResult(shots=8192, success=True, meas_level=2, data=ExperimentResultData(counts={'0x4': 2712, '0x6': 2730, '0x0': 2750}), header=QobjExperimentHeader(clbit_labels=[['c', 0], ['c', 1], ['c', 2]], creg_sizes=[['c', 3]], global_phase=0.0, memory_slots=3, metadata=None, n_qubits=3, name='circuit-3', qreg_sizes=[['q', 3]], qubit_labels=[['q', 0], ['q', 1], ['q', 2]]), status=DONE, seed_simulator=980982393, metadata={'parallel_shots': 8, 'parallel_state_update': 1, 'measure_sampling': False, 'method': 'statevector', 'fusion': {'applied': False, 'max_fused_qubits': 5, 'enabled': True, 'threshold': 14}}, time_taken=0.034526648)], date=2021-10-11T22:09:41.763383, status=COMPLETED, status=QobjHeader(backend_name='qasm_simulator', backend_version='0.8.2'), metadata={'time_taken': 0.034665692000000005, 'parallel_experiments': 1, 'omp_enabled': True, 'max_gpu_memory_mb': 0, 'num_mpi_processes': 1, 'max_memory_mb': 15812, 'mpi_rank': 0}, time_taken=0.034911155700683594)"
      ]
     },
     "execution_count": 7,
     "metadata": {},
     "output_type": "execute_result"
    }
   ],
   "source": [
    "r.job.result()"
   ]
  },
  {
   "cell_type": "code",
   "execution_count": 8,
   "id": "c628d355",
   "metadata": {
    "ExecuteTime": {
     "end_time": "2021-10-11T20:09:41.787202Z",
     "start_time": "2021-10-11T20:09:41.784640Z"
    }
   },
   "outputs": [
    {
     "data": {
      "text/plain": [
       "QasmSimulator('qasm_simulator')"
      ]
     },
     "execution_count": 8,
     "metadata": {},
     "output_type": "execute_result"
    }
   ],
   "source": [
    "r.backend"
   ]
  },
  {
   "cell_type": "code",
   "execution_count": 9,
   "id": "18bc5ca2",
   "metadata": {
    "ExecuteTime": {
     "end_time": "2021-10-11T20:09:41.790783Z",
     "start_time": "2021-10-11T20:09:41.788106Z"
    }
   },
   "outputs": [
    {
     "data": {
      "text/plain": [
       "{'001': 2712, '011': 2730, '000': 2750}"
      ]
     },
     "execution_count": 9,
     "metadata": {},
     "output_type": "execute_result"
    }
   ],
   "source": [
    "r.counts"
   ]
  },
  {
   "cell_type": "code",
   "execution_count": 10,
   "id": "bfa34a92",
   "metadata": {
    "ExecuteTime": {
     "end_time": "2021-10-11T20:09:41.919912Z",
     "start_time": "2021-10-11T20:09:41.792589Z"
    }
   },
   "outputs": [
    {
     "ename": "AttributeError",
     "evalue": "'submit' object has no attribute 'index_table0000'",
     "output_type": "error",
     "traceback": [
      "\u001b[0;31m---------------------------------------------------------------------------\u001b[0m",
      "\u001b[0;31mAttributeError\u001b[0m                            Traceback (most recent call last)",
      "\u001b[0;32m/tmp/ipykernel_69056/3182466943.py\u001b[0m in \u001b[0;36m<module>\u001b[0;34m\u001b[0m\n\u001b[0;32m----> 1\u001b[0;31m \u001b[0mr\u001b[0m\u001b[0;34m.\u001b[0m\u001b[0mindex_table0000\u001b[0m\u001b[0;34m\u001b[0m\u001b[0;34m\u001b[0m\u001b[0m\n\u001b[0m",
      "\u001b[0;31mAttributeError\u001b[0m: 'submit' object has no attribute 'index_table0000'"
     ]
    }
   ],
   "source": [
    "r.index_table0000"
   ]
  },
  {
   "cell_type": "code",
   "execution_count": null,
   "id": "1c5a0d44",
   "metadata": {
    "ExecuteTime": {
     "end_time": "2021-10-11T20:09:41.924564Z",
     "start_time": "2021-10-11T20:09:41.924554Z"
    }
   },
   "outputs": [],
   "source": [
    "# s = t.submit(qc, ibm=True)"
   ]
  },
  {
   "cell_type": "code",
   "execution_count": null,
   "id": "ab59404d",
   "metadata": {
    "ExecuteTime": {
     "end_time": "2021-10-11T20:09:41.925500Z",
     "start_time": "2021-10-11T20:09:41.925490Z"
    }
   },
   "outputs": [],
   "source": [
    "# s.backend"
   ]
  },
  {
   "cell_type": "code",
   "execution_count": null,
   "id": "2ee39469",
   "metadata": {
    "ExecuteTime": {
     "end_time": "2021-10-11T20:09:41.926220Z",
     "start_time": "2021-10-11T20:09:41.926208Z"
    }
   },
   "outputs": [],
   "source": [
    "# s.counts"
   ]
  }
 ],
 "metadata": {
  "kernelspec": {
   "display_name": "Python 3 (ipykernel)",
   "language": "python",
   "name": "python3"
  },
  "language_info": {
   "codemirror_mode": {
    "name": "ipython",
    "version": 3
   },
   "file_extension": ".py",
   "mimetype": "text/x-python",
   "name": "python",
   "nbconvert_exporter": "python",
   "pygments_lexer": "ipython3",
   "version": "3.9.7"
  },
  "varInspector": {
   "cols": {
    "lenName": 16,
    "lenType": 16,
    "lenVar": 40
   },
   "kernels_config": {
    "python": {
     "delete_cmd_postfix": "",
     "delete_cmd_prefix": "del ",
     "library": "var_list.py",
     "varRefreshCmd": "print(var_dic_list())"
    },
    "r": {
     "delete_cmd_postfix": ") ",
     "delete_cmd_prefix": "rm(",
     "library": "var_list.r",
     "varRefreshCmd": "cat(var_dic_list()) "
    }
   },
   "types_to_exclude": [
    "module",
    "function",
    "builtin_function_or_method",
    "instance",
    "_Feature"
   ],
   "window_display": false
  }
 },
 "nbformat": 4,
 "nbformat_minor": 5
}
