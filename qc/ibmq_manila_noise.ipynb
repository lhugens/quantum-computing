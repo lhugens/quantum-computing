{
 "cells": [
  {
   "cell_type": "markdown",
   "id": "7c815d4c",
   "metadata": {},
   "source": [
    "In this notebook I make a series of tests that give a rough ideia of the noise present in the `ibmq_manila` quantum computer."
   ]
  },
  {
   "cell_type": "markdown",
   "id": "ba7e89e1",
   "metadata": {},
   "source": [
    "# Imports"
   ]
  },
  {
   "cell_type": "code",
   "execution_count": 1,
   "id": "f89ccee9",
   "metadata": {
    "ExecuteTime": {
     "end_time": "2021-12-28T11:30:01.692089Z",
     "start_time": "2021-12-28T11:30:00.536181Z"
    }
   },
   "outputs": [],
   "source": [
    "from copy import deepcopy\n",
    "import numpy as np\n",
    "import matplotlib.pyplot as plt\n",
    "\n",
    "# Qiskit imports\n",
    "import qiskit\n",
    "from qiskit import IBMQ, Aer\n",
    "from qiskit import QuantumCircuit\n",
    "from qiskit import execute\n",
    "from qiskit.providers.aer import QasmSimulator\n",
    "from qiskit.circuit.library import MCMT\n",
    "import qiskit.tools.jupyter"
   ]
  },
  {
   "cell_type": "markdown",
   "id": "04270ee4",
   "metadata": {},
   "source": [
    "# Provider and backends"
   ]
  },
  {
   "cell_type": "code",
   "execution_count": 2,
   "id": "c8e8466e",
   "metadata": {
    "ExecuteTime": {
     "end_time": "2021-12-28T11:30:07.459408Z",
     "start_time": "2021-12-28T11:30:01.693315Z"
    }
   },
   "outputs": [],
   "source": [
    "IBMQ.load_account()\n",
    "provider = IBMQ.get_provider(hub='ibm-q')"
   ]
  },
  {
   "cell_type": "code",
   "execution_count": 3,
   "id": "aabae4f5",
   "metadata": {
    "ExecuteTime": {
     "end_time": "2021-12-28T11:30:08.781781Z",
     "start_time": "2021-12-28T11:30:07.462029Z"
    }
   },
   "outputs": [],
   "source": [
    "backend_sim = Aer.get_backend('qasm_simulator')\n",
    "backend_qc = provider.get_backend('ibmq_manila')\n",
    "backend_qc_sim = QasmSimulator.from_backend(backend_qc)"
   ]
  },
  {
   "cell_type": "markdown",
   "id": "e1a393d8",
   "metadata": {},
   "source": [
    "# Noise in ibmq_manila"
   ]
  },
  {
   "cell_type": "markdown",
   "id": "43f54cba",
   "metadata": {},
   "source": [
    "The test that is performed here is the following: given a circuit, we run it on `qasm_simulator` and from the counts dictionary that it returns we see what basis states are observed. After that, we run it on a quantum computer, and from the returned counts we determine the probability of measuring a basis state that is not measured in the simulator. \n",
    "\n",
    "These functions may seem unecessarily complicated for the gates we tested here, but they run fast and can be used in the same way for more complicated circuits."
   ]
  },
  {
   "cell_type": "code",
   "execution_count": 4,
   "id": "5561b4b2",
   "metadata": {
    "ExecuteTime": {
     "end_time": "2021-12-28T11:30:08.787452Z",
     "start_time": "2021-12-28T11:30:08.783209Z"
    }
   },
   "outputs": [],
   "source": [
    "def bit_index(s):\n",
    "    return int(s, 2)\n",
    "\n",
    "def prob_array(counts):\n",
    "    n_qubits = len(list(counts.keys())[0])\n",
    "    shots = sum(list(counts.values()))\n",
    "    probs = np.zeros(2**n_qubits)\n",
    "    \n",
    "    for key, value in counts.items():\n",
    "        probs[bit_index(key)] = value/shots\n",
    "    return probs\n",
    "\n",
    "def bit_error(qc, counts):\n",
    "    job_sim = execute(qc, backend=backend_sim, shots=20000)\n",
    "    counts_sim = job_sim.result().get_counts()\n",
    "    correct_basis_states = list(counts_sim.keys())\n",
    "    correct_ints = list(map(bit_index, correct_basis_states))\n",
    "    print(f'prob of bit error is {np.sum(np.delete(prob_array(counts), correct_ints))*100:.2f}%')"
   ]
  },
  {
   "cell_type": "code",
   "execution_count": 5,
   "id": "0ec39024",
   "metadata": {
    "ExecuteTime": {
     "end_time": "2021-12-28T11:30:12.016881Z",
     "start_time": "2021-12-28T11:30:08.788839Z"
    }
   },
   "outputs": [],
   "source": [
    "job = backend_qc.retrieve_job('61ca227273db89feab67596c')\n",
    "measure1_cs, measure2_cs, measure3_cs, measure4_cs, measure5_cs, t1_cs, t2_cs, t3_cs, t4_cs = job.result().get_counts()"
   ]
  },
  {
   "cell_type": "markdown",
   "id": "65760fa2",
   "metadata": {},
   "source": [
    "Measures only."
   ]
  },
  {
   "cell_type": "code",
   "execution_count": 6,
   "id": "d15bf945",
   "metadata": {
    "ExecuteTime": {
     "end_time": "2021-12-28T11:30:12.276500Z",
     "start_time": "2021-12-28T11:30:12.024210Z"
    }
   },
   "outputs": [
    {
     "data": {
      "image/png": "[encoded data removed]",
      "text/plain": [
       "<Figure size 237.279x144.48 with 1 Axes>"
      ]
     },
     "execution_count": 6,
     "metadata": {},
     "output_type": "execute_result"
    }
   ],
   "source": [
    "measure1 = QuantumCircuit(1)\n",
    "measure1.measure_all()\n",
    "measure1.draw()"
   ]
  },
  {
   "cell_type": "code",
   "execution_count": 7,
   "id": "bde9bc64",
   "metadata": {
    "ExecuteTime": {
     "end_time": "2021-12-28T11:30:12.614285Z",
     "start_time": "2021-12-28T11:30:12.277399Z"
    }
   },
   "outputs": [
    {
     "name": "stdout",
     "output_type": "stream",
     "text": [
      "prob of bit error is 3.19%\n"
     ]
    }
   ],
   "source": [
    "bit_error(measure1, measure1_cs)"
   ]
  },
  {
   "cell_type": "code",
   "execution_count": 8,
   "id": "4c390b10",
   "metadata": {
    "ExecuteTime": {
     "end_time": "2021-12-28T11:30:12.720927Z",
     "start_time": "2021-12-28T11:30:12.615618Z"
    }
   },
   "outputs": [
    {
     "data": {
      "image/png": "[encoded data removed]",
      "text/plain": [
       "<Figure size 297.479x204.68 with 1 Axes>"
      ]
     },
     "execution_count": 8,
     "metadata": {},
     "output_type": "execute_result"
    }
   ],
   "source": [
    "measure2 = QuantumCircuit(2)\n",
    "measure2.measure_all()\n",
    "measure2.draw()"
   ]
  },
  {
   "cell_type": "code",
   "execution_count": 9,
   "id": "91ff733b",
   "metadata": {
    "ExecuteTime": {
     "end_time": "2021-12-28T11:30:12.757515Z",
     "start_time": "2021-12-28T11:30:12.722417Z"
    }
   },
   "outputs": [
    {
     "name": "stdout",
     "output_type": "stream",
     "text": [
      "prob of bit error is 6.87%\n"
     ]
    }
   ],
   "source": [
    "bit_error(measure2, measure2_cs)"
   ]
  },
  {
   "cell_type": "code",
   "execution_count": 10,
   "id": "09a111bb",
   "metadata": {
    "ExecuteTime": {
     "end_time": "2021-12-28T11:30:12.874418Z",
     "start_time": "2021-12-28T11:30:12.759920Z"
    }
   },
   "outputs": [
    {
     "data": {
      "image/png": "[encoded data removed]",
      "text/plain": [
       "<Figure size 357.679x264.88 with 1 Axes>"
      ]
     },
     "execution_count": 10,
     "metadata": {},
     "output_type": "execute_result"
    }
   ],
   "source": [
    "measure3 = QuantumCircuit(3)\n",
    "measure3.measure_all()\n",
    "measure3.draw()"
   ]
  },
  {
   "cell_type": "code",
   "execution_count": 11,
   "id": "77b59387",
   "metadata": {
    "ExecuteTime": {
     "end_time": "2021-12-28T11:30:12.916599Z",
     "start_time": "2021-12-28T11:30:12.875290Z"
    }
   },
   "outputs": [
    {
     "name": "stdout",
     "output_type": "stream",
     "text": [
      "prob of bit error is 8.28%\n"
     ]
    }
   ],
   "source": [
    "bit_error(measure3, measure3_cs)"
   ]
  },
  {
   "cell_type": "code",
   "execution_count": 12,
   "id": "670ce306",
   "metadata": {
    "ExecuteTime": {
     "end_time": "2021-12-28T11:30:13.060623Z",
     "start_time": "2021-12-28T11:30:12.917903Z"
    }
   },
   "outputs": [
    {
     "data": {
      "image/png": "[encoded data removed]",
      "text/plain": [
       "<Figure size 417.879x325.08 with 1 Axes>"
      ]
     },
     "execution_count": 12,
     "metadata": {},
     "output_type": "execute_result"
    }
   ],
   "source": [
    "measure4 = QuantumCircuit(4)\n",
    "measure4.measure_all()\n",
    "measure4.draw()"
   ]
  },
  {
   "cell_type": "code",
   "execution_count": 13,
   "id": "c05db651",
   "metadata": {
    "ExecuteTime": {
     "end_time": "2021-12-28T11:30:13.110366Z",
     "start_time": "2021-12-28T11:30:13.062103Z"
    }
   },
   "outputs": [
    {
     "name": "stdout",
     "output_type": "stream",
     "text": [
      "prob of bit error is 9.33%\n"
     ]
    }
   ],
   "source": [
    "bit_error(measure4, measure4_cs)"
   ]
  },
  {
   "cell_type": "code",
   "execution_count": 14,
   "id": "924db741",
   "metadata": {
    "ExecuteTime": {
     "end_time": "2021-12-28T11:30:13.280486Z",
     "start_time": "2021-12-28T11:30:13.112028Z"
    }
   },
   "outputs": [
    {
     "data": {
      "image/png": "[encoded data removed]",
      "text/plain": [
       "<Figure size 478.079x385.28 with 1 Axes>"
      ]
     },
     "execution_count": 14,
     "metadata": {},
     "output_type": "execute_result"
    }
   ],
   "source": [
    "measure5 = QuantumCircuit(5)\n",
    "measure5.measure_all()\n",
    "measure5.draw()"
   ]
  },
  {
   "cell_type": "code",
   "execution_count": 15,
   "id": "420c5eb5",
   "metadata": {
    "ExecuteTime": {
     "end_time": "2021-12-28T11:30:13.339376Z",
     "start_time": "2021-12-28T11:30:13.281770Z"
    }
   },
   "outputs": [
    {
     "name": "stdout",
     "output_type": "stream",
     "text": [
      "prob of bit error is 9.60%\n"
     ]
    }
   ],
   "source": [
    "bit_error(measure5, measure5_cs)"
   ]
  },
  {
   "cell_type": "code",
   "execution_count": 16,
   "id": "1b91e1b9",
   "metadata": {
    "ExecuteTime": {
     "end_time": "2021-12-28T11:30:13.475684Z",
     "start_time": "2021-12-28T11:30:13.340431Z"
    }
   },
   "outputs": [
    {
     "data": {
      "image/png": "[encoded data removed]",
      "text/plain": [
       "<Figure size 357.679x204.68 with 1 Axes>"
      ]
     },
     "execution_count": 16,
     "metadata": {},
     "output_type": "execute_result"
    }
   ],
   "source": [
    "t1 = QuantumCircuit(2)\n",
    "t1.cx(0, 1)\n",
    "t1.measure_all()\n",
    "t1.draw()"
   ]
  },
  {
   "cell_type": "code",
   "execution_count": 17,
   "id": "298bcd9b",
   "metadata": {
    "ExecuteTime": {
     "end_time": "2021-12-28T11:30:13.513605Z",
     "start_time": "2021-12-28T11:30:13.477931Z"
    }
   },
   "outputs": [
    {
     "name": "stdout",
     "output_type": "stream",
     "text": [
      "prob of bit error is 6.75%\n"
     ]
    }
   ],
   "source": [
    "bit_error(t1, t1_cs)"
   ]
  },
  {
   "cell_type": "code",
   "execution_count": 18,
   "id": "ddfe8d02",
   "metadata": {
    "ExecuteTime": {
     "end_time": "2021-12-28T11:30:13.646055Z",
     "start_time": "2021-12-28T11:30:13.515347Z"
    }
   },
   "outputs": [
    {
     "data": {
      "image/png": "[encoded data removed]",
      "text/plain": [
       "<Figure size 417.879x264.88 with 1 Axes>"
      ]
     },
     "execution_count": 18,
     "metadata": {},
     "output_type": "execute_result"
    }
   ],
   "source": [
    "t2 = QuantumCircuit(3)\n",
    "t2.compose(MCMT('x', 2, 1), inplace=True)\n",
    "t2.measure_all()\n",
    "t2.draw()"
   ]
  },
  {
   "cell_type": "code",
   "execution_count": 19,
   "id": "a3bbdde4",
   "metadata": {
    "ExecuteTime": {
     "end_time": "2021-12-28T11:30:13.683062Z",
     "start_time": "2021-12-28T11:30:13.647470Z"
    }
   },
   "outputs": [
    {
     "name": "stdout",
     "output_type": "stream",
     "text": [
      "prob of bit error is 16.98%\n"
     ]
    }
   ],
   "source": [
    "bit_error(t2, t2_cs)"
   ]
  },
  {
   "cell_type": "code",
   "execution_count": 20,
   "id": "65334d6d",
   "metadata": {
    "ExecuteTime": {
     "end_time": "2021-12-28T11:30:13.963506Z",
     "start_time": "2021-12-28T11:30:13.684157Z"
    }
   },
   "outputs": [
    {
     "data": {
      "image/png": "[encoded data removed]",
      "text/plain": [
       "<Figure size 478.079x325.08 with 1 Axes>"
      ]
     },
     "execution_count": 20,
     "metadata": {},
     "output_type": "execute_result"
    }
   ],
   "source": [
    "t3 = QuantumCircuit(4)\n",
    "t3.compose(MCMT('x', 3, 1), inplace=True)\n",
    "t3.measure_all()\n",
    "t3.draw()"
   ]
  },
  {
   "cell_type": "code",
   "execution_count": 21,
   "id": "e16f7128",
   "metadata": {
    "ExecuteTime": {
     "end_time": "2021-12-28T11:30:14.016024Z",
     "start_time": "2021-12-28T11:30:13.965724Z"
    }
   },
   "outputs": [
    {
     "name": "stdout",
     "output_type": "stream",
     "text": [
      "prob of bit error is 29.05%\n"
     ]
    }
   ],
   "source": [
    "bit_error(t3, t3_cs)"
   ]
  },
  {
   "cell_type": "code",
   "execution_count": 22,
   "id": "bab0efed",
   "metadata": {
    "ExecuteTime": {
     "end_time": "2021-12-28T11:30:14.204312Z",
     "start_time": "2021-12-28T11:30:14.017214Z"
    }
   },
   "outputs": [
    {
     "data": {
      "image/png": "[encoded data removed]",
      "text/plain": [
       "<Figure size 538.279x385.28 with 1 Axes>"
      ]
     },
     "execution_count": 22,
     "metadata": {},
     "output_type": "execute_result"
    }
   ],
   "source": [
    "t4 = QuantumCircuit(5)\n",
    "t4.compose(MCMT('x', 4, 1), inplace=True)\n",
    "t4.measure_all()\n",
    "t4.draw()"
   ]
  },
  {
   "cell_type": "code",
   "execution_count": 23,
   "id": "cd5ff23c",
   "metadata": {
    "ExecuteTime": {
     "end_time": "2021-12-28T11:30:14.245725Z",
     "start_time": "2021-12-28T11:30:14.205658Z"
    }
   },
   "outputs": [
    {
     "name": "stdout",
     "output_type": "stream",
     "text": [
      "prob of bit error is 77.15%\n"
     ]
    }
   ],
   "source": [
    "bit_error(t4, t4_cs)"
   ]
  },
  {
   "cell_type": "code",
   "execution_count": 24,
   "id": "9045943a",
   "metadata": {
    "ExecuteTime": {
     "end_time": "2021-12-28T11:30:14.252149Z",
     "start_time": "2021-12-28T11:30:14.246818Z"
    }
   },
   "outputs": [
    {
     "data": {
      "text/html": [
       "<h3>Version Information</h3><table><tr><th>Qiskit Software</th><th>Version</th></tr><tr><td><code>qiskit-terra</code></td><td>0.19.1</td></tr><tr><td><code>qiskit-aer</code></td><td>0.10.1</td></tr><tr><td><code>qiskit-ignis</code></td><td>0.7.0</td></tr><tr><td><code>qiskit-ibmq-provider</code></td><td>0.18.3</td></tr><tr><td><code>qiskit</code></td><td>0.34.0</td></tr><tr><th>System information</th></tr><tr><td>Python version</td><td>3.9.9</td></tr><tr><td>Python compiler</td><td>GCC 11.1.0</td></tr><tr><td>Python build</td><td>main, Dec 22 2021 12:20:33</td></tr><tr><td>OS</td><td>Linux</td></tr><tr><td>CPUs</td><td>4</td></tr><tr><td>Memory (Gb)</td><td>15.44140625</td></tr><tr><td colspan='2'>Tue Dec 28 12:30:14 2021 +01</td></tr></table>"
      ],
      "text/plain": [
       "<IPython.core.display.HTML object>"
      ]
     },
     "metadata": {},
     "output_type": "display_data"
    }
   ],
   "source": [
    "%qiskit_version_table"
   ]
  }
 ],
 "metadata": {
  "kernelspec": {
   "display_name": "Python 3 (ipykernel)",
   "language": "python",
   "name": "python3"
  },
  "language_info": {
   "codemirror_mode": {
    "name": "ipython",
    "version": 3
   },
   "file_extension": ".py",
   "mimetype": "text/x-python",
   "name": "python",
   "nbconvert_exporter": "python",
   "pygments_lexer": "ipython3",
   "version": "3.9.9"
  },
  "varInspector": {
   "cols": {
    "lenName": 16,
    "lenType": 16,
    "lenVar": 40
   },
   "kernels_config": {
    "python": {
     "delete_cmd_postfix": "",
     "delete_cmd_prefix": "del ",
     "library": "var_list.py",
     "varRefreshCmd": "print(var_dic_list())"
    },
    "r": {
     "delete_cmd_postfix": ") ",
     "delete_cmd_prefix": "rm(",
     "library": "var_list.r",
     "varRefreshCmd": "cat(var_dic_list()) "
    }
   },
   "types_to_exclude": [
    "module",
    "function",
    "builtin_function_or_method",
    "instance",
    "_Feature"
   ],
   "window_display": false
  }
 },
 "nbformat": 4,
 "nbformat_minor": 5
}
