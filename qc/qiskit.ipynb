{
 "cells": [
  {
   "cell_type": "markdown",
   "id": "7c2dbe58",
   "metadata": {},
   "source": [
    "# Imports"
   ]
  },
  {
   "cell_type": "code",
   "execution_count": 1,
   "id": "1eed0ed0",
   "metadata": {
    "ExecuteTime": {
     "end_time": "2021-12-27T17:49:31.315779Z",
     "start_time": "2021-12-27T17:49:30.251284Z"
    }
   },
   "outputs": [],
   "source": [
    "# To install Qiskit, uncomment and run the line below\n",
    "# !pip install -r requirements.txt --quiet\n",
    "\n",
    "# If you haven't used your IBMQ account yet, load it using your TOKEN:\n",
    "# IBMQ.save_account(TOKEN)\n",
    "\n",
    "# Qiskit imports\n",
    "import qiskit\n",
    "from qiskit import IBMQ, Aer\n",
    "from qiskit import QuantumCircuit, execute\n",
    "from qiskit.providers.aer import QasmSimulator\n",
    "from qiskit.tools.monitor import job_monitor\n",
    "import qiskit.tools.jupyter"
   ]
  },
  {
   "cell_type": "markdown",
   "id": "501e804e",
   "metadata": {},
   "source": [
    "# Load provider"
   ]
  },
  {
   "cell_type": "code",
   "execution_count": 2,
   "id": "b1c34a74",
   "metadata": {
    "ExecuteTime": {
     "end_time": "2021-12-27T17:49:39.581852Z",
     "start_time": "2021-12-27T17:49:33.322303Z"
    }
   },
   "outputs": [],
   "source": [
    "IBMQ.load_account()\n",
    "provider = IBMQ.get_provider(hub='ibm-q')"
   ]
  },
  {
   "cell_type": "markdown",
   "id": "7841ea11",
   "metadata": {},
   "source": [
    "# Backends"
   ]
  },
  {
   "cell_type": "markdown",
   "id": "bc40e03b",
   "metadata": {},
   "source": [
    "List available backends (quantum computers and simulators) "
   ]
  },
  {
   "cell_type": "code",
   "execution_count": 3,
   "id": "cad12792",
   "metadata": {
    "ExecuteTime": {
     "end_time": "2021-12-27T16:52:16.470959Z",
     "start_time": "2021-12-27T16:52:16.464824Z"
    }
   },
   "outputs": [
    {
     "name": "stdout",
     "output_type": "stream",
     "text": [
      "ibmq_qasm_simulator\n",
      "ibmq_armonk\n",
      "ibmq_santiago\n",
      "ibmq_bogota\n",
      "ibmq_lima\n",
      "ibmq_belem\n",
      "ibmq_quito\n",
      "simulator_statevector\n",
      "simulator_mps\n",
      "simulator_extended_stabilizer\n",
      "simulator_stabilizer\n",
      "ibmq_manila\n"
     ]
    }
   ],
   "source": [
    "for backend in provider.backends():\n",
    "    print(backend)"
   ]
  },
  {
   "cell_type": "markdown",
   "id": "e33fde3b",
   "metadata": {},
   "source": [
    "Get some useful information about each backend"
   ]
  },
  {
   "cell_type": "code",
   "execution_count": 4,
   "id": "aafeb8ad",
   "metadata": {
    "ExecuteTime": {
     "end_time": "2021-12-27T16:52:23.912820Z",
     "start_time": "2021-12-27T16:52:16.473474Z"
    }
   },
   "outputs": [
    {
     "name": "stdout",
     "output_type": "stream",
     "text": [
      "name                          max_jobs max_experiments max_shots num_qubits\n",
      "ibmq_qasm_simulator                  5             300     20000         32\n",
      "ibmq_armonk                          5             100     20000          1\n",
      "ibmq_santiago                        5             100     20000          5\n",
      "ibmq_bogota                          5             100     20000          5\n",
      "ibmq_lima                            5             100     20000          5\n",
      "ibmq_belem                           5             100     20000          5\n",
      "ibmq_quito                           5             100     20000          5\n",
      "simulator_statevector                5             300     20000         32\n",
      "simulator_mps                        5             300     20000        100\n",
      "simulator_extended_stabilizer        5             300     20000         63\n",
      "simulator_stabilizer                 5             300     20000       5000\n",
      "ibmq_manila                          5             100     20000          5\n"
     ]
    }
   ],
   "source": [
    "l = ['name', 'max_jobs', 'max_experiments', 'max_shots', 'num_qubits']\n",
    "print(f'{l[0]: <29} {l[1]: >8} {l[2]: >2} {l[3]: >3} {l[4]: >3}')\n",
    "\n",
    "for b in provider.backends():\n",
    "    c = b.configuration()\n",
    "    print(f'{c.backend_name: <29} {b.job_limit().maximum_jobs: >8} {c.max_experiments: >15} {c.max_shots: >9} {c.num_qubits: >10}')"
   ]
  },
  {
   "cell_type": "markdown",
   "id": "4ef2f8c1",
   "metadata": {},
   "source": [
    "Instanciate a few backends"
   ]
  },
  {
   "cell_type": "code",
   "execution_count": 5,
   "id": "827a64d2",
   "metadata": {
    "ExecuteTime": {
     "end_time": "2021-12-27T16:52:25.146289Z",
     "start_time": "2021-12-27T16:52:23.918931Z"
    }
   },
   "outputs": [],
   "source": [
    "backend_sim = Aer.get_backend('qasm_simulator')\n",
    "backend_qc = provider.get_backend('ibmq_manila')\n",
    "backend_qc_sim = QasmSimulator.from_backend(backend_qc)"
   ]
  },
  {
   "cell_type": "markdown",
   "id": "c2d1343f",
   "metadata": {},
   "source": [
    "# Create a circuit and run it"
   ]
  },
  {
   "cell_type": "code",
   "execution_count": 6,
   "id": "5fc87c1d",
   "metadata": {
    "ExecuteTime": {
     "end_time": "2021-12-27T16:52:25.358227Z",
     "start_time": "2021-12-27T16:52:25.147465Z"
    }
   },
   "outputs": [
    {
     "data": {
      "image/png": "[encoded data removed]",
      "text/plain": [
       "<Figure size 417.879x204.68 with 1 Axes>"
      ]
     },
     "execution_count": 6,
     "metadata": {},
     "output_type": "execute_result"
    }
   ],
   "source": [
    "qc = QuantumCircuit(2)\n",
    "qc.h(0)\n",
    "qc.x(1)\n",
    "qc.swap(0, 1)\n",
    "qc.measure_all()\n",
    "qc.draw()"
   ]
  },
  {
   "cell_type": "markdown",
   "id": "64b599f9",
   "metadata": {},
   "source": [
    "Let's run this circuit on ibm `ibmq_qasm_simulator`"
   ]
  },
  {
   "cell_type": "code",
   "execution_count": 7,
   "id": "2538d7fb",
   "metadata": {
    "ExecuteTime": {
     "end_time": "2021-12-27T16:52:25.684833Z",
     "start_time": "2021-12-27T16:52:25.359802Z"
    }
   },
   "outputs": [
    {
     "name": "stdout",
     "output_type": "stream",
     "text": [
      "{'01': 4118, '11': 4074}\n"
     ]
    }
   ],
   "source": [
    "job = execute(qc, backend=backend_sim, shots=8192)\n",
    "print(job.result().get_counts())"
   ]
  },
  {
   "cell_type": "markdown",
   "id": "bc199178",
   "metadata": {},
   "source": [
    "Now let's run it on an actual quantum computer, `ibmq_manila`"
   ]
  },
  {
   "cell_type": "code",
   "execution_count": 45,
   "id": "1d5d9bec",
   "metadata": {
    "ExecuteTime": {
     "end_time": "2021-12-27T17:32:57.812368Z",
     "start_time": "2021-12-27T17:32:57.801331Z"
    }
   },
   "outputs": [
    {
     "name": "stdout",
     "output_type": "stream",
     "text": [
      "job id is 61c9edec3b5b8475101034f3\n"
     ]
    }
   ],
   "source": [
    "job = execute(qc, backend=backend_qc, shots=20000)\n",
    "print(f'job id is {job.job_id()}')"
   ]
  },
  {
   "cell_type": "markdown",
   "id": "fb99f852",
   "metadata": {},
   "source": [
    "Check the job's status"
   ]
  },
  {
   "cell_type": "code",
   "execution_count": 14,
   "id": "25a1644d",
   "metadata": {
    "ExecuteTime": {
     "end_time": "2021-12-27T17:00:56.789520Z",
     "start_time": "2021-12-27T17:00:56.775794Z"
    }
   },
   "outputs": [
    {
     "data": {
      "text/plain": [
       "<JobStatus.DONE: 'job has successfully run'>"
      ]
     },
     "execution_count": 14,
     "metadata": {},
     "output_type": "execute_result"
    }
   ],
   "source": [
    "job.status()"
   ]
  },
  {
   "cell_type": "markdown",
   "id": "d16c40c1",
   "metadata": {},
   "source": [
    "Check the job's place in the queue"
   ]
  },
  {
   "cell_type": "code",
   "execution_count": 9,
   "id": "b3aaf253",
   "metadata": {
    "ExecuteTime": {
     "end_time": "2021-12-27T16:52:25.694773Z",
     "start_time": "2021-12-27T16:52:25.691744Z"
    }
   },
   "outputs": [],
   "source": [
    "job_monitor(job)"
   ]
  },
  {
   "cell_type": "markdown",
   "id": "85854e44",
   "metadata": {},
   "source": [
    "As the notebook becomes unusable if we call certain job functions that halt if the job hasn't run yet, such as `job_monitor(job)` and `job.result()`, it may be more useful to not run them, check the job status with `job.status()`, and later retrieve the job using its id `job.job_id()`:"
   ]
  },
  {
   "cell_type": "code",
   "execution_count": 44,
   "id": "d1748a14",
   "metadata": {
    "ExecuteTime": {
     "end_time": "2021-12-27T17:32:55.359186Z",
     "start_time": "2021-12-27T17:32:54.445741Z"
    }
   },
   "outputs": [],
   "source": [
    "# job = backend_qc.retrieve_job('61c9edec3b5b8475101034f3')"
   ]
  },
  {
   "cell_type": "markdown",
   "id": "dada5c49",
   "metadata": {},
   "source": [
    "Get results"
   ]
  },
  {
   "cell_type": "code",
   "execution_count": 46,
   "id": "cf43325d",
   "metadata": {
    "ExecuteTime": {
     "end_time": "2021-12-27T17:33:09.791315Z",
     "start_time": "2021-12-27T17:33:07.485836Z"
    }
   },
   "outputs": [
    {
     "name": "stdout",
     "output_type": "stream",
     "text": [
      "{'00': 486, '01': 8572, '10': 494, '11': 10448}\n"
     ]
    }
   ],
   "source": [
    "print(job.result().get_counts())"
   ]
  },
  {
   "cell_type": "markdown",
   "id": "f64aedfd",
   "metadata": {},
   "source": [
    "# Bit ordering"
   ]
  },
  {
   "cell_type": "markdown",
   "id": "591e841d",
   "metadata": {},
   "source": [
    "The counts results we get using `job.result().get_counts()` use the least significant bit (LSB) convention, meaning that the bottom-most qubit comes first in the bit string. Let's simulate a circuit that illustrates this ordering. "
   ]
  },
  {
   "cell_type": "code",
   "execution_count": 12,
   "id": "b37e9ded",
   "metadata": {
    "ExecuteTime": {
     "end_time": "2021-12-27T16:57:46.311317Z",
     "start_time": "2021-12-27T16:57:46.156669Z"
    }
   },
   "outputs": [
    {
     "data": {
      "image/png": "[encoded data removed]",
      "text/plain": [
       "<Figure size 357.679x204.68 with 1 Axes>"
      ]
     },
     "execution_count": 12,
     "metadata": {},
     "output_type": "execute_result"
    }
   ],
   "source": [
    "qc = QuantumCircuit(2)\n",
    "qc.x(1)\n",
    "qc.measure_all()\n",
    "qc.draw()"
   ]
  },
  {
   "cell_type": "code",
   "execution_count": 13,
   "id": "26e477f3",
   "metadata": {
    "ExecuteTime": {
     "end_time": "2021-12-27T16:58:18.573394Z",
     "start_time": "2021-12-27T16:58:18.541125Z"
    }
   },
   "outputs": [
    {
     "name": "stdout",
     "output_type": "stream",
     "text": [
      "{'10': 1024}\n"
     ]
    }
   ],
   "source": [
    "job = execute(qc, backend=backend_sim)\n",
    "print(job.result().get_counts())"
   ]
  },
  {
   "cell_type": "markdown",
   "id": "360a2006",
   "metadata": {},
   "source": [
    "As we can see in the above result, the bottom-most qubit, $q_{1}$, comes first in the result string '10'."
   ]
  },
  {
   "cell_type": "markdown",
   "id": "d8112285",
   "metadata": {},
   "source": [
    "This also needs to be taken into account when using the `initialize` function. To demonstrate this, let's initialize the state |01>, i.e. $q_{0} = 0$ and $q_{1} = 1$, using this function."
   ]
  },
  {
   "cell_type": "code",
   "execution_count": 39,
   "id": "664729b8",
   "metadata": {
    "ExecuteTime": {
     "end_time": "2021-12-27T17:19:48.888799Z",
     "start_time": "2021-12-27T17:19:48.741081Z"
    }
   },
   "outputs": [
    {
     "data": {
      "image/png": "[encoded data removed]",
      "text/plain": [
       "<Figure size 417.879x204.68 with 1 Axes>"
      ]
     },
     "execution_count": 39,
     "metadata": {},
     "output_type": "execute_result"
    }
   ],
   "source": [
    "qc = QuantumCircuit(2)\n",
    "\n",
    "# we want the state |01>, which is the number 1 in binary\n",
    "state = [0, 1, 0, 0]\n",
    "\n",
    "# we need to reverse the order of the bits to be initialized\n",
    "qc.initialize(state, [1, 0])\n",
    "qc.measure_all()\n",
    "qc.draw()"
   ]
  },
  {
   "cell_type": "code",
   "execution_count": 40,
   "id": "2a63a00f",
   "metadata": {
    "ExecuteTime": {
     "end_time": "2021-12-27T17:19:49.454004Z",
     "start_time": "2021-12-27T17:19:49.426684Z"
    }
   },
   "outputs": [
    {
     "name": "stdout",
     "output_type": "stream",
     "text": [
      "{'10': 1024}\n"
     ]
    }
   ],
   "source": [
    "job = execute(qc, backend=backend_sim)\n",
    "print(job.result().get_counts())"
   ]
  },
  {
   "cell_type": "markdown",
   "id": "1c16d2e2",
   "metadata": {},
   "source": [
    "We see that in order to get the expected result, in the LSB convention, we needed to reverse the order of the bits to be initialized using `[1, 0]` as argument of `initialize`."
   ]
  },
  {
   "cell_type": "code",
   "execution_count": 11,
   "id": "1f0f0030",
   "metadata": {
    "ExecuteTime": {
     "end_time": "2021-12-27T16:52:25.708704Z",
     "start_time": "2021-12-27T16:52:25.702035Z"
    }
   },
   "outputs": [
    {
     "data": {
      "text/html": [
       "<h3>Version Information</h3><table><tr><th>Qiskit Software</th><th>Version</th></tr><tr><td><code>qiskit-terra</code></td><td>0.19.1</td></tr><tr><td><code>qiskit-aer</code></td><td>0.10.1</td></tr><tr><td><code>qiskit-ignis</code></td><td>0.7.0</td></tr><tr><td><code>qiskit-ibmq-provider</code></td><td>0.18.3</td></tr><tr><td><code>qiskit</code></td><td>0.34.0</td></tr><tr><th>System information</th></tr><tr><td>Python version</td><td>3.9.9</td></tr><tr><td>Python compiler</td><td>GCC 11.1.0</td></tr><tr><td>Python build</td><td>main, Dec 22 2021 12:20:33</td></tr><tr><td>OS</td><td>Linux</td></tr><tr><td>CPUs</td><td>4</td></tr><tr><td>Memory (Gb)</td><td>15.44140625</td></tr><tr><td colspan='2'>Mon Dec 27 17:52:25 2021 +01</td></tr></table>"
      ],
      "text/plain": [
       "<IPython.core.display.HTML object>"
      ]
     },
     "metadata": {},
     "output_type": "display_data"
    }
   ],
   "source": [
    "%qiskit_version_table"
   ]
  }
 ],
 "metadata": {
  "kernelspec": {
   "display_name": "Python 3 (ipykernel)",
   "language": "python",
   "name": "python3"
  },
  "language_info": {
   "codemirror_mode": {
    "name": "ipython",
    "version": 3
   },
   "file_extension": ".py",
   "mimetype": "text/x-python",
   "name": "python",
   "nbconvert_exporter": "python",
   "pygments_lexer": "ipython3",
   "version": "3.9.9"
  },
  "varInspector": {
   "cols": {
    "lenName": 16,
    "lenType": 16,
    "lenVar": 40
   },
   "kernels_config": {
    "python": {
     "delete_cmd_postfix": "",
     "delete_cmd_prefix": "del ",
     "library": "var_list.py",
     "varRefreshCmd": "print(var_dic_list())"
    },
    "r": {
     "delete_cmd_postfix": ") ",
     "delete_cmd_prefix": "rm(",
     "library": "var_list.r",
     "varRefreshCmd": "cat(var_dic_list()) "
    }
   },
   "types_to_exclude": [
    "module",
    "function",
    "builtin_function_or_method",
    "instance",
    "_Feature"
   ],
   "window_display": false
  }
 },
 "nbformat": 4,
 "nbformat_minor": 5
}
