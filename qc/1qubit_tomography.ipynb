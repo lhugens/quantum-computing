{
 "cells": [
  {
   "cell_type": "markdown",
   "id": "7c815d4c",
   "metadata": {},
   "source": [
    "The work presented in this notebook is based on this discussion: https://quantumcomputing.stackexchange.com/questions/13051/how-is-it-possible-to-guess-what-state-the-qubit-was-in-by-measuring-it/13055#13055 ."
   ]
  },
  {
   "cell_type": "markdown",
   "id": "ba7e89e1",
   "metadata": {},
   "source": [
    "# Imports"
   ]
  },
  {
   "cell_type": "code",
   "execution_count": 1,
   "id": "f89ccee9",
   "metadata": {
    "ExecuteTime": {
     "end_time": "2021-12-28T16:37:57.677833Z",
     "start_time": "2021-12-28T16:37:56.535480Z"
    }
   },
   "outputs": [],
   "source": [
    "# To install Qiskit, uncomment and run the line below\n",
    "# !pip install -r requirements.txt --quiet\n",
    "\n",
    "# If you haven't used your IBMQ account yet, load it using your TOKEN:\n",
    "# IBMQ.save_account(TOKEN)\n",
    "\n",
    "from copy import deepcopy\n",
    "import numpy as np\n",
    "import matplotlib.pyplot as plt\n",
    "\n",
    "# Qiskit imports\n",
    "import qiskit\n",
    "from qiskit import IBMQ, Aer\n",
    "from qiskit import QuantumRegister, ClassicalRegister, QuantumCircuit\n",
    "from qiskit import execute\n",
    "from qiskit.quantum_info.operators import Operator\n",
    "from qiskit.transpiler.passes import RemoveBarriers\n",
    "from qiskit.providers.aer import QasmSimulator\n",
    "from qiskit.tools.monitor import job_monitor\n",
    "import qiskit.tools.jupyter"
   ]
  },
  {
   "cell_type": "markdown",
   "id": "04270ee4",
   "metadata": {},
   "source": [
    "# Provider and backends"
   ]
  },
  {
   "cell_type": "code",
   "execution_count": 2,
   "id": "c8e8466e",
   "metadata": {
    "ExecuteTime": {
     "end_time": "2021-12-28T16:38:03.564775Z",
     "start_time": "2021-12-28T16:37:57.679192Z"
    }
   },
   "outputs": [],
   "source": [
    "IBMQ.load_account()\n",
    "provider = IBMQ.get_provider(hub='ibm-q')"
   ]
  },
  {
   "cell_type": "code",
   "execution_count": 3,
   "id": "aabae4f5",
   "metadata": {
    "ExecuteTime": {
     "end_time": "2021-12-28T16:38:04.809058Z",
     "start_time": "2021-12-28T16:38:03.572012Z"
    }
   },
   "outputs": [],
   "source": [
    "backend_sim = Aer.get_backend('qasm_simulator')\n",
    "backend_qc = provider.get_backend('ibmq_manila')\n",
    "backend_qc_sim = QasmSimulator.from_backend(backend_qc)"
   ]
  },
  {
   "cell_type": "markdown",
   "id": "8588f1b3",
   "metadata": {},
   "source": [
    "# Quantum Tomography of 1 qubit"
   ]
  },
  {
   "cell_type": "markdown",
   "id": "6eeb05ad",
   "metadata": {},
   "source": [
    "Any 1 qubit state can be written in the form\n",
    "$$\n",
    "\\left\\vert \\psi\\right\\rangle =e^{i\\gamma}\\left(\\cos\\left(\\frac{\\theta}{2}\\right)\\left\\vert 0\\right\\rangle +\\sin\\left(\\frac{\\theta}{2}\\right)e^{i\\phi}\\left\\vert 1\\right\\rangle \\right)\n",
    "$$\n",
    "\n",
    "It is intuitive to see that having 3 free parameters makes sense,\n",
    "since we have 4 parameters (real and complex parts of each of the\n",
    "2 coefficients) but we also have the constraint of the state being\n",
    "normalized, which $\\left|\\alpha\\right|^{2}+\\left|\\beta\\right|^{2}=1$\n",
    "for a general case $\\left\\vert \\psi\\right\\rangle =\\alpha\\left\\vert 0\\right\\rangle +\\beta\\left\\vert 1\\right\\rangle $.\n",
    "However, the global phase should be completely irrelevant for any\n",
    "procedure, so now we'll show 3 tests that can be applied to a quantum\n",
    "state, provided that we can prepare a system in that state as many\n",
    "times as we want, and that enable us to determine $\\theta$ and $\\phi$\n",
    "to obtain:\n",
    "$$\n",
    "\\left\\vert \\psi\\right\\rangle =\\cos\\left(\\frac{\\theta}{2}\\right)\\left\\vert 0\\right\\rangle +\\sin\\left(\\frac{\\theta}{2}\\right)e^{i\\phi}\\left\\vert 1\\right\\rangle \n",
    "$$\n",
    "\n",
    "The intervals for each angle are $\\theta\\in\\left[0,\\pi\\right]$ and\n",
    "$\\phi\\in[-\\pi,\\pi)$.\n",
    "\n",
    "In this notebook we implement 3 test that can determine any 1 qubit state in this specific form."
   ]
  },
  {
   "cell_type": "markdown",
   "id": "9bf43adf",
   "metadata": {},
   "source": [
    "Let's generate a random 1 qubit state:"
   ]
  },
  {
   "cell_type": "code",
   "execution_count": 4,
   "id": "3cf9900f",
   "metadata": {
    "ExecuteTime": {
     "end_time": "2021-12-28T16:38:05.014254Z",
     "start_time": "2021-12-28T16:38:04.810157Z"
    }
   },
   "outputs": [
    {
     "data": {
      "image/png": "[encoded data removed]",
      "text/plain": [
       "<Figure size 253.926x84.28 with 1 Axes>"
      ]
     },
     "execution_count": 4,
     "metadata": {},
     "output_type": "execute_result"
    }
   ],
   "source": [
    "psi_circ = QuantumCircuit(1)\n",
    "tx, ty, tz = np.random.random(3)\n",
    "psi_circ.rx(tx, 0)\n",
    "psi_circ.ry(ty, 0)\n",
    "psi_circ.rz(tz, 0)\n",
    "psi_circ.draw()"
   ]
  },
  {
   "cell_type": "code",
   "execution_count": 5,
   "id": "8d67287b",
   "metadata": {
    "ExecuteTime": {
     "end_time": "2021-12-28T16:38:05.018237Z",
     "start_time": "2021-12-28T16:38:05.015355Z"
    }
   },
   "outputs": [],
   "source": [
    "psi = psi_circ.to_gate(label=r'$\\left\\vert \\psi\\right\\rangle$')"
   ]
  },
  {
   "cell_type": "code",
   "execution_count": 14,
   "id": "783dda80",
   "metadata": {
    "ExecuteTime": {
     "end_time": "2021-12-28T16:39:01.733439Z",
     "start_time": "2021-12-28T16:39:01.710645Z"
    }
   },
   "outputs": [
    {
     "name": "stdout",
     "output_type": "stream",
     "text": [
      "the canonical form of the state is [0.96741327+0.j         0.22537093-0.11541021j]\n"
     ]
    }
   ],
   "source": [
    "def state(tx, ty, tz):\n",
    "    c, s = np.cos(tx/2), np.sin(tx/2)\n",
    "    \n",
    "    rx = np.array([[    c, -1j*s],\n",
    "                   [-1j*s,     c]])\n",
    "    \n",
    "    c, s = np.cos(ty/2), np.sin(ty/2)\n",
    "    \n",
    "    ry = np.array([[    c,    -s],\n",
    "                   [    s,     c]])\n",
    "    \n",
    "    rz = np.array([[np.exp(-1j*tz/2),               0],\n",
    "                   [               0, np.exp(1j*tz/2)]])\n",
    "    return np.dot(rz @ ry @ rx, np.array([1, 0]))\n",
    "\n",
    "def canonical(s):\n",
    "    norm_a, norm_b = np.absolute(s)\n",
    "    theta_a, theta_b = np.angle(s)\n",
    "    phi = theta_b - theta_a\n",
    "    return np.array([norm_a, norm_b*np.exp(1j*phi)])\n",
    "\n",
    "state = canonical(state(tx, ty, tz))\n",
    "print(f'the canonical form of the state is {state}')"
   ]
  },
  {
   "cell_type": "markdown",
   "id": "10c97aae",
   "metadata": {},
   "source": [
    "## Test 1 - determine $\\theta$"
   ]
  },
  {
   "cell_type": "markdown",
   "id": "98e20a1f",
   "metadata": {},
   "source": [
    "The circuit for this test is:"
   ]
  },
  {
   "cell_type": "code",
   "execution_count": 7,
   "id": "84ba9c56",
   "metadata": {
    "ExecuteTime": {
     "end_time": "2021-12-28T16:38:05.171038Z",
     "start_time": "2021-12-28T16:38:05.026534Z"
    }
   },
   "outputs": [
    {
     "data": {
      "image/png": "[encoded data removed]",
      "text/plain": [
       "<Figure size 297.479x144.48 with 1 Axes>"
      ]
     },
     "execution_count": 7,
     "metadata": {},
     "output_type": "execute_result"
    }
   ],
   "source": [
    "test1 = QuantumCircuit(1)\n",
    "test1.compose(psi, inplace=True)\n",
    "test1.measure_all()\n",
    "test1.draw()"
   ]
  },
  {
   "cell_type": "markdown",
   "id": "d4231282",
   "metadata": {},
   "source": [
    "We know that the probabilities of measuring 0 and 1 ($P_{0}$ and\n",
    "$P_{1}$) are:\n",
    "$$\n",
    "\\begin{align*}\n",
    "P_{0} & =\\cos^{2}\\left(\\frac{\\theta}{2}\\right)\\\\\n",
    "P_{1} & =\\sin^{2}\\left(\\frac{\\theta}{2}\\right)\n",
    "\\end{align*}\n",
    "$$\n",
    "\n",
    "which gives us $\\frac{\\theta}{2}\\in\\left[0,\\frac{\\pi}{2}\\right]$:\n",
    "$$\n",
    "\\theta=2\\arccos\\left(\\sqrt{P_{0}}\\right)=2\\arcsin\\left(\\sqrt{P_{1}}\\right)\n",
    "$$\n",
    "\n",
    "If this experiments give $\\theta=0$ or $\\theta=\\pi$, we'll already\n",
    "know $\\left\\vert \\psi\\right\\rangle =\\left\\vert 1\\right\\rangle $ or\n",
    "$\\left\\vert \\psi\\right\\rangle =\\left\\vert 0\\right\\rangle $ respectively,\n",
    "so in that case we skip the next tests.\n"
   ]
  },
  {
   "cell_type": "markdown",
   "id": "d89097a9",
   "metadata": {},
   "source": [
    "## Test 2 - determine $\\left|\\phi\\right|$"
   ]
  },
  {
   "cell_type": "markdown",
   "id": "511859ec",
   "metadata": {
    "ExecuteTime": {
     "end_time": "2021-12-28T14:23:14.883573Z",
     "start_time": "2021-12-28T14:23:14.870830Z"
    }
   },
   "source": [
    "The circuit for this test is:"
   ]
  },
  {
   "cell_type": "code",
   "execution_count": 8,
   "id": "7d710048",
   "metadata": {
    "ExecuteTime": {
     "end_time": "2021-12-28T16:38:05.272239Z",
     "start_time": "2021-12-28T16:38:05.172345Z"
    }
   },
   "outputs": [
    {
     "data": {
      "image/png": "[encoded data removed]",
      "text/plain": [
       "<Figure size 357.679x144.48 with 1 Axes>"
      ]
     },
     "execution_count": 8,
     "metadata": {},
     "output_type": "execute_result"
    }
   ],
   "source": [
    "test2 = QuantumCircuit(1)\n",
    "test2.compose(psi, inplace=True)\n",
    "test2.h(0)\n",
    "test2.measure_all()\n",
    "test2.draw()"
   ]
  },
  {
   "cell_type": "markdown",
   "id": "160f24aa",
   "metadata": {},
   "source": [
    "The final state is:\n",
    "$$\n",
    "\\left\\vert \\psi_{1}\\right\\rangle=\\frac{1}{\\sqrt{2}}\\left[\\cos\\left(\\frac{\\theta}{2}\\right)+\\sin\\left(\\frac{\\theta}{2}\\right)e^{i\\phi}\\right]\\left\\vert 0\\right\\rangle +\\frac{1}{\\sqrt{2}}\\left[\\cos\\left(\\frac{\\theta}{2}\\right)-\\sin\\left(\\frac{\\theta}{2}\\right)e^{i\\phi}\\right]\\left\\vert 1\\right\\rangle \n",
    "$$\n",
    "\n",
    "which implies:\n",
    "\n",
    "\\begin{align*}\n",
    "P_{0} & =\\frac{1}{2}\\left[1+\\sin\\left(\\theta\\right)\\cos\\left(\\phi\\right)\\right] & P_{1} & =\\frac{1}{2}\\left[1-\\sin\\left(\\theta\\right)\\cos\\left(\\phi\\right)\\right]\n",
    "\\end{align*}\n",
    "\n",
    "We can manipulate this as\n",
    "\n",
    "$$ \\left|\\phi\\right| =\\left|\\arccos\\left(\\frac{P_{0}-P_{1}}{\\sin\\left(\\theta\\right)}\\right)\\right| $$\n"
   ]
  },
  {
   "cell_type": "markdown",
   "id": "7262ffac",
   "metadata": {},
   "source": [
    "## Test 3 - determine sign($\\phi$)"
   ]
  },
  {
   "cell_type": "markdown",
   "id": "47655253",
   "metadata": {},
   "source": [
    "The circuit for this test is:"
   ]
  },
  {
   "cell_type": "code",
   "execution_count": 9,
   "id": "79af04a6",
   "metadata": {
    "ExecuteTime": {
     "end_time": "2021-12-28T16:38:05.360847Z",
     "start_time": "2021-12-28T16:38:05.274298Z"
    }
   },
   "outputs": [
    {
     "data": {
      "image/png": "[encoded data removed]",
      "text/plain": [
       "<Figure size 417.879x144.48 with 1 Axes>"
      ]
     },
     "execution_count": 9,
     "metadata": {},
     "output_type": "execute_result"
    }
   ],
   "source": [
    "test3 = QuantumCircuit(1)\n",
    "test3.compose(psi, inplace=True)\n",
    "test3.sdg(0)\n",
    "test3.h(0)\n",
    "test3.measure_all()\n",
    "test3.draw()"
   ]
  },
  {
   "cell_type": "markdown",
   "id": "29dffabd",
   "metadata": {},
   "source": [
    "The final state is:\n",
    "\n",
    "$$\n",
    "\\left\\vert \\psi \\right\\rangle =\\frac{1}{\\sqrt{2}}\\left[\\cos\\left(\\frac{\\theta}{2}\\right)-i\\sin\\left(\\frac{\\theta}{2}\\right)e^{i\\phi}\\right]\\left\\vert 0\\right\\rangle +\\frac{1}{\\sqrt{2}}\\left[\\cos\\left(\\frac{\\theta}{2}\\right)+i\\sin\\left(\\frac{\\theta}{2}\\right)e^{i\\phi}\\right]\\left\\vert 1\\right\\rangle \n",
    "$$\n",
    "\n",
    "which implies:\n",
    "\n",
    "\\begin{align*}\n",
    "P_{0} & =\\frac{1}{2}\\left[1+\\sin\\left(\\theta\\right)\\sin\\left(\\phi\\right)\\right] & P_{1} & =\\frac{1}{2}\\left[1-\\sin\\left(\\theta\\right)\\sin\\left(\\phi\\right)\\right]\n",
    "\\end{align*}\n",
    "\n",
    "which can be combined to give\n",
    "\\begin{align*}\n",
    "\\sin\\left(\\phi\\right) & =\\frac{P_{0}-P_{1}}{\\sin\\left(\\theta\\right)}\\\\\n",
    "sign\\left(\\phi\\right) & =sign\\left(\\arcsin\\left(\\frac{P_{0}-P_{1}}{\\sin\\left(\\theta\\right)}\\right)\\right)\\\\\n",
    "sign\\left(\\phi\\right) & =sign\\left(P_{0}-P_{1}\\right)\n",
    "\\end{align*}\n",
    "\n",
    "where we used that the range of usual principal value or arcsin is\n",
    "$\\left[-\\frac{\\pi}{2},\\frac{\\pi}{2}\\right]$ and $\\sin\\left(\\theta\\right)>0\\,\\,\\forall\\theta\\in\\left(0,\\pi\\right)$.\n"
   ]
  },
  {
   "cell_type": "markdown",
   "id": "10c8a3f1",
   "metadata": {},
   "source": [
    "## Tomography function"
   ]
  },
  {
   "cell_type": "code",
   "execution_count": 37,
   "id": "a7de60cf",
   "metadata": {
    "ExecuteTime": {
     "end_time": "2021-12-28T16:44:49.146218Z",
     "start_time": "2021-12-28T16:44:49.129101Z"
    }
   },
   "outputs": [],
   "source": [
    "def tomography(all_counts):\n",
    "    counts1 = all_counts[0]\n",
    "    shots1 = sum(counts1.values())\n",
    "    \n",
    "    p1_0 = counts1.get('0', 0)/shots1\n",
    "    p1_1 = counts1.get('1', 0)/shots1\n",
    "    \n",
    "    norm0 = np.sqrt(p1_0)\n",
    "    norm1 = np.sqrt(p1_1)\n",
    "    \n",
    "    if abs(norm0) < 1e-12:\n",
    "        return np.array([0.0, 1.0])\n",
    "    if abs(norm1) < 1e-12:\n",
    "        return np.array([1.0, 0.0])\n",
    "    \n",
    "    counts2 = all_counts[1]\n",
    "    shots2 = sum(counts2.values())\n",
    "    \n",
    "    p2_0 = counts2.get('0', 0)/shots2\n",
    "    p2_1 = counts2.get('1', 0)/shots2\n",
    "    \n",
    "    theta = 2*np.arccos(np.sqrt(p1_0))\n",
    "    abs_phi = np.absolute(np.arccos((p2_0-p2_1) / np.sin(theta)))\n",
    "    \n",
    "    counts3 = all_counts[2]\n",
    "    shots3 = sum(counts3.values())\n",
    "    \n",
    "    p3_0 = counts3.get('0', 0)/shots3\n",
    "    p3_1 = counts3.get('1', 0)/shots3\n",
    "    \n",
    "    sign_phi = np.sign(p3_0 - p3_1)\n",
    "    \n",
    "    return np.array([norm0, norm1*np.exp(1j*sign_phi*abs_phi)])"
   ]
  },
  {
   "cell_type": "markdown",
   "id": "e47cebb3",
   "metadata": {},
   "source": [
    "## Running the tests"
   ]
  },
  {
   "cell_type": "code",
   "execution_count": 38,
   "id": "8b5457ba",
   "metadata": {
    "ExecuteTime": {
     "end_time": "2021-12-28T16:44:50.766486Z",
     "start_time": "2021-12-28T16:44:50.752811Z"
    }
   },
   "outputs": [
    {
     "data": {
      "text/plain": [
       "array([0.96741327+0.j        , 0.22537093-0.11541021j])"
      ]
     },
     "execution_count": 38,
     "metadata": {},
     "output_type": "execute_result"
    }
   ],
   "source": [
    "state"
   ]
  },
  {
   "cell_type": "code",
   "execution_count": 39,
   "id": "eaeafaa1",
   "metadata": {
    "ExecuteTime": {
     "end_time": "2021-12-28T16:44:52.035201Z",
     "start_time": "2021-12-28T16:44:51.289356Z"
    }
   },
   "outputs": [
    {
     "data": {
      "text/plain": [
       "array([0.96751078+0.j        , 0.22540568-0.11452144j])"
      ]
     },
     "execution_count": 39,
     "metadata": {},
     "output_type": "execute_result"
    }
   ],
   "source": [
    "job = execute([test1, test2, test3], backend=backend_sim, shots=2**18)\n",
    "tomography(job.result().get_counts())"
   ]
  },
  {
   "cell_type": "markdown",
   "id": "03b79466",
   "metadata": {},
   "source": [
    "We thus see that the theoretical state in canonical form and the state we determined through the 3 test are the same up to the 4th decimal place."
   ]
  },
  {
   "cell_type": "code",
   "execution_count": 12,
   "id": "913d96f6",
   "metadata": {
    "ExecuteTime": {
     "end_time": "2021-12-28T16:38:06.397590Z",
     "start_time": "2021-12-28T16:38:06.391814Z"
    }
   },
   "outputs": [
    {
     "data": {
      "text/html": [
       "<h3>Version Information</h3><table><tr><th>Qiskit Software</th><th>Version</th></tr><tr><td><code>qiskit-terra</code></td><td>0.19.1</td></tr><tr><td><code>qiskit-aer</code></td><td>0.10.1</td></tr><tr><td><code>qiskit-ignis</code></td><td>0.7.0</td></tr><tr><td><code>qiskit-ibmq-provider</code></td><td>0.18.3</td></tr><tr><td><code>qiskit</code></td><td>0.34.0</td></tr><tr><th>System information</th></tr><tr><td>Python version</td><td>3.9.9</td></tr><tr><td>Python compiler</td><td>GCC 11.1.0</td></tr><tr><td>Python build</td><td>main, Dec 22 2021 12:20:33</td></tr><tr><td>OS</td><td>Linux</td></tr><tr><td>CPUs</td><td>4</td></tr><tr><td>Memory (Gb)</td><td>15.44140625</td></tr><tr><td colspan='2'>Tue Dec 28 17:38:06 2021 +01</td></tr></table>"
      ],
      "text/plain": [
       "<IPython.core.display.HTML object>"
      ]
     },
     "metadata": {},
     "output_type": "display_data"
    }
   ],
   "source": [
    "%qiskit_version_table"
   ]
  }
 ],
 "metadata": {
  "kernelspec": {
   "display_name": "Python 3 (ipykernel)",
   "language": "python",
   "name": "python3"
  },
  "language_info": {
   "codemirror_mode": {
    "name": "ipython",
    "version": 3
   },
   "file_extension": ".py",
   "mimetype": "text/x-python",
   "name": "python",
   "nbconvert_exporter": "python",
   "pygments_lexer": "ipython3",
   "version": "3.9.9"
  },
  "varInspector": {
   "cols": {
    "lenName": 16,
    "lenType": 16,
    "lenVar": 40
   },
   "kernels_config": {
    "python": {
     "delete_cmd_postfix": "",
     "delete_cmd_prefix": "del ",
     "library": "var_list.py",
     "varRefreshCmd": "print(var_dic_list())"
    },
    "r": {
     "delete_cmd_postfix": ") ",
     "delete_cmd_prefix": "rm(",
     "library": "var_list.r",
     "varRefreshCmd": "cat(var_dic_list()) "
    }
   },
   "types_to_exclude": [
    "module",
    "function",
    "builtin_function_or_method",
    "instance",
    "_Feature"
   ],
   "window_display": false
  }
 },
 "nbformat": 4,
 "nbformat_minor": 5
}
